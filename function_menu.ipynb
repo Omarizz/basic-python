{
  "nbformat": 4,
  "nbformat_minor": 0,
  "metadata": {
    "colab": {
      "name": "function-menu.ipynb",
      "version": "0.3.2",
      "provenance": []
    },
    "kernelspec": {
      "name": "python3",
      "display_name": "Python 3"
    }
  },
  "cells": [
    {
      "metadata": {
        "id": "EQASlL3TctJF",
        "colab_type": "text"
      },
      "cell_type": "markdown",
      "source": [
        "# ฟังก์ชันหลักโปรแกรมไพธอน (Python Main Function)\n",
        "\n",
        "ลักษณะของฟังก์ชันหลักในโปรแกรมภาษาไพธอน แสดงดังต่อไปนี้\n",
        "\n",
        "\n"
      ]
    },
    {
      "metadata": {
        "id": "bs7nUxfpdufN",
        "colab_type": "text"
      },
      "cell_type": "markdown",
      "source": [
        "## ฟังก์ชันหลัก\n",
        "\n",
        "```\n",
        "\n",
        "def showInfo():\n",
        "    print('Welcome to Python world')\n",
        "\n",
        "def main():\n",
        "    print('python main function')\n",
        "    \n",
        "    # calling function showInfo()\n",
        "    showInfo()\n",
        "\n",
        "if __name__ == '__main__':\n",
        "    main()\n",
        "    \n",
        "```\n",
        "\n",
        "\n",
        "**จากตัวอย่างโปรแกรมข้างต้น**\n",
        "\n",
        "* โปรแกรมไพธอนจะทำงาน (Execute) โดยเริ่มจาก ```__name__``` โดยกำหนดค่าเป็น ```__main__``` และเรียกใช้ฟังก์ชัน main ดังนี้ ```main()```\n",
        "* จากนั้นโปรแกรมจะทำงานที่ฟังก์ชัน main() และทำคำสั่งที่อยู่ในฟังก์ชันตามลำดับ ได้แก่ ```print('python main function')``` และเรียกใช้ฟังก์ชัน ```showInfo()```\n",
        "* เมื่อเรียกใช้ฟังก์ชัน ```showInfo()``` ขั้นตอนถัดไปโปรแกรมจะข้ามไปทำงานที่ฟังก์ชัน ```showInfo()``` เพื่อทำคำสั่ง ```print('Welcome to Python world')```\n",
        "\n",
        "\n",
        "\n"
      ]
    },
    {
      "metadata": {
        "id": "ApGjxbfbgHBf",
        "colab_type": "code",
        "outputId": "fa978439-ebe4-4161-c9f6-6a306ccebd52",
        "colab": {
          "base_uri": "https://localhost:8080/",
          "height": 52
        }
      },
      "cell_type": "code",
      "source": [
        "def showInfo():\n",
        "    print('Welcome to Python world')\n",
        "\n",
        "def main():\n",
        "    print('python main function')\n",
        "    \n",
        "    # calling function showInfo()\n",
        "    showInfo()\n",
        "\n",
        "if __name__ == '__main__':\n",
        "    main()"
      ],
      "execution_count": 0,
      "outputs": [
        {
          "output_type": "stream",
          "text": [
            "python main function\n",
            "Welcome to Python world\n"
          ],
          "name": "stdout"
        }
      ]
    },
    {
      "metadata": {
        "id": "NjY907ULcf-w",
        "colab_type": "text"
      },
      "cell_type": "markdown",
      "source": [
        "# สร้างเมนูด้วยฟังก์ชัน (Creating a menu using function)\n",
        "การประยุกต์ใช้ function สำหรับสร้างเมนู (Menu)"
      ]
    },
    {
      "metadata": {
        "id": "MMf86Nv1cdmT",
        "colab_type": "code",
        "outputId": "de9c8209-137f-495b-884e-b5cee85f0cad",
        "colab": {
          "base_uri": "https://localhost:8080/",
          "height": 121
        }
      },
      "cell_type": "code",
      "source": [
        "def menu():\n",
        "  print('='*20)\n",
        "  print('Menu')\n",
        "  print('='*20)\n",
        "  print('1. show contact')\n",
        "  print('2. search contact')\n",
        "  print('3. exit program')\n",
        "  \n",
        "def main():\n",
        "  menu()\n",
        "  \n",
        "if __name__ == '__main__':\n",
        "  main()"
      ],
      "execution_count": 0,
      "outputs": [
        {
          "output_type": "stream",
          "text": [
            "====================\n",
            "Menu\n",
            "====================\n",
            "1. show contact\n",
            "2. search contact\n",
            "3. exit program\n"
          ],
          "name": "stdout"
        }
      ]
    },
    {
      "metadata": {
        "id": "Z937Vx27gm_o",
        "colab_type": "text"
      },
      "cell_type": "markdown",
      "source": [
        "จากตัวอย่างข้างต้น ได้สร้างฟังก์ชัน ```def menu()``` เพื่อใช้สำหรับแสดงเมนูของโปรแกรม ซึ่งประกอบด้วย  \n",
        "\n",
        "\n",
        "1.   show contact\n",
        "2.   search contact\n",
        "0.   exit program\n",
        "\n"
      ]
    },
    {
      "metadata": {
        "id": "gWz199ephXLC",
        "colab_type": "text"
      },
      "cell_type": "markdown",
      "source": [
        "## รับข้อมูลจากคีย์บอร์ด (Keyboard Input) \n",
        "การรับข้อมูลจากคีย์บอร์ดสามารถทำได้โดยใช้ฟังก์ชัน ```input()```"
      ]
    },
    {
      "metadata": {
        "id": "6QPe7WjOglpm",
        "colab_type": "code",
        "outputId": "2c16579c-7a20-4139-a7c1-8ed43be30547",
        "colab": {
          "base_uri": "https://localhost:8080/",
          "height": 52
        }
      },
      "cell_type": "code",
      "source": [
        "input('Please input no. 1-3! ')"
      ],
      "execution_count": 0,
      "outputs": [
        {
          "output_type": "stream",
          "text": [
            "Please input no. 1-3! 1\n"
          ],
          "name": "stdout"
        },
        {
          "output_type": "execute_result",
          "data": {
            "text/plain": [
              "'1'"
            ]
          },
          "metadata": {
            "tags": []
          },
          "execution_count": 18
        }
      ]
    },
    {
      "metadata": {
        "id": "Vp1W2Yxqin4j",
        "colab_type": "text"
      },
      "cell_type": "markdown",
      "source": [
        "เมื่อสั่งให้โปรแกรมทำงาน จะแสดงข้อความ ```Please input no.1-3``` และให้ผู้ใช้งานป้อนตัวเลข 1-3 ลงไปแล้วกดปุ่ม Enter\n"
      ]
    },
    {
      "metadata": {
        "id": "ExKS2oRCh4Rx",
        "colab_type": "code",
        "outputId": "8d298bcf-98e2-4544-c461-defd56770594",
        "colab": {
          "base_uri": "https://localhost:8080/",
          "height": 52
        }
      },
      "cell_type": "code",
      "source": [
        "no = input('Please entery no. 1-3! ')\n",
        "\n",
        "print('You enter no.', no)"
      ],
      "execution_count": 0,
      "outputs": [
        {
          "output_type": "stream",
          "text": [
            "Please entery no. 1-3! 1\n",
            "You enter no. 1\n"
          ],
          "name": "stdout"
        }
      ]
    },
    {
      "metadata": {
        "id": "o5XGky90j68f",
        "colab_type": "text"
      },
      "cell_type": "markdown",
      "source": [
        "จากโปรแกรมข้างต้น ได้สร้างตัวแปรชื่อ ```no``` ไว้เพื่อเป็นค่าที่ได้จากการป้อนด้วยคีย์บอร์ด และนำค่าที่ได้ไปแสดงผลด้วยคำสั่ง ```print```"
      ]
    },
    {
      "metadata": {
        "id": "AsjBbinpkd-N",
        "colab_type": "text"
      },
      "cell_type": "markdown",
      "source": [
        "จากนั้น ให้นำคำสั่ง ```input``` ไปวางไว้ในฟังก์ชัน ```menu()```\n",
        "\n",
        "```\n",
        "def menu():\n",
        "  print('='*20)\n",
        "  print('Menu')\n",
        "  print('='*20)\n",
        "  print('1. show contact')\n",
        "  print('2. search contact')\n",
        "  print('3. exit program')\n",
        "  \n",
        "  no = input('Please entery no. 1-3! ')\n",
        "  \n",
        "  \n",
        "```  "
      ]
    },
    {
      "metadata": {
        "id": "ossW1AaNiNzu",
        "colab_type": "code",
        "outputId": "cb8397e4-c9a7-401b-eeca-10fd74d1ecf8",
        "colab": {
          "base_uri": "https://localhost:8080/",
          "height": 160
        }
      },
      "cell_type": "code",
      "source": [
        "def menu():\n",
        "  print('='*20)\n",
        "  print('Menu')\n",
        "  print('='*20)\n",
        "  print('1. show contact')\n",
        "  print('2. search contact')\n",
        "  print('3. exit program')\n",
        "  \n",
        "  no = input('Please enter no. 1-3! ')\n",
        "  \n",
        "def main():\n",
        "  menu()\n",
        "  \n",
        "if __name__ == '__main__':\n",
        "  main()"
      ],
      "execution_count": 3,
      "outputs": [
        {
          "output_type": "stream",
          "text": [
            "====================\n",
            "Menu\n",
            "====================\n",
            "1. show contact\n",
            "2. search contact\n",
            "3. exit program\n",
            "Please enter no. 1-3! 1\n"
          ],
          "name": "stdout"
        }
      ]
    },
    {
      "metadata": {
        "id": "Tznd7Fj7My_S",
        "colab_type": "text"
      },
      "cell_type": "markdown",
      "source": [
        "* จากตัวอย่างข้างต้น เมื่อผู้ใช้ (user) ได้ป้อนตัวเลข **1** ลงไป ตัวเลข 1 จะถูกนำไปเก็บไว้ที่ตัวแปรชื่อ **no**\n",
        "* ในกรณีนี้สามารถตรวจสอบประเภทของตัวแปร **no** ว่าเป็นตัวแปรประเภทใด โดยใช้คำสั่ง **type()** ได้แก่\n",
        "``` \n",
        "print(type(no))\n",
        "```\n",
        "\n"
      ]
    },
    {
      "metadata": {
        "id": "jevdI5Z6lD3V",
        "colab_type": "code",
        "colab": {
          "base_uri": "https://localhost:8080/",
          "height": 78
        },
        "outputId": "8eba5307-4e30-43d2-e55f-aeb57e0933cd"
      },
      "cell_type": "code",
      "source": [
        "no = input('Please enter no. 1-3! ')\n",
        "\n",
        "print(type(no))"
      ],
      "execution_count": 6,
      "outputs": [
        {
          "output_type": "stream",
          "text": [
            "Please enter no. 1-3! 1\n",
            "<class 'str'>\n"
          ],
          "name": "stdout"
        }
      ]
    },
    {
      "metadata": {
        "id": "GMG9dv8VN4Kt",
        "colab_type": "text"
      },
      "cell_type": "markdown",
      "source": [
        "ตัวแปร **no** คือตัวแปรประเภท **str** ดังนั้น จึงต้องแปลงให้เป็นตัวเลข ซึ่งก็คือ **integer (int)** โดยการใช้ฟังก์ชัน **int()** จึงจะสามารถนำตัวแปร **no** ไปใช้ในการตรวจสอบต่อไปได้"
      ]
    },
    {
      "metadata": {
        "id": "MSu-8tiUNoNz",
        "colab_type": "code",
        "colab": {
          "base_uri": "https://localhost:8080/",
          "height": 78
        },
        "outputId": "003caf25-07ab-4457-8729-990c6a747d96"
      },
      "cell_type": "code",
      "source": [
        "no = int(input('Please enter no. 1-3! '))\n",
        "\n",
        "print(type(no))"
      ],
      "execution_count": 7,
      "outputs": [
        {
          "output_type": "stream",
          "text": [
            "Please enter no. 1-3! 1\n",
            "<class 'int'>\n"
          ],
          "name": "stdout"
        }
      ]
    },
    {
      "metadata": {
        "id": "O4DPrhqJPi44",
        "colab_type": "text"
      },
      "cell_type": "markdown",
      "source": [
        "* ตัวอย่างข้างต้น ได้แปลงให้ข้อมูลที่รับมาจากคีย์บอร์ดเป็น integer และเก็บไว้ที่ตัวแปร **no** ดังนั้นเมื่อแสดงค่า **type(no)** จึงแสดงออกมาเป็น  ```<class 'int' >```\n",
        "* จากนั้นสามารถนำตัวแปร **no** ไปใช้ในการตรวจสอบด้วยเงื่อนไข **if-else**"
      ]
    },
    {
      "metadata": {
        "id": "_P2y_rUoUILy",
        "colab_type": "text"
      },
      "cell_type": "markdown",
      "source": [
        "## การใช้เงื่อนไข if-else ในการตรวจสอบค่าที่รับจากคีย์บอร์ด\n"
      ]
    },
    {
      "metadata": {
        "id": "aggElA-wOTYq",
        "colab_type": "code",
        "colab": {
          "base_uri": "https://localhost:8080/",
          "height": 78
        },
        "outputId": "a7a361b2-f00d-480c-9c26-c495017fc165"
      },
      "cell_type": "code",
      "source": [
        "no = int(input('Please enter no. 1-3! '))\n",
        "\n",
        "if(no == 1):\n",
        "  print('show contact')\n",
        "elif(no == 2):\n",
        "  print('search contact')\n",
        "elif(no == 3):\n",
        "  print('exit program')"
      ],
      "execution_count": 10,
      "outputs": [
        {
          "output_type": "stream",
          "text": [
            "Please enter no. 1-3! 1\n",
            "show contact\n"
          ],
          "name": "stdout"
        }
      ]
    },
    {
      "metadata": {
        "id": "wBtXfr9aQsw0",
        "colab_type": "text"
      },
      "cell_type": "markdown",
      "source": [
        "จากตัวอย่างข้างต้นเมื่อเลือก **1** โปรแกรมจะทำตามเงื่อนไข \n",
        "```\n",
        "elif(no == 1):\n",
        "    print('show contact')\n",
        "```\n",
        "\n",
        "จึงทำให้แสดงข้อความ **show contact** ออกทางจอภาพ \n",
        "\n",
        "* ดังนั้น หากต้องการให้โปรแกรมทำตามเงื่อนไข เช่น ```show contact```  จะต้องสร้างเงื่อนไข เช่น สร้างฟังก์ชัน  ``` def show() ```  เพื่อใช้ในการแสดง contact เป็นต้น"
      ]
    },
    {
      "metadata": {
        "id": "0Dsz8htRQfxQ",
        "colab_type": "code",
        "colab": {}
      },
      "cell_type": "code",
      "source": [
        "contact = ['olarik', 'marco', 'lewis']\n",
        "\n",
        "def show():\n",
        "  for name in contact:\n",
        "    print(name)"
      ],
      "execution_count": 0,
      "outputs": []
    },
    {
      "metadata": {
        "id": "qJxn2T5DR-91",
        "colab_type": "text"
      },
      "cell_type": "markdown",
      "source": [
        "จากตัวอย่างข้างต้น \n",
        "* ได้สร้างตัวแปรชื่อ contact ซึ่งเป็นประเภท list และกำหนดให้ค่าของข้อมูลคือ\n",
        "```\n",
        "['olarik', 'marco', 'lewis']\n",
        "```\n",
        "* จากนั้นสร้างฟังก์ชันชื่อ ```show()``` เพื่อใช้แสดงข้อมูลที่อยู่ในตัวแปร contact\n",
        "```\n",
        "def show():\n",
        "    for name in contact:\n",
        "        print(name)\n",
        "```    \n",
        "* ในกรณีนี้ใช้ ```for-loop``` ในการแสดงผลข้อมูลที่อยู่ใน contact\n",
        "* การเรียกใช้งานฟังก์ชัน (calling function) สามารถทำได้โดยเรียกใช้ดังนี้ ```show()```"
      ]
    },
    {
      "metadata": {
        "id": "OWxq8xJ4R9Vq",
        "colab_type": "code",
        "colab": {
          "base_uri": "https://localhost:8080/",
          "height": 68
        },
        "outputId": "4e622695-44db-4936-9ffa-32b7b817f9f5"
      },
      "cell_type": "code",
      "source": [
        "contact = ['olarik', 'marco', 'lewis']\n",
        "\n",
        "def show():\n",
        "  for name in contact:\n",
        "    print(name)\n",
        "\n",
        "show()    "
      ],
      "execution_count": 12,
      "outputs": [
        {
          "output_type": "stream",
          "text": [
            "olarik\n",
            "marco\n",
            "lewis\n"
          ],
          "name": "stdout"
        }
      ]
    },
    {
      "metadata": {
        "id": "b0ZIHv3PTPZy",
        "colab_type": "text"
      },
      "cell_type": "markdown",
      "source": [
        "* สามารถนำโปรแกรมมารวมกัน ดังต่อไปนี้"
      ]
    },
    {
      "metadata": {
        "id": "zSrmTJ_QS54y",
        "colab_type": "code",
        "colab": {
          "base_uri": "https://localhost:8080/",
          "height": 102
        },
        "outputId": "e39fa8fc-13bf-4ecb-f740-dfa000525f21"
      },
      "cell_type": "code",
      "source": [
        "contact = ['olarik', 'marco', 'lewis']\n",
        "\n",
        "def show():\n",
        "  for name in contact:\n",
        "    print(name)\n",
        "    \n",
        "no = int(input('Please enter no. 1-3! '))\n",
        "\n",
        "if(no == 1):\n",
        "  print('show contact')\n",
        "  \n",
        "  #เรียกใช้ฟังก์ชัน show()\n",
        "  show()\n",
        "  \n",
        "elif(no == 2):\n",
        "  print('search contact')\n",
        "elif(no == 3):\n",
        "  print('exit program')"
      ],
      "execution_count": 13,
      "outputs": [
        {
          "output_type": "stream",
          "text": [
            "Please enter no. 1-3! 1\n",
            "show contact\n",
            "olarik\n",
            "marco\n",
            "lewis\n"
          ],
          "name": "stdout"
        }
      ]
    },
    {
      "metadata": {
        "id": "jMVvtJq4UhWM",
        "colab_type": "text"
      },
      "cell_type": "markdown",
      "source": [
        "* ในกรณีที่กดเลข **3** จะต้องออกจากโปรแกรม (exit program) สามารถทำได้โดยใช้คำสั่งดังต่อไปนี้\n",
        "\n",
        "```\n",
        "import sys\n",
        "\n",
        "sys.exit()\n",
        "```\n",
        "\n",
        "* ```import sys``` คือการนำเข้า (import) โมดูลที่ชื่อ ```sys``` ซึ่งก็คือ system\n",
        "* ดังนั้น จึงจะสามารถใช้คำสั่ง ```sys.exit()``` เพื่อให้ออกจากโปรแกรม \n",
        "* สามารถนำไปรวมในโปรแกรม ดังต่อไปนี้\n",
        "\n",
        "```\n",
        "import sys\n",
        "\n",
        "contact = ['olarik', 'marco', 'lewis']\n",
        "\n",
        "def show():\n",
        "  for name in contact:\n",
        "    print(name)\n",
        "    \n",
        "no = int(input('Please enter no. 1-3! '))\n",
        "\n",
        "if(no == 1):\n",
        "  print('show contact')\n",
        "  \n",
        "  #เรียกใช้ฟังก์ชัน show()\n",
        "  show()\n",
        "  \n",
        "elif(no == 2):\n",
        "  print('search contact')\n",
        "  \n",
        "elif(no == 3):\n",
        "  print('exit program')\n",
        "  sys.exit()\n",
        "  \n",
        "```\n"
      ]
    },
    {
      "metadata": {
        "id": "X8wY5OC5VbLn",
        "colab_type": "text"
      },
      "cell_type": "markdown",
      "source": [
        "* จากนั้น สามารถสร้างฟังก์ชัน search เพื่อใช้ในการค้นหาข้อมูลที่อยู่ใน list ต่อไป"
      ]
    },
    {
      "metadata": {
        "id": "NDuRb2LaVVVg",
        "colab_type": "code",
        "colab": {}
      },
      "cell_type": "code",
      "source": [
        ""
      ],
      "execution_count": 0,
      "outputs": []
    }
  ]
}