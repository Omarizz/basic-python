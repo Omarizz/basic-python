{
 "cells": [
  {
   "cell_type": "markdown",
   "metadata": {},
   "source": [
    "# List"
   ]
  },
  {
   "cell_type": "code",
   "execution_count": 32,
   "metadata": {},
   "outputs": [
    {
     "name": "stdout",
     "output_type": "stream",
     "text": [
      "type <type 'list'>\n",
      "len 3\n",
      "\n",
      "olarik\n",
      "suwich\n",
      "kaveepoj\n"
     ]
    }
   ],
   "source": [
    "list_1 = ['olarik', 'suwich', 'kaveepoj']\n",
    "\n",
    "print 'type', type(list_1)\n",
    "print 'len', len(list_1)\n",
    "print\n",
    "\n",
    "for i in list_1:\n",
    "    print i"
   ]
  },
  {
   "cell_type": "code",
   "execution_count": 48,
   "metadata": {},
   "outputs": [
    {
     "name": "stdout",
     "output_type": "stream",
     "text": [
      "type <type 'list'>\n",
      "len 3\n",
      "\n",
      "idx 0 olarik type <type 'str'>\n",
      "idx 1 0959678342 type <type 'str'>\n",
      "idx 2 2521 type <type 'int'>\n",
      "\n",
      "value: ['olarik', '0959678342', 2521]\n",
      "first value: olarik\n",
      "last value: 2521\n"
     ]
    }
   ],
   "source": [
    "list_2 = ['olarik', '0959678342', 2521]\n",
    "\n",
    "print 'type', type(list_2)\n",
    "print 'len', len(list_2)\n",
    "print\n",
    "\n",
    "# Accessing values in list\n",
    "for i in range(0, len(list_2)):\n",
    "    print 'idx', i, list_2[i], 'type', type(list_2[i])\n",
    "\n",
    "print\n",
    "print 'value:', list_2[0:len(list_2)]\n",
    "print 'first value:', list_2[0]\n",
    "print 'last value:', list_2[-1]"
   ]
  },
  {
   "cell_type": "markdown",
   "metadata": {},
   "source": [
    "# Update list"
   ]
  },
  {
   "cell_type": "code",
   "execution_count": 52,
   "metadata": {},
   "outputs": [
    {
     "name": "stdout",
     "output_type": "stream",
     "text": [
      "Old value at index 0: olarik\n",
      "New value at index 0: suwichai\n"
     ]
    }
   ],
   "source": [
    "#update list\n",
    "\n",
    "list_3 = ['olarik', 'suwich', 'kaveepoj']\n",
    "\n",
    "print 'Old value at index 0:', list_3[0]\n",
    "\n",
    "list_3[0] = 'suwichai'\n",
    "print 'New value at index 0:', list_3[0]"
   ]
  },
  {
   "cell_type": "markdown",
   "metadata": {},
   "source": [
    "# Delete list elements"
   ]
  },
  {
   "cell_type": "code",
   "execution_count": 57,
   "metadata": {},
   "outputs": [
    {
     "name": "stdout",
     "output_type": "stream",
     "text": [
      "Old list: ['olarik', 'suwich', 'kaveepoj']\n",
      "New list: ['suwich', 'kaveepoj']\n"
     ]
    }
   ],
   "source": [
    "list_4 = ['olarik', 'suwich', 'kaveepoj']\n",
    "print 'Old list:', list_4\n",
    "\n",
    "# delete at index 0\n",
    "del list_4[0]\n",
    "print 'New list:', list_4"
   ]
  },
  {
   "cell_type": "code",
   "execution_count": 73,
   "metadata": {},
   "outputs": [
    {
     "name": "stdout",
     "output_type": "stream",
     "text": [
      "Old list: ['olarik', 'suwich', 'kaveepoj']\n",
      "New list: ['suwich', 'kaveepoj']\n"
     ]
    }
   ],
   "source": [
    "list_4 = ['olarik', 'suwich', 'kaveepoj']\n",
    "print 'Old list:', list_4\n",
    "\n",
    "list_4.pop(0)\n",
    "print 'New list:', list_4"
   ]
  },
  {
   "cell_type": "code",
   "execution_count": 84,
   "metadata": {},
   "outputs": [
    {
     "name": "stdout",
     "output_type": "stream",
     "text": [
      "Old list: ['olarik', 'suwich', 'kaveepoj', 'kaveepoj']\n",
      "New list: ['olarik', 'suwich', 'kaveepoj']\n"
     ]
    }
   ],
   "source": [
    "list_4 = ['olarik', 'suwich', 'kaveepoj', 'kaveepoj']\n",
    "print 'Old list:', list_4\n",
    "\n",
    "# remove a specific element from the last index\n",
    "list_4.remove('kaveepoj')\n",
    "print 'New list:', list_4"
   ]
  },
  {
   "cell_type": "markdown",
   "metadata": {},
   "source": [
    "# Append list elements"
   ]
  },
  {
   "cell_type": "code",
   "execution_count": 75,
   "metadata": {},
   "outputs": [
    {
     "name": "stdout",
     "output_type": "stream",
     "text": [
      "Old list: ['olarik', 'suwich', 'kaveepoj']\n",
      "New list: ['olarik', 'suwich', 'kaveepoj', 'suwichai']\n"
     ]
    }
   ],
   "source": [
    "list_5 = ['olarik', 'suwich', 'kaveepoj']\n",
    "print 'Old list:', list_5\n",
    "\n",
    "list_5.append('suwichai')\n",
    "print 'New list:', list_5"
   ]
  },
  {
   "cell_type": "code",
   "execution_count": 76,
   "metadata": {},
   "outputs": [
    {
     "name": "stdout",
     "output_type": "stream",
     "text": [
      "Old list: ['olarik', 'suwich', 'kaveepoj']\n"
     ]
    },
    {
     "ename": "TypeError",
     "evalue": "append() takes exactly one argument (2 given)",
     "output_type": "error",
     "traceback": [
      "\u001b[0;31m---------------------------------------------------------------------------\u001b[0m",
      "\u001b[0;31mTypeError\u001b[0m                                 Traceback (most recent call last)",
      "\u001b[0;32m<ipython-input-76-550958db8a7c>\u001b[0m in \u001b[0;36m<module>\u001b[0;34m()\u001b[0m\n\u001b[1;32m      3\u001b[0m \u001b[0;34m\u001b[0m\u001b[0m\n\u001b[1;32m      4\u001b[0m \u001b[0;31m# append can add only one value\u001b[0m\u001b[0;34m\u001b[0m\u001b[0;34m\u001b[0m\u001b[0m\n\u001b[0;32m----> 5\u001b[0;31m \u001b[0mlist_5\u001b[0m\u001b[0;34m.\u001b[0m\u001b[0mappend\u001b[0m\u001b[0;34m(\u001b[0m\u001b[0;34m'suwichai'\u001b[0m\u001b[0;34m,\u001b[0m\u001b[0;34m'suwicha'\u001b[0m\u001b[0;34m)\u001b[0m\u001b[0;34m\u001b[0m\u001b[0m\n\u001b[0m\u001b[1;32m      6\u001b[0m \u001b[0;32mprint\u001b[0m \u001b[0;34m'New list:'\u001b[0m\u001b[0;34m,\u001b[0m \u001b[0mlist_5\u001b[0m\u001b[0;34m\u001b[0m\u001b[0m\n",
      "\u001b[0;31mTypeError\u001b[0m: append() takes exactly one argument (2 given)"
     ]
    }
   ],
   "source": [
    "list_5 = ['olarik', 'suwich', 'kaveepoj']\n",
    "print 'Old list:', list_5\n",
    "\n",
    "# append can add only one value\n",
    "list_5.append('suwichai','suwicha')\n",
    "print 'New list:', list_5"
   ]
  },
  {
   "cell_type": "code",
   "execution_count": 80,
   "metadata": {},
   "outputs": [
    {
     "name": "stdout",
     "output_type": "stream",
     "text": [
      "Old list: ['olarik', 'suwich', 'kaveepoj']\n",
      "New list: ['olarik', 'suwich', 'kaveepoj', 'suwichai', 'suwicha', 'jantima']\n"
     ]
    }
   ],
   "source": [
    "list_5 = ['olarik', 'suwich', 'kaveepoj']\n",
    "print 'Old list:', list_5\n",
    "\n",
    "# add two or more elements into list using 'extexd'\n",
    "list_5.extend(['suwichai','suwicha','jantima'])\n",
    "print 'New list:', list_5"
   ]
  },
  {
   "cell_type": "markdown",
   "metadata": {},
   "source": [
    "# Insert element in a specific index"
   ]
  },
  {
   "cell_type": "code",
   "execution_count": 82,
   "metadata": {},
   "outputs": [
    {
     "name": "stdout",
     "output_type": "stream",
     "text": [
      "Old list: ['olarik', 'suwich', 'kaveepoj']\n",
      "New list: ['suwicha', 'olarik', 'suwich', 'kaveepoj']\n",
      "New list: ['suwicha', 'jantima', 'olarik', 'suwich', 'kaveepoj']\n"
     ]
    }
   ],
   "source": [
    "list_6 = ['olarik', 'suwich', 'kaveepoj']\n",
    "print 'Old list:', list_6\n",
    "\n",
    "list_6.insert(0, 'suwicha')\n",
    "print 'New list:', list_6\n",
    "\n",
    "list_6.insert(1, 'jantima')\n",
    "print 'New list:', list_6"
   ]
  },
  {
   "cell_type": "markdown",
   "metadata": {},
   "source": [
    "# Reverse objects of list"
   ]
  },
  {
   "cell_type": "code",
   "execution_count": 87,
   "metadata": {},
   "outputs": [
    {
     "name": "stdout",
     "output_type": "stream",
     "text": [
      "Old list: ['olarik', 'suwich', 'kaveepoj']\n",
      "Reverse list: ['kaveepoj', 'suwich', 'olarik']\n"
     ]
    }
   ],
   "source": [
    "list_7 = ['olarik', 'suwich', 'kaveepoj']\n",
    "print 'Old list:', list_7\n",
    "\n",
    "list_7.reverse()\n",
    "print 'Reverse list:', list_7\n"
   ]
  },
  {
   "cell_type": "markdown",
   "metadata": {},
   "source": [
    "# Sort"
   ]
  },
  {
   "cell_type": "code",
   "execution_count": 97,
   "metadata": {},
   "outputs": [
    {
     "name": "stdout",
     "output_type": "stream",
     "text": [
      "Old list: [2, 4, 1, 3, 5]\n",
      "Sort list: [1, 2, 3, 4, 5]\n",
      "Sort list: [5, 4, 3, 2, 1]\n"
     ]
    }
   ],
   "source": [
    "list_8 = [2, 4, 1, 3, 5]\n",
    "print 'Old list:', list_8\n",
    "\n",
    "#sort min to max\n",
    "list_8.sort()\n",
    "print 'Sort list:', list_8\n",
    "\n",
    "#sort max to min\n",
    "list_8.sort(reverse=True)\n",
    "print 'Sort list:', list_8"
   ]
  },
  {
   "cell_type": "code",
   "execution_count": 1,
   "metadata": {},
   "outputs": [
    {
     "name": "stdout",
     "output_type": "stream",
     "text": [
      "Old list: [2, 4, 1, 3, 5, 'olarik', 'kaveepoj', 'jantima']\n",
      "Sort list: [1, 2, 3, 4, 5, 'jantima', 'kaveepoj', 'olarik']\n",
      "Sort list: ['olarik', 'kaveepoj', 'jantima', 5, 4, 3, 2, 1]\n"
     ]
    }
   ],
   "source": [
    "list_8 = [2, 4, 1, 3, 5, 'olarik', 'kaveepoj', 'jantima']\n",
    "print 'Old list:', list_8\n",
    "\n",
    "#sort min to max\n",
    "list_8.sort()\n",
    "print 'Sort list:', list_8\n",
    "\n",
    "list_8.sort(reverse=True)\n",
    "print 'Sort list:', list_8"
   ]
  },
  {
   "cell_type": "markdown",
   "metadata": {},
   "source": [
    "# 2D list"
   ]
  },
  {
   "cell_type": "code",
   "execution_count": 137,
   "metadata": {},
   "outputs": [
    {
     "name": "stdout",
     "output_type": "stream",
     "text": [
      "name: \t\t['olarik', 'suwich', 'kaveepoj', 'suwichai'] \n",
      "phone no: \t['0959678342', '0842147541', '0958412547', '0954123698']\n",
      "\n",
      "number of dimension 2\n",
      "number of element 4\n",
      "element of index 0:  ['olarik', 'suwich', 'kaveepoj', 'suwichai']\n",
      "element of index 1:  ['0959678342', '0842147541', '0958412547', '0954123698']\n",
      "\n",
      "show all element of index 0:  ['olarik', 'suwich', 'kaveepoj', 'suwichai']\n",
      "show first element of index 0:  olarik\n",
      "show last element of index 0:  suwichai\n",
      "show first 2 elements of index 0:  ['olarik', 'suwich']\n"
     ]
    }
   ],
   "source": [
    "list_9 = [['olarik', 'suwich', 'kaveepoj', 'suwichai'], ['0959678342', '0842147541', '0958412547', '0954123698']]\n",
    "\n",
    "print 'name: \\t\\t', list_9[0], '\\nphone no: \\t', list_9[1]\n",
    "print \n",
    "\n",
    "print 'number of dimension', len(list_9)\n",
    "print 'number of element', len(list_9[0])\n",
    "\n",
    "print 'element of index 0: ', list_9[0]\n",
    "print 'element of index 1: ', list_9[1]\n",
    "print\n",
    "\n",
    "print 'show all element of index 0: ', list_9[0][:]\n",
    "print 'show first element of index 0: ', list_9[0][0]\n",
    "print 'show last element of index 0: ', list_9[0][-1]\n",
    "print 'show first 2 elements of index 0: ', list_9[0][0:2]"
   ]
  },
  {
   "cell_type": "code",
   "execution_count": 138,
   "metadata": {},
   "outputs": [
    {
     "name": "stdout",
     "output_type": "stream",
     "text": [
      "['olarik', 'suwich', 'kaveepoj', 'suwichai']\n",
      "['0959678342', '0842147541', '0958412547', '0954123698']\n"
     ]
    }
   ],
   "source": [
    "for val in list_9:\n",
    "    print val"
   ]
  },
  {
   "cell_type": "code",
   "execution_count": 139,
   "metadata": {},
   "outputs": [
    {
     "name": "stdout",
     "output_type": "stream",
     "text": [
      "--------------------------\n",
      "Name \t\t Phone\n",
      "--------------------------\n",
      "olarik  \t0959678342\n",
      "suwich  \t0842147541\n",
      "kaveepoj  \t0958412547\n",
      "suwichai  \t0954123698\n",
      "--------------------------\n"
     ]
    }
   ],
   "source": [
    "print '-'*26\n",
    "print 'Name \\t\\t Phone'\n",
    "print '-'*26\n",
    "\n",
    "for i in range(0, len(list_9[0])):\n",
    "    print list_9[0][i], ' \\t', list_9[1][i]\n",
    "\n",
    "print '-'*26"
   ]
  },
  {
   "cell_type": "code",
   "execution_count": 140,
   "metadata": {},
   "outputs": [
    {
     "name": "stdout",
     "output_type": "stream",
     "text": [
      "Search a phone number, please enter a contact name: olarik\n",
      "\n",
      "---------------------------------------------\n",
      "We found a contact:  olarik \t0959678342\n",
      "---------------------------------------------\n"
     ]
    }
   ],
   "source": [
    "search_name = raw_input('Search a phone number, please enter a contact name: ')\n",
    "\n",
    "tmp_search = search_name in list_9[0]\n",
    "\n",
    "if(tmp_search):\n",
    "    idx = list_9[0].index(search_name)\n",
    "    print '\\n','-'*45\n",
    "    print 'We found a contact: ', list_9[0][idx], '\\t', list_9[1][idx]\n",
    "    print '-'*45\n",
    "else:\n",
    "    print '\\n','-'*45\n",
    "    print 'We not found \\'{}\\' in phone list'.format(search_name)\n",
    "    print '-'*45"
   ]
  },
  {
   "cell_type": "code",
   "execution_count": 141,
   "metadata": {},
   "outputs": [
    {
     "name": "stdout",
     "output_type": "stream",
     "text": [
      "Please enter contact name: oho\n",
      "Please enter contact number: 1234\n",
      "\n",
      "--------------------------\n",
      "Name \t\t Phone\n",
      "--------------------------\n",
      "olarik  \t0959678342\n",
      "suwich  \t0842147541\n",
      "kaveepoj  \t0958412547\n",
      "suwichai  \t0954123698\n",
      "oho  \t1234\n",
      "--------------------------\n"
     ]
    }
   ],
   "source": [
    "# Insert new contact into list\n",
    "contact_name = raw_input('Please enter contact name: ')\n",
    "contact_number = raw_input('Please enter contact number: ')\n",
    "\n",
    "#append\n",
    "list_9[0].append(contact_name)\n",
    "list_9[1].append(contact_number)\n",
    "\n",
    "print\n",
    "print '-'*26\n",
    "print 'Name \\t\\t Phone'\n",
    "print '-'*26\n",
    "\n",
    "for i in range(0, len(list_9[0])):\n",
    "    print list_9[0][i], ' \\t', list_9[1][i]\n",
    "\n",
    "print '-'*26"
   ]
  },
  {
   "cell_type": "code",
   "execution_count": 142,
   "metadata": {},
   "outputs": [
    {
     "name": "stdout",
     "output_type": "stream",
     "text": [
      "Please enter contact name that you want to remove: oho\n",
      "\n",
      "---------------------------------------------\n",
      "Removed contact name!!!  oho\n",
      "---------------------------------------------\n",
      "\n",
      "--------------------------\n",
      "Name \t\t Phone\n",
      "--------------------------\n",
      "olarik  \t0959678342\n",
      "suwich  \t0842147541\n",
      "kaveepoj  \t0958412547\n",
      "suwichai  \t0954123698\n",
      "--------------------------\n"
     ]
    }
   ],
   "source": [
    "# Delete specific contact from list\n",
    "\n",
    "search_name = raw_input('Please enter contact name that you want to remove: ')\n",
    "tmp_search = search_name in list_9[0]\n",
    "\n",
    "if(tmp_search):\n",
    "    idx = list_9[0].index(search_name)    \n",
    "    list_9[0].pop(idx)\n",
    "    list_9[1].pop(idx)\n",
    "    print '\\n','-'*45\n",
    "    print 'Removed contact name!!! ', search_name    \n",
    "    print '-'*45\n",
    "else:\n",
    "    print '\\n','-'*45\n",
    "    print 'We not found \\'{}\\' in phone list'.format(search_name)\n",
    "    print '-'*45    \n",
    "\n",
    "print\n",
    "print '-'*26\n",
    "print 'Name \\t\\t Phone'\n",
    "print '-'*26\n",
    "\n",
    "for i in range(0, len(list_9[0])):\n",
    "    print list_9[0][i], ' \\t', list_9[1][i]\n",
    "\n",
    "print '-'*26"
   ]
  },
  {
   "cell_type": "markdown",
   "metadata": {},
   "source": [
    "# exercise\n",
    "ให้สร้างโปรแกรมเพื่อจัดการข้อมูล Contact list ที่สมบูรณ์"
   ]
  },
  {
   "cell_type": "code",
   "execution_count": null,
   "metadata": {},
   "outputs": [],
   "source": []
  }
 ],
 "metadata": {
  "kernelspec": {
   "display_name": "Python 2",
   "language": "python",
   "name": "python2"
  },
  "language_info": {
   "codemirror_mode": {
    "name": "ipython",
    "version": 2
   },
   "file_extension": ".py",
   "mimetype": "text/x-python",
   "name": "python",
   "nbconvert_exporter": "python",
   "pygments_lexer": "ipython2",
   "version": "2.7.12"
  }
 },
 "nbformat": 4,
 "nbformat_minor": 2
}
