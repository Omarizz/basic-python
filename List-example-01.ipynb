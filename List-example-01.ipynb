{
 "cells": [
  {
   "cell_type": "markdown",
   "metadata": {},
   "source": [
    "# List"
   ]
  },
  {
   "cell_type": "markdown",
   "metadata": {},
   "source": [
    "## Create list"
   ]
  },
  {
   "cell_type": "code",
   "execution_count": 6,
   "metadata": {},
   "outputs": [
    {
     "name": "stdout",
     "output_type": "stream",
     "text": [
      "('type of contact_list', <type 'list'>)\n"
     ]
    }
   ],
   "source": [
    "contact_list = [['Olarik', '095xxxxxxx'], ['Marco', '087xxxxxxx'], ['Faik', '093xxxxxxx']] \n",
    "print('type of contact_list', type(contact_list))"
   ]
  },
  {
   "cell_type": "code",
   "execution_count": 7,
   "metadata": {},
   "outputs": [
    {
     "name": "stdout",
     "output_type": "stream",
     "text": [
      "('type of contact_list', <type 'list'>)\n"
     ]
    }
   ],
   "source": [
    "# Method 2\n",
    "contact_list = [('Olarik', '095xxxxxxx'), ('Marco', '087xxxxxxx'), ('Faik', '093xxxxxxx')] \n",
    "print('type of contact_list', type(contact_list))"
   ]
  },
  {
   "cell_type": "markdown",
   "metadata": {},
   "source": [
    "## Type of variable"
   ]
  },
  {
   "cell_type": "code",
   "execution_count": 8,
   "metadata": {},
   "outputs": [
    {
     "name": "stdout",
     "output_type": "stream",
     "text": [
      "('type of contact_list', <type 'list'>)\n"
     ]
    }
   ],
   "source": [
    "print('type of contact_list', type(contact_list))"
   ]
  },
  {
   "cell_type": "markdown",
   "metadata": {},
   "source": [
    "## Number of elements in list"
   ]
  },
  {
   "cell_type": "code",
   "execution_count": 15,
   "metadata": {},
   "outputs": [
    {
     "name": "stdout",
     "output_type": "stream",
     "text": [
      "('Number of elements', 3)\n"
     ]
    }
   ],
   "source": [
    "#print number of elements in list\n",
    "print('Number of elements', len(contact_list))"
   ]
  },
  {
   "cell_type": "markdown",
   "metadata": {},
   "source": [
    "## Print list elements"
   ]
  },
  {
   "cell_type": "code",
   "execution_count": 9,
   "metadata": {},
   "outputs": [
    {
     "name": "stdout",
     "output_type": "stream",
     "text": [
      "('Olarik', '095xxxxxxx')\n",
      "('Marco', '087xxxxxxx')\n",
      "('Faik', '093xxxxxxx')\n"
     ]
    }
   ],
   "source": [
    "for l in contact_list:\n",
    "    print(l)"
   ]
  },
  {
   "cell_type": "markdown",
   "metadata": {},
   "source": [
    "## Accessing list index"
   ]
  },
  {
   "cell_type": "code",
   "execution_count": 19,
   "metadata": {},
   "outputs": [
    {
     "name": "stdout",
     "output_type": "stream",
     "text": [
      "[('Olarik', '095xxxxxxx'), ('Marco', '087xxxxxxx'), ('Faik', '093xxxxxxx')]\n"
     ]
    }
   ],
   "source": [
    "# print all elements\n",
    "print(contact_list)"
   ]
  },
  {
   "cell_type": "code",
   "execution_count": 20,
   "metadata": {},
   "outputs": [
    {
     "name": "stdout",
     "output_type": "stream",
     "text": [
      "('Olarik', '095xxxxxxx')\n"
     ]
    }
   ],
   "source": [
    "# print first element\n",
    "print(contact_list[0])"
   ]
  },
  {
   "cell_type": "code",
   "execution_count": 21,
   "metadata": {},
   "outputs": [
    {
     "name": "stdout",
     "output_type": "stream",
     "text": [
      "('Faik', '093xxxxxxx')\n"
     ]
    }
   ],
   "source": [
    "# print last element\n",
    "print(contact_list[-1])"
   ]
  },
  {
   "cell_type": "code",
   "execution_count": 40,
   "metadata": {},
   "outputs": [
    {
     "name": "stdout",
     "output_type": "stream",
     "text": [
      "Olarik\n"
     ]
    }
   ],
   "source": [
    "# print first column of first row\n",
    "print(contact_list[0][0])   # row = 0, col = 0"
   ]
  },
  {
   "cell_type": "code",
   "execution_count": 41,
   "metadata": {},
   "outputs": [
    {
     "name": "stdout",
     "output_type": "stream",
     "text": [
      "095xxxxxxx\n"
     ]
    }
   ],
   "source": [
    "# print second column of first row\n",
    "print(contact_list[0][1])    # row = 0, col = 1"
   ]
  },
  {
   "cell_type": "markdown",
   "metadata": {},
   "source": [
    "### use ZIP function to print only first column"
   ]
  },
  {
   "cell_type": "code",
   "execution_count": 52,
   "metadata": {},
   "outputs": [],
   "source": [
    "show_name = zip(*contact_list)"
   ]
  },
  {
   "cell_type": "code",
   "execution_count": 53,
   "metadata": {},
   "outputs": [
    {
     "name": "stdout",
     "output_type": "stream",
     "text": [
      "('Olarik', 'Marco', 'Faik')\n"
     ]
    }
   ],
   "source": [
    "print(show_name[0])"
   ]
  },
  {
   "cell_type": "markdown",
   "metadata": {},
   "source": [
    "### use ZIP function to print only second column"
   ]
  },
  {
   "cell_type": "code",
   "execution_count": 47,
   "metadata": {},
   "outputs": [
    {
     "name": "stdout",
     "output_type": "stream",
     "text": [
      "('095xxxxxxx', '087xxxxxxx', '093xxxxxxx')\n"
     ]
    }
   ],
   "source": [
    "print(show_name[1])"
   ]
  },
  {
   "cell_type": "code",
   "execution_count": 49,
   "metadata": {},
   "outputs": [
    {
     "name": "stdout",
     "output_type": "stream",
     "text": [
      "[('Olarik', 'Marco', 'Faik'), ('095xxxxxxx', '087xxxxxxx', '093xxxxxxx')]\n"
     ]
    }
   ],
   "source": [
    "print(show_name)"
   ]
  },
  {
   "cell_type": "markdown",
   "metadata": {},
   "source": [
    "### other samples"
   ]
  },
  {
   "cell_type": "code",
   "execution_count": 54,
   "metadata": {},
   "outputs": [
    {
     "data": {
      "text/plain": [
       "['Olarik', 'Marco', 'Faik']"
      ]
     },
     "execution_count": 54,
     "metadata": {},
     "output_type": "execute_result"
    }
   ],
   "source": [
    "[name[0] for name in contact_list]"
   ]
  },
  {
   "cell_type": "code",
   "execution_count": 55,
   "metadata": {},
   "outputs": [
    {
     "data": {
      "text/plain": [
       "['095xxxxxxx', '087xxxxxxx', '093xxxxxxx']"
      ]
     },
     "execution_count": 55,
     "metadata": {},
     "output_type": "execute_result"
    }
   ],
   "source": [
    "[tel[1] for tel in contact_list]"
   ]
  },
  {
   "cell_type": "code",
   "execution_count": 56,
   "metadata": {},
   "outputs": [
    {
     "name": "stdout",
     "output_type": "stream",
     "text": [
      "['Olarik', 'Marco', 'Faik']\n"
     ]
    }
   ],
   "source": [
    "name = [n[0] for n in contact_list]\n",
    "\n",
    "print(name)"
   ]
  },
  {
   "cell_type": "markdown",
   "metadata": {},
   "source": [
    "## Format output"
   ]
  },
  {
   "cell_type": "code",
   "execution_count": 11,
   "metadata": {},
   "outputs": [
    {
     "name": "stdout",
     "output_type": "stream",
     "text": [
      "('Name: ', 'Olarik', 'Number: ', '095xxxxxxx')\n",
      "('Name: ', 'Marco', 'Number: ', '087xxxxxxx')\n",
      "('Name: ', 'Faik', 'Number: ', '093xxxxxxx')\n"
     ]
    }
   ],
   "source": [
    "for l in contact_list:\n",
    "    print('Name: ', l[0], 'Number: ', l[1])"
   ]
  },
  {
   "cell_type": "code",
   "execution_count": 13,
   "metadata": {},
   "outputs": [
    {
     "name": "stdout",
     "output_type": "stream",
     "text": [
      "Name: Olarik \t Number: 095xxxxxxx\n",
      "Name: Marco \t Number: 087xxxxxxx\n",
      "Name: Faik \t Number: 093xxxxxxx\n"
     ]
    }
   ],
   "source": [
    "for l in contact_list:\n",
    "    print('Name: {} \\t Number: {}' .format(l[0],l[1]))"
   ]
  },
  {
   "cell_type": "code",
   "execution_count": 14,
   "metadata": {},
   "outputs": [
    {
     "name": "stdout",
     "output_type": "stream",
     "text": [
      "Name: Olarik \t Number: 095xxxxxxx\n",
      "Name: Marco \t Number: 087xxxxxxx\n",
      "Name: Faik \t Number: 093xxxxxxx\n"
     ]
    }
   ],
   "source": [
    "for l in contact_list:\n",
    "    print('Name: %s \\t Number: %s' %(l[0],l[1]))"
   ]
  },
  {
   "cell_type": "markdown",
   "metadata": {},
   "source": [
    "## Search in list - method 1"
   ]
  },
  {
   "cell_type": "code",
   "execution_count": 94,
   "metadata": {
    "collapsed": true
   },
   "outputs": [],
   "source": [
    "contact_list = [['olarik', '095xxxxxxx'], ['marco', '087xxxxxxx'], ['olarik', '093xxxxxxx']] "
   ]
  },
  {
   "cell_type": "code",
   "execution_count": 95,
   "metadata": {},
   "outputs": [
    {
     "data": {
      "text/plain": [
       "False"
      ]
     },
     "execution_count": 95,
     "metadata": {},
     "output_type": "execute_result"
    }
   ],
   "source": [
    "search_name = 'olarik'\n",
    "\n",
    "search_name in contact_list"
   ]
  },
  {
   "cell_type": "code",
   "execution_count": 96,
   "metadata": {},
   "outputs": [
    {
     "data": {
      "text/plain": [
       "True"
      ]
     },
     "execution_count": 96,
     "metadata": {},
     "output_type": "execute_result"
    }
   ],
   "source": [
    "search_name = ['olarik', '095xxxxxxx']\n",
    "\n",
    "search_name in contact_list"
   ]
  },
  {
   "cell_type": "code",
   "execution_count": 97,
   "metadata": {},
   "outputs": [
    {
     "data": {
      "text/plain": [
       "True"
      ]
     },
     "execution_count": 97,
     "metadata": {},
     "output_type": "execute_result"
    }
   ],
   "source": [
    "search_name = 'olarik'\n",
    "\n",
    "search_name in contact_list[0]"
   ]
  },
  {
   "cell_type": "code",
   "execution_count": 98,
   "metadata": {},
   "outputs": [
    {
     "name": "stdout",
     "output_type": "stream",
     "text": [
      "('olarik', 'appear in index', [0, 2])\n"
     ]
    }
   ],
   "source": [
    "s_idx = []\n",
    "for idx, name in enumerate(contact_list):\n",
    "    if(search_name in name):\n",
    "        s_idx.append(idx)\n",
    "        \n",
    "print(search_name, 'appear in index', s_idx)"
   ]
  },
  {
   "cell_type": "code",
   "execution_count": 99,
   "metadata": {},
   "outputs": [
    {
     "name": "stdout",
     "output_type": "stream",
     "text": [
      "['olarik', '095xxxxxxx']\n",
      "['olarik', '093xxxxxxx']\n"
     ]
    }
   ],
   "source": [
    "for i in s_idx:\n",
    "    print(contact_list[i])"
   ]
  },
  {
   "cell_type": "markdown",
   "metadata": {},
   "source": [
    "## Search in list - method 2"
   ]
  },
  {
   "cell_type": "code",
   "execution_count": 121,
   "metadata": {
    "collapsed": true
   },
   "outputs": [],
   "source": [
    "contact_list = [['Olarik', '095xxxxxxx'], ['Olarik', '093xxxxxxx'], ['Marco', '087xxxxxxx']] \n",
    "#contact_list = [('Olarik', '095xxxxxxx'), ('Marco', '087xxxxxxx'), ('Faik', '093xxxxxxx')] "
   ]
  },
  {
   "cell_type": "code",
   "execution_count": 114,
   "metadata": {},
   "outputs": [
    {
     "name": "stdout",
     "output_type": "stream",
     "text": [
      "['Olarik', 'Olarik', 'Marco']\n"
     ]
    }
   ],
   "source": [
    "names = [n[0] for n in contact_list]\n",
    "print(names)"
   ]
  },
  {
   "cell_type": "code",
   "execution_count": 115,
   "metadata": {},
   "outputs": [
    {
     "name": "stdout",
     "output_type": "stream",
     "text": [
      "['olarik', 'olarik', 'marco']\n"
     ]
    }
   ],
   "source": [
    "names = [n[0].lower() for n in contact_list]\n",
    "print(names)"
   ]
  },
  {
   "cell_type": "code",
   "execution_count": 116,
   "metadata": {},
   "outputs": [
    {
     "data": {
      "text/plain": [
       "True"
      ]
     },
     "execution_count": 116,
     "metadata": {},
     "output_type": "execute_result"
    }
   ],
   "source": [
    "search_name = 'olarik'\n",
    "\n",
    "search_name in names"
   ]
  },
  {
   "cell_type": "code",
   "execution_count": 117,
   "metadata": {},
   "outputs": [
    {
     "name": "stdout",
     "output_type": "stream",
     "text": [
      "('olarik', 'appear in index', [0, 1])\n"
     ]
    }
   ],
   "source": [
    "s_idx = []\n",
    "for idx, name in enumerate(names):\n",
    "    if(search_name in name):\n",
    "        s_idx.append(idx)\n",
    "        \n",
    "print(search_name, 'appear in index', s_idx)"
   ]
  },
  {
   "cell_type": "code",
   "execution_count": 118,
   "metadata": {},
   "outputs": [
    {
     "name": "stdout",
     "output_type": "stream",
     "text": [
      "['Olarik', '095xxxxxxx']\n",
      "['Olarik', '093xxxxxxx']\n"
     ]
    }
   ],
   "source": [
    "for i in s_idx:\n",
    "    print(contact_list[i])"
   ]
  },
  {
   "cell_type": "markdown",
   "metadata": {},
   "source": [
    "## Search substring"
   ]
  },
  {
   "cell_type": "code",
   "execution_count": 150,
   "metadata": {
    "collapsed": true
   },
   "outputs": [],
   "source": [
    "contact_list = [['Olarik', '095xxxxxxx'], ['marvin', '093xxxxxxx'], ['Marco', '087xxxxxxx']] "
   ]
  },
  {
   "cell_type": "code",
   "execution_count": 151,
   "metadata": {},
   "outputs": [
    {
     "name": "stdout",
     "output_type": "stream",
     "text": [
      "['olarik', 'marvin', 'marco']\n"
     ]
    }
   ],
   "source": [
    "names = [n[0].lower() for n in contact_list]\n",
    "print(names)"
   ]
  },
  {
   "cell_type": "code",
   "execution_count": 152,
   "metadata": {
    "collapsed": true
   },
   "outputs": [],
   "source": [
    "search_name = 'mar'"
   ]
  },
  {
   "cell_type": "code",
   "execution_count": 153,
   "metadata": {},
   "outputs": [
    {
     "name": "stdout",
     "output_type": "stream",
     "text": [
      "('mar', 'appear in index', [1, 2])\n"
     ]
    }
   ],
   "source": [
    "s_idx = []\n",
    "for idx, name in enumerate(names):\n",
    "    if(search_name in name):\n",
    "        s_idx.append(idx)\n",
    "        \n",
    "print(search_name, 'appear in index', s_idx)"
   ]
  },
  {
   "cell_type": "code",
   "execution_count": 154,
   "metadata": {},
   "outputs": [
    {
     "name": "stdout",
     "output_type": "stream",
     "text": [
      "('Search result for ', 'mar')\n",
      "['marvin', '093xxxxxxx']\n",
      "['Marco', '087xxxxxxx']\n"
     ]
    }
   ],
   "source": [
    "print('Search result for ', search_name)\n",
    "for i in s_idx:\n",
    "    print(contact_list[i])"
   ]
  },
  {
   "cell_type": "markdown",
   "metadata": {},
   "source": [
    "## Sort"
   ]
  },
  {
   "cell_type": "code",
   "execution_count": 167,
   "metadata": {},
   "outputs": [
    {
     "name": "stdout",
     "output_type": "stream",
     "text": [
      "<type 'list'>\n"
     ]
    }
   ],
   "source": [
    "name = ['olarik', 'marco', 'marvin', 'faik']\n",
    "print(type(name))"
   ]
  },
  {
   "cell_type": "code",
   "execution_count": 170,
   "metadata": {},
   "outputs": [
    {
     "name": "stdout",
     "output_type": "stream",
     "text": [
      "['faik', 'marco', 'marvin', 'olarik']\n"
     ]
    }
   ],
   "source": [
    "#sort\n",
    "name.sort()\n",
    "\n",
    "print(name)"
   ]
  },
  {
   "cell_type": "code",
   "execution_count": 171,
   "metadata": {},
   "outputs": [
    {
     "name": "stdout",
     "output_type": "stream",
     "text": [
      "['olarik', 'marvin', 'marco', 'faik']\n"
     ]
    }
   ],
   "source": [
    "name.sort(reverse=True)\n",
    "print(name)"
   ]
  },
  {
   "cell_type": "markdown",
   "metadata": {},
   "source": [
    "## Sort 2D list"
   ]
  },
  {
   "cell_type": "code",
   "execution_count": 182,
   "metadata": {
    "collapsed": true
   },
   "outputs": [],
   "source": [
    "# https://www.geeksforgeeks.org/python-list-sort/\n",
    "# function to return the second element of the \n",
    "# two elements passed as the paramater \n",
    "def sortSecond(val): \n",
    "    return val[0]  "
   ]
  },
  {
   "cell_type": "code",
   "execution_count": 183,
   "metadata": {
    "collapsed": true
   },
   "outputs": [],
   "source": [
    "contact_list = [('Olarik', '095xxxxxxx'), ('Marco', '087xxxxxxx'), ('Faik', '093xxxxxxx')] "
   ]
  },
  {
   "cell_type": "code",
   "execution_count": 184,
   "metadata": {},
   "outputs": [
    {
     "name": "stdout",
     "output_type": "stream",
     "text": [
      "[('Faik', '093xxxxxxx'), ('Marco', '087xxxxxxx'), ('Olarik', '095xxxxxxx')]\n"
     ]
    }
   ],
   "source": [
    "contact_list.sort(key = sortSecond)\n",
    "print(contact_list)"
   ]
  },
  {
   "cell_type": "code",
   "execution_count": 185,
   "metadata": {},
   "outputs": [
    {
     "name": "stdout",
     "output_type": "stream",
     "text": [
      "[('Olarik', '095xxxxxxx'), ('Marco', '087xxxxxxx'), ('Faik', '093xxxxxxx')]\n"
     ]
    }
   ],
   "source": [
    "contact_list.sort(key = sortSecond, reverse = True)\n",
    "print(contact_list)"
   ]
  },
  {
   "cell_type": "markdown",
   "metadata": {},
   "source": [
    "## Add new list element"
   ]
  },
  {
   "cell_type": "code",
   "execution_count": 186,
   "metadata": {
    "collapsed": true
   },
   "outputs": [],
   "source": [
    "contact_list = [('Olarik', '095xxxxxxx'), ('Marco', '087xxxxxxx'), ('Faik', '093xxxxxxx')] "
   ]
  },
  {
   "cell_type": "code",
   "execution_count": 187,
   "metadata": {
    "collapsed": true
   },
   "outputs": [],
   "source": [
    "new_name = 'Marvin'\n",
    "new_number = '087xxxxxxx'"
   ]
  },
  {
   "cell_type": "code",
   "execution_count": 188,
   "metadata": {
    "collapsed": true
   },
   "outputs": [],
   "source": [
    "# append = add new element\n",
    "contact_list.append((new_name, new_number))"
   ]
  },
  {
   "cell_type": "code",
   "execution_count": 189,
   "metadata": {},
   "outputs": [
    {
     "name": "stdout",
     "output_type": "stream",
     "text": [
      "[('Olarik', '095xxxxxxx'), ('Marco', '087xxxxxxx'), ('Faik', '093xxxxxxx'), ('Marvin', '087xxxxxxx')]\n"
     ]
    }
   ],
   "source": [
    "print(contact_list)"
   ]
  },
  {
   "cell_type": "code",
   "execution_count": 190,
   "metadata": {},
   "outputs": [
    {
     "name": "stdout",
     "output_type": "stream",
     "text": [
      "[('Faik', '093xxxxxxx'), ('Marco', '087xxxxxxx'), ('Marvin', '087xxxxxxx'), ('Olarik', '095xxxxxxx')]\n"
     ]
    }
   ],
   "source": [
    "contact_list.sort(key = sortSecond)\n",
    "print(contact_list)"
   ]
  },
  {
   "cell_type": "code",
   "execution_count": 191,
   "metadata": {},
   "outputs": [
    {
     "name": "stdout",
     "output_type": "stream",
     "text": [
      "[('Olarik', '095xxxxxxx'), ('Marvin', '087xxxxxxx'), ('Marco', '087xxxxxxx'), ('Faik', '093xxxxxxx')]\n"
     ]
    }
   ],
   "source": [
    "contact_list.sort(key = sortSecond, reverse=True)\n",
    "print(contact_list)"
   ]
  },
  {
   "cell_type": "markdown",
   "metadata": {},
   "source": [
    "## Delete list element"
   ]
  },
  {
   "cell_type": "code",
   "execution_count": 257,
   "metadata": {},
   "outputs": [],
   "source": [
    "contact_list = [('Olarik', '095xxxxxxx'), ('Marco', '087xxxxxxx'), ('Faik', '093xxxxxxx'), ['olarik', '096xxxxxxx']] "
   ]
  },
  {
   "cell_type": "code",
   "execution_count": 258,
   "metadata": {},
   "outputs": [
    {
     "name": "stdout",
     "output_type": "stream",
     "text": [
      "['olarik', 'marco', 'faik', 'olarik']\n"
     ]
    }
   ],
   "source": [
    "names = [n[0].lower() for n in contact_list]\n",
    "print(names)"
   ]
  },
  {
   "cell_type": "code",
   "execution_count": 259,
   "metadata": {},
   "outputs": [
    {
     "name": "stdout",
     "output_type": "stream",
     "text": [
      "('ola', 'appear in index', [3, 0])\n"
     ]
    }
   ],
   "source": [
    "search_name = 'ola'\n",
    "\n",
    "s_idx = []\n",
    "for idx, name in enumerate(names):\n",
    "    if(search_name in name):\n",
    "        s_idx.append(idx)\n",
    "\n",
    "s_idx.sort(reverse=True)        \n",
    "print(search_name, 'appear in index', s_idx)"
   ]
  },
  {
   "cell_type": "code",
   "execution_count": 260,
   "metadata": {},
   "outputs": [
    {
     "name": "stdout",
     "output_type": "stream",
     "text": [
      "['olarik', '096xxxxxxx']\n",
      "('Olarik', '095xxxxxxx')\n"
     ]
    }
   ],
   "source": [
    "for i in s_idx:\n",
    "    print(contact_list[i])"
   ]
  },
  {
   "cell_type": "code",
   "execution_count": 261,
   "metadata": {},
   "outputs": [
    {
     "name": "stdout",
     "output_type": "stream",
     "text": [
      "['olarik', '096xxxxxxx']\n",
      "Do you want to delete (y/n)? n\n",
      "This contact is not delete!!!\n",
      "\n",
      "('Olarik', '095xxxxxxx')\n",
      "Do you want to delete (y/n)? y\n",
      "Delete success!!!\n",
      "\n",
      "Show Updated contact list\n",
      "Name: Marco \t Number: 087xxxxxxx\n",
      "Name: Faik \t Number: 093xxxxxxx\n",
      "Name: olarik \t Number: 096xxxxxxx\n"
     ]
    }
   ],
   "source": [
    "for i in s_idx:\n",
    "    print(contact_list[i])\n",
    "    ans = raw_input('Do you want to delete (y/n)? ')\n",
    "    if(ans == 'y'):\n",
    "        contact_list.pop(i)\n",
    "        print('Delete success!!!\\n')\n",
    "    else:\n",
    "        print('This contact is not delete!!!\\n')\n",
    "\n",
    "print('Show Updated contact list')        \n",
    "for l in contact_list:\n",
    "    print('Name: %s \\t Number: %s' %(l[0],l[1]))"
   ]
  },
  {
   "cell_type": "markdown",
   "metadata": {},
   "source": [
    "## Save list to pickle file "
   ]
  },
  {
   "cell_type": "code",
   "execution_count": 267,
   "metadata": {
    "collapsed": true
   },
   "outputs": [],
   "source": [
    "import pickle\n",
    "\n",
    "pickle_file = 'contact_list'"
   ]
  },
  {
   "cell_type": "code",
   "execution_count": 268,
   "metadata": {
    "collapsed": true
   },
   "outputs": [],
   "source": [
    "with open(pickle_file, 'wb') as fp:\n",
    "    pickle.dump(contact_list, fp)"
   ]
  },
  {
   "cell_type": "code",
   "execution_count": 269,
   "metadata": {},
   "outputs": [
    {
     "name": "stdout",
     "output_type": "stream",
     "text": [
      "(lp0\r\n",
      "(S'Marco'\r\n",
      "p1\r\n",
      "S'087xxxxxxx'\r\n",
      "p2\r\n",
      "tp3\r\n",
      "a(S'Faik'\r\n",
      "p4\r\n",
      "S'093xxxxxxx'\r\n",
      "p5\r\n",
      "tp6\r\n",
      "a(lp7\r\n",
      "S'olarik'\r\n",
      "p8\r\n",
      "aS'096xxxxxxx'\r\n",
      "p9\r\n",
      "aa."
     ]
    }
   ],
   "source": [
    "! cat contact_list"
   ]
  },
  {
   "cell_type": "markdown",
   "metadata": {},
   "source": [
    "### Read pickle file"
   ]
  },
  {
   "cell_type": "code",
   "execution_count": 270,
   "metadata": {
    "collapsed": true
   },
   "outputs": [],
   "source": [
    "with open (pickle_file, 'rb') as fp:\n",
    "    contact_list = pickle.load(fp)"
   ]
  },
  {
   "cell_type": "code",
   "execution_count": 271,
   "metadata": {},
   "outputs": [
    {
     "name": "stdout",
     "output_type": "stream",
     "text": [
      "<type 'list'>\n"
     ]
    }
   ],
   "source": [
    "print(type(contact_list))"
   ]
  },
  {
   "cell_type": "code",
   "execution_count": 272,
   "metadata": {},
   "outputs": [
    {
     "name": "stdout",
     "output_type": "stream",
     "text": [
      "Show Updated contact list\n",
      "Name: Marco \t Number: 087xxxxxxx\n",
      "Name: Faik \t Number: 093xxxxxxx\n",
      "Name: olarik \t Number: 096xxxxxxx\n"
     ]
    }
   ],
   "source": [
    "print('Show Updated contact list')        \n",
    "for l in contact_list:\n",
    "    print('Name: %s \\t Number: %s' %(l[0],l[1]))"
   ]
  },
  {
   "cell_type": "markdown",
   "metadata": {},
   "source": [
    "# Save list to json file"
   ]
  },
  {
   "cell_type": "code",
   "execution_count": 273,
   "metadata": {
    "collapsed": true
   },
   "outputs": [],
   "source": [
    "import json\n",
    "\n",
    "json_file = 'contact_list_json.txt'\n",
    "with open(json_file, 'w') as f:\n",
    "    f.write(json.dumps(contact_list))"
   ]
  },
  {
   "cell_type": "code",
   "execution_count": 280,
   "metadata": {},
   "outputs": [
    {
     "name": "stdout",
     "output_type": "stream",
     "text": [
      "[[\"Marco\", \"087xxxxxxx\"], [\"Faik\", \"093xxxxxxx\"], [\"olarik\", \"096xxxxxxx\"]]"
     ]
    }
   ],
   "source": [
    "! cat contact_list_json.txt"
   ]
  },
  {
   "cell_type": "markdown",
   "metadata": {},
   "source": [
    "### Read json file"
   ]
  },
  {
   "cell_type": "code",
   "execution_count": 281,
   "metadata": {
    "collapsed": true
   },
   "outputs": [],
   "source": [
    "#Now read the file back into a Python list object\n",
    "with open(json_file, 'r') as f:\n",
    "    contact_list = json.loads(f.read())"
   ]
  },
  {
   "cell_type": "code",
   "execution_count": 282,
   "metadata": {},
   "outputs": [
    {
     "name": "stdout",
     "output_type": "stream",
     "text": [
      "Show Updated contact list\n",
      "Name: Marco \t Number: 087xxxxxxx\n",
      "Name: Faik \t Number: 093xxxxxxx\n",
      "Name: olarik \t Number: 096xxxxxxx\n"
     ]
    }
   ],
   "source": [
    "print('Show Updated contact list')        \n",
    "for l in contact_list:\n",
    "    print('Name: %s \\t Number: %s' %(l[0],l[1]))"
   ]
  },
  {
   "cell_type": "markdown",
   "metadata": {},
   "source": [
    "## Python web ide "
   ]
  },
  {
   "cell_type": "markdown",
   "metadata": {},
   "source": [
    "# https://ide.geeksforgeeks.org/index.php"
   ]
  }
 ],
 "metadata": {
  "kernelspec": {
   "display_name": "Python 2",
   "language": "python",
   "name": "python2"
  },
  "language_info": {
   "codemirror_mode": {
    "name": "ipython",
    "version": 2
   },
   "file_extension": ".py",
   "mimetype": "text/x-python",
   "name": "python",
   "nbconvert_exporter": "python",
   "pygments_lexer": "ipython2",
   "version": "2.7.12"
  }
 },
 "nbformat": 4,
 "nbformat_minor": 2
}
