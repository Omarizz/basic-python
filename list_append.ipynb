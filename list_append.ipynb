{
  "nbformat": 4,
  "nbformat_minor": 0,
  "metadata": {
    "colab": {
      "name": "list-append.ipynb",
      "version": "0.3.2",
      "provenance": []
    },
    "kernelspec": {
      "name": "python3",
      "display_name": "Python 3"
    }
  },
  "cells": [
    {
      "metadata": {
        "id": "5QzFLF2tPMJ2",
        "colab_type": "text"
      },
      "cell_type": "markdown",
      "source": [
        "# การเพิ่มข้อมูลใน list\n",
        "สามารถเพิ่มข้อมูลเข้าไปในตัวแปรประเภท list โดยการใช้คำสั่ง **append**\n"
      ]
    },
    {
      "metadata": {
        "id": "pVAUSQRFPDxa",
        "colab_type": "code",
        "colab": {}
      },
      "cell_type": "code",
      "source": [
        "# สร้าง list ว่าง\n",
        "name_list = []"
      ],
      "execution_count": 0,
      "outputs": []
    },
    {
      "metadata": {
        "id": "J27KZdJFPebB",
        "colab_type": "code",
        "colab": {
          "base_uri": "https://localhost:8080/",
          "height": 34
        },
        "outputId": "22dda726-227b-42cc-8189-af989744dbb7"
      },
      "cell_type": "code",
      "source": [
        "# แสดงข้อมูลที่อยู่ใน list\n",
        "print(name_list)"
      ],
      "execution_count": 4,
      "outputs": [
        {
          "output_type": "stream",
          "text": [
            "[]\n"
          ],
          "name": "stdout"
        }
      ]
    },
    {
      "metadata": {
        "id": "rdhpqjm2Pjr2",
        "colab_type": "code",
        "colab": {
          "base_uri": "https://localhost:8080/",
          "height": 34
        },
        "outputId": "4e271057-ef91-4370-add8-f4452ade307c"
      },
      "cell_type": "code",
      "source": [
        "# นับจำนวนสมาชิกใน list\n",
        "print(len(name_list))"
      ],
      "execution_count": 5,
      "outputs": [
        {
          "output_type": "stream",
          "text": [
            "0\n"
          ],
          "name": "stdout"
        }
      ]
    },
    {
      "metadata": {
        "id": "gPhiriXnPvTG",
        "colab_type": "code",
        "colab": {}
      },
      "cell_type": "code",
      "source": [
        "# เพิ่มข้อมูลลงไปใน list โดยใช้คำสั่ง append\n",
        "name_list.append('Olarik')\n",
        "name_list.append('Marco')\n",
        "name_list.append('Lewis')"
      ],
      "execution_count": 0,
      "outputs": []
    },
    {
      "metadata": {
        "id": "FwdegAhtP0X8",
        "colab_type": "code",
        "colab": {
          "base_uri": "https://localhost:8080/",
          "height": 34
        },
        "outputId": "409c396b-969b-462c-bba4-1591320108b5"
      },
      "cell_type": "code",
      "source": [
        "print(name_list)"
      ],
      "execution_count": 13,
      "outputs": [
        {
          "output_type": "stream",
          "text": [
            "['Olarik', 'Marco', 'Lewis']\n"
          ],
          "name": "stdout"
        }
      ]
    },
    {
      "metadata": {
        "id": "GvcT9K2TP688",
        "colab_type": "code",
        "colab": {
          "base_uri": "https://localhost:8080/",
          "height": 102
        },
        "outputId": "40cf84f6-dc0d-4e75-c0ed-ef86b1b361ab"
      },
      "cell_type": "code",
      "source": [
        "# แสดงข้อมูลใน list โดยใช้ for-loop\n",
        "print('Name')\n",
        "print('='*10)\n",
        "for name in name_list:\n",
        "  print(name)"
      ],
      "execution_count": 14,
      "outputs": [
        {
          "output_type": "stream",
          "text": [
            "Name\n",
            "==========\n",
            "Olarik\n",
            "Marco\n",
            "Lewis\n"
          ],
          "name": "stdout"
        }
      ]
    },
    {
      "metadata": {
        "id": "SNq4FEH3QEMj",
        "colab_type": "code",
        "colab": {}
      },
      "cell_type": "code",
      "source": [
        ""
      ],
      "execution_count": 0,
      "outputs": []
    }
  ]
}