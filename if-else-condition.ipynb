{
  "nbformat": 4,
  "nbformat_minor": 0,
  "metadata": {
    "colab": {
      "name": "if-else-condition.ipynb",
      "version": "0.3.2",
      "provenance": []
    },
    "kernelspec": {
      "name": "python3",
      "display_name": "Python 3"
    }
  },
  "cells": [
    {
      "metadata": {
        "id": "p8x_F6Ib7EhO",
        "colab_type": "text"
      },
      "cell_type": "markdown",
      "source": [
        "## if-else condition  \n",
        "เงื่อนไขของ **if** จะทำงานก็ต่อเมื่อตรวจสอบเงื่อนไขแล้วเป็นจริง (True) ดังนั้น หากเงื่อนไขเป็นเท็จ (False) ก็จะข้ามไปทำในส่วนของ **else**"
      ]
    },
    {
      "metadata": {
        "id": "xKdDfetG6XMx",
        "colab_type": "text"
      },
      "cell_type": "markdown",
      "source": [
        "![flow-chart-grade](https://raw.githubusercontent.com/mrolarik/KKU-python-tutorial/master/image/flow-chart-grade.jpg)\n",
        "* รูปภาพจาก https://slideplayer.com/slide/6854742/\n",
        "\n",
        "### จากรูปภาพ Flow chart ข้างต้นให้เขียนโปรแกรม if-else condition เพื่อแสดงผลลัพธ์ให้ถูกต้อง"
      ]
    },
    {
      "metadata": {
        "id": "I27Pp-EK65YG",
        "colab_type": "code",
        "outputId": "26c0240e-3455-4ee2-e9ec-f46d65520f06",
        "colab": {
          "base_uri": "https://localhost:8080/",
          "height": 52
        }
      },
      "cell_type": "code",
      "source": [
        "# declare variables\n",
        "M1 = 75\n",
        "M2 = 60\n",
        "M3 = 80\n",
        "M4 = 67\n",
        "\n",
        "# process\n",
        "Grade = (M1+M2+M3+M4)/4.0\n",
        "print('Your grade is', Grade)\n",
        "\n",
        "# if-else condition\n",
        "if(Grade < 50):\n",
        "  # True condition\n",
        "  print('FAIL')\n",
        "else:\n",
        "  # False condition\n",
        "  print('PASS')"
      ],
      "execution_count": 0,
      "outputs": [
        {
          "output_type": "stream",
          "text": [
            "Your grade is 70.5\n",
            "PASS\n"
          ],
          "name": "stdout"
        }
      ]
    },
    {
      "metadata": {
        "id": "-gxKB3QG94UQ",
        "colab_type": "text"
      },
      "cell_type": "markdown",
      "source": [
        "![if-else](https://raw.githubusercontent.com/mrolarik/KKU-python-tutorial/master/image/flow-chart-grade-if-else.jpg)\n",
        "\n",
        "* รูปภาพจาก https://rbpaonline.com/c-programming-if-else-flow-chart/c-programming-if-else-flow-chart-fresh-else-if-selection-statement/"
      ]
    },
    {
      "metadata": {
        "id": "qSjR-CCq8BZH",
        "colab_type": "code",
        "outputId": "d201097a-6a0a-4042-f4b8-d35c6a592473",
        "colab": {
          "base_uri": "https://localhost:8080/",
          "height": 34
        }
      },
      "cell_type": "code",
      "source": [
        "# input\n",
        "score = 85\n",
        "\n",
        "# if-else condition\n",
        "if(score >= 90):\n",
        "  grade = 'A'\n",
        "elif(score >= 80):\n",
        "  grade = 'B'\n",
        "elif(score >= 70):\n",
        "  grade = 'C'\n",
        "elif(score >= 60):\n",
        "  grade = 'D'\n",
        "else:\n",
        "  grade = 'F'\n",
        "  \n",
        "print('Your grade is', grade)"
      ],
      "execution_count": 0,
      "outputs": [
        {
          "output_type": "stream",
          "text": [
            "Your grade is B\n"
          ],
          "name": "stdout"
        }
      ]
    },
    {
      "metadata": {
        "id": "6s9Wxa9P-8Lq",
        "colab_type": "text"
      },
      "cell_type": "markdown",
      "source": [
        "## Nested if\n",
        "![Nested-if](https://raw.githubusercontent.com/mrolarik/KKU-python-tutorial/master/image/python-nested-if-else.png)\n",
        "\n",
        "* รูปภาพจาก https://www.w3resource.com/python/python-if-else-statements.php"
      ]
    },
    {
      "metadata": {
        "id": "K4i4Tete-gMS",
        "colab_type": "code",
        "outputId": "69c7fdea-b3b2-42c4-cd8f-950d117ed1c6",
        "colab": {
          "base_uri": "https://localhost:8080/",
          "height": 92
        }
      },
      "cell_type": "code",
      "source": [
        "# input\n",
        "age = 35\n",
        "\n",
        "if(age >= 11):\n",
        "  print('Your are eligible to see the Football match.')\n",
        "  \n",
        "  if((age <= 20) or (age >= 60)):\n",
        "    print('Ticket price is 12 US dollar.')\n",
        "  else:\n",
        "    print('Ticket price is 20 US dollar.')\n",
        "else:\n",
        "  print('Your\\'re not eligible to by a ticket.')\n"
      ],
      "execution_count": 2,
      "outputs": [
        {
          "output_type": "stream",
          "text": [
            "Your are eligible to see the Football match.\n",
            "Ticket price is 20 US dollar.\n"
          ],
          "name": "stdout"
        }
      ]
    },
    {
      "metadata": {
        "id": "zSy1CgDVQcPU",
        "colab_type": "text"
      },
      "cell_type": "markdown",
      "source": [
        "![if-else-if](https://raw.githubusercontent.com/mrolarik/KKU-python-tutorial/master/image/if-else-if.png)\n",
        "\n",
        "* รูปภาพจาก https://feednewsid.blogspot.com/2018/07/contoh-flowchart-else-if.html"
      ]
    },
    {
      "metadata": {
        "id": "KEiFxp8xNfok",
        "colab_type": "code",
        "colab": {
          "base_uri": "https://localhost:8080/",
          "height": 76
        },
        "outputId": "fb92dfb2-4a9c-40d9-d73e-533e81249080"
      },
      "cell_type": "code",
      "source": [
        "#input\n",
        "k = 65\n",
        "\n",
        "if(k > 69):\n",
        "  if(k > 89):\n",
        "    print('Grade A')\n",
        "  else:\n",
        "    if(k > 79):\n",
        "      print('Grade B')\n",
        "    else:\n",
        "      print('Grade C')\n",
        "else:\n",
        "  if(k > 59):\n",
        "    print('Grade D')\n",
        "  else:\n",
        "    print('Grade F')\n",
        "    "
      ],
      "execution_count": 12,
      "outputs": [
        {
          "output_type": "stream",
          "text": [
            "Grade D\n"
          ],
          "name": "stdout"
        }
      ]
    }
  ]
}
