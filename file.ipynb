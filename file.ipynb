{
 "cells": [
  {
   "cell_type": "markdown",
   "metadata": {},
   "source": [
    "# File"
   ]
  },
  {
   "cell_type": "code",
   "execution_count": 22,
   "metadata": {},
   "outputs": [
    {
     "name": "stdout",
     "output_type": "stream",
     "text": [
      "Name of the file:  test.txt\n",
      "Closed or not :  False\n",
      "Opening mode :  wb\n",
      "Softspace flag :  0\n"
     ]
    }
   ],
   "source": [
    "# open a file\n",
    "\n",
    "fo = open('test.txt','wb')\n",
    "\n",
    "print \"Name of the file: \", fo.name\n",
    "print \"Closed or not : \", fo.closed\n",
    "print \"Opening mode : \", fo.mode\n",
    "print \"Softspace flag : \", fo.softspace\n",
    "\n",
    "# close file\n",
    "fo.close()"
   ]
  },
  {
   "cell_type": "markdown",
   "metadata": {},
   "source": [
    "# Basic file I/O\n",
    "\n",
    "## mode  description  \n",
    "### 'r'   - reading mode. The default. It allows you only to read the file, not to modify it. When using this mode the file must exit.\n",
    "### 'w'  - writing mode. It will create a new file if it does not exist, otherwise will erase the file and allow you to write to it.\n",
    "### 'a'  - append mode. It will write data to the end of the file. It does not erase the file, and the file must exist for this mode.\n",
    "### 'rb'  -  reading mode in binary. This is similar to 'r' except that the reading is forced in binary mode. This is also a default choice.\n",
    "### 'r+'  - reading mode plus writing mode at the same time. This allows you to read and write into files at the same time without have to use 'r' and 'w'\n",
    "### 'rb+' - reading and writing mode in binary. The same as 'r+' except the data is in binary.\n",
    "### 'wb' - writing mode in binary. The same as 'w' except the data is in binary.\n",
    "### 'w+' - writing and reading mode. The exact same as r+ but if the file does not exist, a new one is made. Otherwise, the file is overwritten.\n",
    "### 'wb+' - writing and reading mode in binary mode. The same as w+ but the data is in binary.\n",
    "### 'ab' - appending in binary mode. Similar to a except that the data is in binary.\n",
    "### 'a+' - appending and reading mode. Similar to w+ as it will create a new file if the file does not exist. Otherwise, the file pointer is at the end of the file if it exists.\n",
    "### 'ab+' - appending and reading mode in binary. The same as a+ except that the data is in binary.\n",
    "\n",
    "\n",
    "\n",
    "```\n",
    "with open(filename, 'r') as f:\n",
    "    f.read()\n",
    "   \n",
    "with open(filename, 'w') as f:\n",
    "    f.write(filedata)\n",
    "    \n",
    "with open(filename, 'a') as f:\n",
    "    f.write('\\\\n' + newdata)\n",
    "\n",
    "```"
   ]
  },
  {
   "cell_type": "markdown",
   "metadata": {},
   "source": [
    "# Reading a file line-by-line"
   ]
  },
  {
   "cell_type": "code",
   "execution_count": 1,
   "metadata": {},
   "outputs": [
    {
     "name": "stdout",
     "output_type": "stream",
     "text": [
      "Hello World!\n",
      "\n",
      "Hello World!!\n",
      "\n",
      "\n",
      "\n",
      "Hello World!!\n",
      "\n",
      "\n",
      "\n",
      "Hello World!!\n",
      "\n",
      "\n",
      "\n",
      "olarik surinta\n",
      "\n",
      "searching olarik os\n",
      "\n",
      "olarik\n"
     ]
    }
   ],
   "source": [
    "# Reading a file line-by-line\n",
    "\n",
    "with open('test.txt','r') as fp:\n",
    "    for line in fp:\n",
    "        print(line)"
   ]
  },
  {
   "cell_type": "code",
   "execution_count": 2,
   "metadata": {},
   "outputs": [
    {
     "name": "stdout",
     "output_type": "stream",
     "text": [
      "Hello World!\n",
      "\n",
      "Hello World!!\n",
      "\n",
      "\n",
      "\n",
      "Hello World!!\n",
      "\n",
      "\n",
      "\n",
      "Hello World!!\n",
      "\n",
      "\n",
      "\n",
      "olarik surinta\n",
      "\n",
      "searching olarik os\n",
      "\n",
      "olarik\n"
     ]
    }
   ],
   "source": [
    "# Reading a file line-by-line\n",
    "\n",
    "fo = open('test.txt','r')\n",
    "\n",
    "for line in fo:\n",
    "    print(line)"
   ]
  },
  {
   "cell_type": "markdown",
   "metadata": {},
   "source": [
    "# readline()"
   ]
  },
  {
   "cell_type": "code",
   "execution_count": 1,
   "metadata": {},
   "outputs": [
    {
     "name": "stdout",
     "output_type": "stream",
     "text": [
      "Hello World!\n",
      "\n",
      "Hello World!!\n",
      "\n",
      "\n",
      "\n",
      "Hello World!!\n",
      "\n",
      "\n",
      "\n",
      "Hello World!!\n",
      "\n",
      "\n",
      "\n",
      "olarik surinta\n",
      "\n",
      "searching olarik os\n",
      "\n",
      "olarik\n"
     ]
    }
   ],
   "source": [
    "# readline() allows for more granular control over line-by-line iteration.\n",
    "\n",
    "with open('test.txt','r')as fp:\n",
    "    while True:\n",
    "        cur_line = fp.readline()\n",
    "        # if the result is an empty string\n",
    "        if cur_line == '':\n",
    "            # we have reached the end of the file\n",
    "            break\n",
    "        print(cur_line)"
   ]
  },
  {
   "cell_type": "code",
   "execution_count": 6,
   "metadata": {},
   "outputs": [
    {
     "name": "stdout",
     "output_type": "stream",
     "text": [
      "('Line', '0: Hello World!\\n')\n",
      "('Line', '1: Hello World!!\\n')\n",
      "('Line', '2: \\n')\n",
      "('Line', '3: Hello World!!\\n')\n",
      "('Line', '4: \\n')\n",
      "('Line', '5: Hello World!!\\n')\n",
      "('Line', '6: \\n')\n",
      "('Line', '7: olarik surinta\\n')\n",
      "('Line', '8: searching olarik os\\n')\n",
      "('Line', '9: olarik')\n"
     ]
    }
   ],
   "source": [
    "with open('test.txt','r') as fp:\n",
    "    lines = fp.readlines()\n",
    "\n",
    "for i in range(len(lines)):\n",
    "    print(\"Line\", str(i) + \": \" + lines[i])"
   ]
  },
  {
   "cell_type": "markdown",
   "metadata": {},
   "source": [
    "# Remove '\\n'"
   ]
  },
  {
   "cell_type": "code",
   "execution_count": 7,
   "metadata": {},
   "outputs": [
    {
     "name": "stdout",
     "output_type": "stream",
     "text": [
      "('Line', '0: Hello World!')\n",
      "('Line', '1: Hello World!!')\n",
      "('Line', '2: ')\n",
      "('Line', '3: Hello World!!')\n",
      "('Line', '4: ')\n",
      "('Line', '5: Hello World!!')\n",
      "('Line', '6: ')\n",
      "('Line', '7: olarik surinta')\n",
      "('Line', '8: searching olarik os')\n",
      "('Line', '9: olarik')\n"
     ]
    }
   ],
   "source": [
    "with open('test.txt','r') as fp:\n",
    "    lines = fp.readlines()\n",
    "\n",
    "for i in range(len(lines)):\n",
    "    print(\"Line\", str(i) + \": \" + lines[i].split('\\n')[0])"
   ]
  },
  {
   "cell_type": "markdown",
   "metadata": {},
   "source": [
    "# Getting the full contents of a file"
   ]
  },
  {
   "cell_type": "code",
   "execution_count": 22,
   "metadata": {},
   "outputs": [
    {
     "name": "stdout",
     "output_type": "stream",
     "text": [
      "type <type 'str'>\n",
      "len 99\n",
      "---------- \n",
      "\n",
      "content[0:10]\n",
      "Hello Worl \n",
      "\n",
      "print all\n",
      "---------- \n",
      "Hello World!\n",
      "Hello World!!\n",
      "\n",
      "Hello World!!\n",
      "\n",
      "Hello World!!\n",
      "\n",
      "olarik surinta\n",
      "searching olarik os\n",
      "olarik\n"
     ]
    }
   ],
   "source": [
    "with open('test.txt') as in_file:\n",
    "    content = in_file.read()\n",
    "    \n",
    "print 'type', type(content)\n",
    "print 'len', len(content)\n",
    "print '-'*10 , '\\n'\n",
    "\n",
    "print 'content[0:10]\\n', content[0:10] ,'\\n'\n",
    "print 'print all\\n', '-'*10 , '\\n', content"
   ]
  },
  {
   "cell_type": "code",
   "execution_count": 47,
   "metadata": {},
   "outputs": [
    {
     "name": "stdout",
     "output_type": "stream",
     "text": [
      "Hello World!\n",
      "Hello World!!\n",
      "\n",
      "Hello World!!\n",
      "\n",
      "Hello World!!\n",
      "\n",
      "olarik surinta\n",
      "searching olarik os\n",
      "olarik\n"
     ]
    }
   ],
   "source": [
    "in_file = open('test.txt','r')\n",
    "content = in_file.read()\n",
    "print(content)\n",
    "\n",
    "in_file.close()"
   ]
  },
  {
   "cell_type": "markdown",
   "metadata": {},
   "source": [
    "# Checking if a file is empty"
   ]
  },
  {
   "cell_type": "code",
   "execution_count": 33,
   "metadata": {},
   "outputs": [
    {
     "name": "stdout",
     "output_type": "stream",
     "text": [
      "file: test_empty.txt, size =  0\n",
      "True\n",
      "\n",
      "file: test.txt, size =  99\n",
      "False\n"
     ]
    }
   ],
   "source": [
    "import os\n",
    "\n",
    "print 'file: test_empty.txt, size = ', os.stat('test_empty.txt').st_size \n",
    "print os.stat('test_empty.txt').st_size == 0\n",
    "\n",
    "print '\\nfile: test.txt, size = ', os.stat('test.txt').st_size \n",
    "print os.stat('test.txt').st_size == 0"
   ]
  },
  {
   "cell_type": "code",
   "execution_count": 35,
   "metadata": {},
   "outputs": [
    {
     "name": "stdout",
     "output_type": "stream",
     "text": [
      "file: test.txt, size = 99\n"
     ]
    }
   ],
   "source": [
    "import os\n",
    "\n",
    "print 'file: test.txt, size =', os.path.getsize('test.txt')"
   ]
  },
  {
   "cell_type": "code",
   "execution_count": 40,
   "metadata": {},
   "outputs": [
    {
     "name": "stdout",
     "output_type": "stream",
     "text": [
      "Check file: test.txt,  True\n",
      "Check file: test1.txt,  False\n"
     ]
    }
   ],
   "source": [
    "# check if file exists\n",
    "import os\n",
    "\n",
    "print 'Check file: test.txt, ', os.path.isfile('test.txt')\n",
    "print 'Check file: test1.txt, ', os.path.isfile('test1.txt')"
   ]
  },
  {
   "cell_type": "code",
   "execution_count": 44,
   "metadata": {},
   "outputs": [
    {
     "name": "stdout",
     "output_type": "stream",
     "text": [
      "Check file: test.txt,  True\n",
      "Check file: test1.txt,  False\n"
     ]
    }
   ],
   "source": [
    "import os\n",
    "\n",
    "def is_empty_file(fpath):\n",
    "    return os.path.isfile(fpath) and os.path.getsize(fpath) > 0\n",
    "\n",
    "print 'Check file: test.txt, ', is_empty_file('test.txt')\n",
    "print 'Check file: test1.txt, ', is_empty_file('test1.txt')"
   ]
  },
  {
   "cell_type": "markdown",
   "metadata": {},
   "source": [
    "# Read a file between a range of lines"
   ]
  },
  {
   "cell_type": "code",
   "execution_count": 51,
   "metadata": {},
   "outputs": [
    {
     "name": "stdout",
     "output_type": "stream",
     "text": [
      "olarik surinta\n",
      "\n",
      "searching olarik os\n",
      "\n",
      "olarik\n"
     ]
    }
   ],
   "source": [
    "import itertools\n",
    "\n",
    "with open('test.txt', 'r') as f:\n",
    "    # this will read through the lines 8 and 10 as in python indexing starts from 0. \n",
    "    # Line number 1 is indexe as 0\n",
    "    for line in itertools.islice(f, 7,10):\n",
    "        print line\n",
    "        "
   ]
  },
  {
   "cell_type": "markdown",
   "metadata": {},
   "source": [
    "# Replacing text in a file"
   ]
  },
  {
   "cell_type": "code",
   "execution_count": 45,
   "metadata": {},
   "outputs": [],
   "source": [
    "with open('test_replace.txt','r') as file:\n",
    "    filedata = file.read()\n",
    "    \n",
    "# replace the target string\n",
    "search_str = 'Search1'\n",
    "replace_str = 'Replace1'\n",
    "filedata = filedata.replace(search_str, replace_str)\n",
    "\n",
    "# write the file out again\n",
    "with open('test_replace.txt','w') as file:\n",
    "    file.write(filedata)"
   ]
  },
  {
   "cell_type": "code",
   "execution_count": 67,
   "metadata": {},
   "outputs": [
    {
     "name": "stdout",
     "output_type": "stream",
     "text": [
      "size of dict 2\n",
      "{'Search2': 'Replace2', 'Search1': 'Replace1'}\n",
      "\n",
      "\n",
      "round # 1\n",
      "Search:  Search2\n",
      "Replace with:  Replace2\n",
      "\n",
      "round # 2\n",
      "Search:  Search1\n",
      "Replace with:  Replace1\n"
     ]
    }
   ],
   "source": [
    "replacements = {'Search1' : 'Replace1',\n",
    "                'Search2' : 'Replace2'}\n",
    "\n",
    "print 'size of dict', len(replacements)\n",
    "print replacements\n",
    "print \n",
    "\n",
    "with open('test_replace.txt','r') as file:\n",
    "    filedata = file.read()\n",
    "\n",
    "cnt = 0\n",
    "for search_for in replacements:\n",
    "    print \"\\nround #\", cnt+1\n",
    "    print \"Search: \", search_for\n",
    "    print \"Replace with: \", replacements[search_for]\n",
    "    replace_with = replacements[search_for]\n",
    "    filedata = filedata.replace(search_for, replace_with)\n",
    "    #print filedata\n",
    "    cnt += 1\n",
    "\n",
    "# write the file out again\n",
    "with open('test_replace.txt','w') as file:\n",
    "    file.write(filedata)"
   ]
  },
  {
   "cell_type": "markdown",
   "metadata": {},
   "source": [
    "# Copying contents of one file to a different file"
   ]
  },
  {
   "cell_type": "code",
   "execution_count": 81,
   "metadata": {},
   "outputs": [],
   "source": [
    "input_file = 'test.txt'\n",
    "output_file = 'out.txt'\n",
    "\n",
    "with open(input_file,'r') as in_file, open(output_file,'w') as out_file:\n",
    "    for line in in_file:\n",
    "        out_file.write(line)"
   ]
  },
  {
   "cell_type": "code",
   "execution_count": 83,
   "metadata": {},
   "outputs": [],
   "source": [
    "# using the shutil module:\n",
    "\n",
    "import shutil\n",
    "\n",
    "shutil.copyfile(input_file, output_file)"
   ]
  },
  {
   "cell_type": "markdown",
   "metadata": {},
   "source": [
    "# Writing to a file"
   ]
  },
  {
   "cell_type": "code",
   "execution_count": 40,
   "metadata": {},
   "outputs": [],
   "source": [
    "# write a text into file\n",
    "\n",
    "with open('myfile.txt','w') as f:\n",
    "    f.write('Line 1')\n",
    "    f.write('Line 2')\n",
    "    f.write('Line 3')"
   ]
  },
  {
   "cell_type": "markdown",
   "metadata": {},
   "source": [
    "## If you open myfile.txt, you will see that its contents are:\n",
    "\n",
    "Line 1Line 2Line 3 "
   ]
  },
  {
   "cell_type": "code",
   "execution_count": 41,
   "metadata": {},
   "outputs": [],
   "source": [
    "# python doesn't automatically add line breaks, you need to do that manually:\n",
    "\n",
    "with open('myfile.txt','w') as f:\n",
    "    f.write('Line 1\\n')\n",
    "    f.write('Line 2\\n')\n",
    "    f.write('Line 3\\n')    "
   ]
  },
  {
   "cell_type": "markdown",
   "metadata": {},
   "source": [
    "Line 1  \n",
    "Line 2  \n",
    "Line 3  "
   ]
  },
  {
   "cell_type": "code",
   "execution_count": null,
   "metadata": {
    "collapsed": true
   },
   "outputs": [],
   "source": [
    "# write a text into file\n",
    "\n",
    "fo = open('test.txt','wb')\n",
    "print \"Name of the file: \", fo.name\n",
    "\n",
    "fo.write('Hello World!\\nHello World!!')\n",
    "\n",
    "fo.close()"
   ]
  },
  {
   "cell_type": "code",
   "execution_count": null,
   "metadata": {
    "collapsed": true
   },
   "outputs": [],
   "source": [
    "# read a text file\n",
    "\n",
    "fo = open('test.txt','r')\n",
    "\n",
    "str = fo.read()\n",
    "print \"Show text from a file : \\n\\n\", str\n",
    "\n",
    "\n",
    "fo.close()"
   ]
  },
  {
   "cell_type": "code",
   "execution_count": 39,
   "metadata": {},
   "outputs": [
    {
     "name": "stdout",
     "output_type": "stream",
     "text": [
      "Name of the file:  test.txt\n"
     ]
    }
   ],
   "source": [
    "fo = open('test.txt','a')\n",
    "print \"Name of the file: \", fo.name\n",
    "\n",
    "fo.write('\\nTest!\\nTest!!')\n",
    "\n",
    "fo.close()"
   ]
  },
  {
   "cell_type": "code",
   "execution_count": 40,
   "metadata": {},
   "outputs": [
    {
     "name": "stdout",
     "output_type": "stream",
     "text": [
      "Show text from a file : \n",
      "\n",
      "Hello World!\n",
      "Hello World!!\n",
      "Test!\n",
      "Test!!\n"
     ]
    }
   ],
   "source": [
    "# read a text file\n",
    "\n",
    "fo = open('test.txt','r')\n",
    "\n",
    "str = fo.read()\n",
    "print \"Show text from a file : \\n\\n\", str\n",
    "\n",
    "\n",
    "fo.close()"
   ]
  },
  {
   "cell_type": "markdown",
   "metadata": {},
   "source": [
    "# Read a file line-by-line"
   ]
  },
  {
   "cell_type": "code",
   "execution_count": 41,
   "metadata": {},
   "outputs": [
    {
     "name": "stdout",
     "output_type": "stream",
     "text": [
      "Line 1: Hello World!\n",
      "Line 2: Hello World!!\n",
      "Line 3: Test!\n",
      "Line 4: Test!!\n"
     ]
    }
   ],
   "source": [
    "filepath = 'test.txt'\n",
    "\n",
    "with open(filepath) as fp:\n",
    "    line = fp.readline()\n",
    "    cnt = 1\n",
    "    while line:\n",
    "        print('Line {}: {}'.format(cnt, line.strip()))\n",
    "        line = fp.readline()\n",
    "        cnt += 1\n",
    "\n"
   ]
  },
  {
   "cell_type": "code",
   "execution_count": 2,
   "metadata": {},
   "outputs": [
    {
     "name": "stdout",
     "output_type": "stream",
     "text": [
      "Line count:  6\n"
     ]
    }
   ],
   "source": [
    "# counting lines in a file\n",
    "\n",
    "filepath = 'test.txt'\n",
    "\n",
    "fo = open(filepath)\n",
    "count = 0\n",
    "\n",
    "for line in fo:\n",
    "    count = count+1\n",
    "    \n",
    "print 'Line count: ', count"
   ]
  },
  {
   "cell_type": "code",
   "execution_count": 19,
   "metadata": {},
   "outputs": [
    {
     "name": "stdout",
     "output_type": "stream",
     "text": [
      "number of text in file:  99 \n",
      "\n",
      "text in file\n",
      "============\n",
      "Hello World!\n",
      "Hello World!!\n",
      "\n",
      "Hello World!!\n",
      "\n",
      "Hello World!!\n",
      "\n",
      "Olarik surinta\n",
      "searching olarik os\n",
      "olarik\n"
     ]
    }
   ],
   "source": [
    "# Reading the whole file\n",
    "# we can read the whole file (newlines and all) into a single string\n",
    "\n",
    "filepath = 'test.txt'\n",
    "\n",
    "fo = open(filepath)\n",
    "inp = fo.read()\n",
    "\n",
    "print \"number of text in file: \", len(inp), \"\\n\"\n",
    "\n",
    "print \"text in file\\n============\\n\", inp"
   ]
  },
  {
   "cell_type": "code",
   "execution_count": 29,
   "metadata": {},
   "outputs": [
    {
     "name": "stdout",
     "output_type": "stream",
     "text": [
      "olarik surinta\n",
      "\n",
      "olarik\n"
     ]
    }
   ],
   "source": [
    "fo = open(filepath)\n",
    "\n",
    "for line in fo:\n",
    "    if line.startswith('olarik'):\n",
    "        print line"
   ]
  },
  {
   "cell_type": "code",
   "execution_count": 28,
   "metadata": {
    "collapsed": true
   },
   "outputs": [],
   "source": [
    "for line in fo:\n",
    "    line = line.rstrip()\n",
    "    if not line.startswith('olarik'):\n",
    "        print line"
   ]
  },
  {
   "cell_type": "code",
   "execution_count": 30,
   "metadata": {
    "collapsed": true
   },
   "outputs": [],
   "source": [
    "#http://www.pythonlearn.com/slides.php"
   ]
  },
  {
   "cell_type": "markdown",
   "metadata": {
    "collapsed": true
   },
   "source": [
    "# Search for a string in text file"
   ]
  },
  {
   "cell_type": "code",
   "execution_count": 84,
   "metadata": {},
   "outputs": [
    {
     "name": "stdout",
     "output_type": "stream",
     "text": [
      "true\n"
     ]
    }
   ],
   "source": [
    "if 'olarik' in open('test.txt').read():\n",
    "    print('true')"
   ]
  },
  {
   "cell_type": "code",
   "execution_count": 86,
   "metadata": {},
   "outputs": [
    {
     "name": "stdout",
     "output_type": "stream",
     "text": [
      "true\n"
     ]
    }
   ],
   "source": [
    "import mmap\n",
    "\n",
    "f = open('test.txt','r')\n",
    "s = mmap.mmap(f.fileno(),0,access=mmap.ACCESS_READ)\n",
    "if s.find('olarik') != -1:\n",
    "    print('true')"
   ]
  },
  {
   "cell_type": "code",
   "execution_count": 88,
   "metadata": {},
   "outputs": [],
   "source": [
    "def searcher(outf, inf, string):\n",
    "    \n",
    "    with open(outf, 'a') as f1:\n",
    "        if string in open(inf).read():\n",
    "            f1.write(string)\n",
    "            \n",
    "searcher('out.txt','test.txt', 'olarik')"
   ]
  },
  {
   "cell_type": "code",
   "execution_count": 108,
   "metadata": {},
   "outputs": [
    {
     "name": "stdout",
     "output_type": "stream",
     "text": [
      "line 15 :  olarik surinta\n",
      "\n",
      "line 17 :  searching olarik os\n",
      "\n",
      "line 19 :  olarik\n",
      "\n"
     ]
    }
   ],
   "source": [
    "search_file = open('test.txt','r')\n",
    "\n",
    "cnt = 0\n",
    "for line in search_file:\n",
    "    cnt += 1\n",
    "    if 'olarik' in line: \n",
    "        print 'line', cnt, ': ', line\n",
    "        \n"
   ]
  },
  {
   "cell_type": "code",
   "execution_count": 39,
   "metadata": {},
   "outputs": [
    {
     "name": "stdout",
     "output_type": "stream",
     "text": [
      "Search string  ' olarik ' from ' test.txt '\n",
      "\n",
      "#1\n",
      "['olarik surinta', 'searching olarik os', 'olarik']\n",
      "[15, 17, 19]\n",
      "\n",
      "#2\n",
      "line  15 : olarik surinta\n",
      "line  17 : searching olarik os\n",
      "line  19 : olarik\n"
     ]
    }
   ],
   "source": [
    "def search_string(inf, search_string):\n",
    "\n",
    "    search_list = [[],[]]\n",
    "    with open(inf,'r') as f1:\n",
    "        cnt = 0\n",
    "        for line in f1:\n",
    "            cnt += 1\n",
    "            if search_string in line:\n",
    "                #print 'line', cnt, ': ', line\n",
    "                tmp_str = line.split('\\n')[0]\n",
    "                search_list[0].append(tmp_str)\n",
    "                search_list[1].append(cnt)                \n",
    "\n",
    "    return search_list\n",
    "\n",
    "tmp_str = 'olarik'\n",
    "inf = 'test.txt'\n",
    "s_string = search_string(inf, tmp_str)\n",
    "\n",
    "print 'Search string  \\'', tmp_str ,'\\'', 'from \\'', inf, '\\''\n",
    "#, inf , '\\''\n",
    "print '\\n#1'\n",
    "for s_str in s_string:\n",
    "    print s_str\n",
    "\n",
    "print '\\n#2'    \n",
    "for i in range(0, len(s_string[0])):\n",
    "    print 'line ', s_string[1][i], ':', s_string[0][i]\n",
    "\n"
   ]
  }
 ],
 "metadata": {
  "kernelspec": {
   "display_name": "Python 2",
   "language": "python",
   "name": "python2"
  },
  "language_info": {
   "codemirror_mode": {
    "name": "ipython",
    "version": 2
   },
   "file_extension": ".py",
   "mimetype": "text/x-python",
   "name": "python",
   "nbconvert_exporter": "python",
   "pygments_lexer": "ipython2",
   "version": "2.7.12"
  }
 },
 "nbformat": 4,
 "nbformat_minor": 2
}
