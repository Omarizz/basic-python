{
 "cells": [
  {
   "cell_type": "markdown",
   "metadata": {},
   "source": [
    "# import ฟังก์ชันที่สร้างขึ้นมาเอง\n",
    "\n",
    "ในกรณีนี้เราได้สร้างไฟล์ fn.py โดยมีฟังก์ชันดังต่อไปนี้  \n",
    "```\n",
    "def addnum(int1, int2):\n",
    "\treturn int1+int2\n",
    "\n",
    "def delnum(int1=5, int2=5):\n",
    "\treturn int1-int2\n",
    "\n",
    "```"
   ]
  },
  {
   "cell_type": "code",
   "execution_count": 1,
   "metadata": {},
   "outputs": [],
   "source": [
    "# การ import ฟังก์ชันมาเพื่อใช้งานทำได้โดย\n",
    "import fn"
   ]
  },
  {
   "cell_type": "code",
   "execution_count": 3,
   "metadata": {},
   "outputs": [
    {
     "data": {
      "text/plain": [
       "['__builtins__',\n",
       " '__doc__',\n",
       " '__file__',\n",
       " '__name__',\n",
       " '__package__',\n",
       " 'addnum',\n",
       " 'delnum']"
      ]
     },
     "execution_count": 3,
     "metadata": {},
     "output_type": "execute_result"
    }
   ],
   "source": [
    "# เมื่อ dir(fn) จะสังเกตเห็นฟังก์ชัน 'addnum' และ 'delnum'\n",
    "dir(fn)"
   ]
  },
  {
   "cell_type": "markdown",
   "metadata": {},
   "source": [
    "เมื่อใช้คำสั่ง import fn  โปรแกรม Python จะสร้างไฟล์ object ขึ้นมาชื่อ "
   ]
  },
  {
   "cell_type": "code",
   "execution_count": 7,
   "metadata": {},
   "outputs": [
    {
     "data": {
      "text/plain": [
       "5"
      ]
     },
     "execution_count": 7,
     "metadata": {},
     "output_type": "execute_result"
    }
   ],
   "source": [
    "# เราสามารถใช้ฟังก์ชัน 'addnum', 'delnum' ดังนี้\n",
    "\n",
    "fn.addnum(3,2)"
   ]
  },
  {
   "cell_type": "code",
   "execution_count": 13,
   "metadata": {},
   "outputs": [
    {
     "name": "stdout",
     "output_type": "stream",
     "text": [
      "1\n",
      "5\n",
      "0\n"
     ]
    }
   ],
   "source": [
    "print fn.delnum(5,4)\n",
    "print fn.delnum(10)\n",
    "print fn.delnum()"
   ]
  },
  {
   "cell_type": "code",
   "execution_count": 14,
   "metadata": {},
   "outputs": [],
   "source": [
    "# การ import ฟังก์ชัน สามารถทำในรูปแบบอื่นได้ เช่น\n",
    "from fn import addnum, delnum"
   ]
  },
  {
   "cell_type": "code",
   "execution_count": 17,
   "metadata": {},
   "outputs": [
    {
     "name": "stdout",
     "output_type": "stream",
     "text": [
      "7\n",
      "0\n"
     ]
    }
   ],
   "source": [
    "# ดังนั้น การเรียกใช้สามารถเรียก 'addnum' และ 'delnum' ได้เลย\n",
    "\n",
    "print addnum(3,4)\n",
    "print delnum()"
   ]
  },
  {
   "cell_type": "code",
   "execution_count": 20,
   "metadata": {},
   "outputs": [],
   "source": [
    "# ในกรณีที่ต้องการ import ทุกฟังก์ชันในไฟล์ fn สามารถทำได้โดย\n",
    "from fn import *"
   ]
  },
  {
   "cell_type": "code",
   "execution_count": 24,
   "metadata": {},
   "outputs": [
    {
     "name": "stdout",
     "output_type": "stream",
     "text": [
      "9\n",
      "7\n"
     ]
    }
   ],
   "source": [
    "print addnum(4,5)\n",
    "print delnum(10,3)"
   ]
  }
 ],
 "metadata": {
  "kernelspec": {
   "display_name": "Python 2",
   "language": "python",
   "name": "python2"
  },
  "language_info": {
   "codemirror_mode": {
    "name": "ipython",
    "version": 2
   },
   "file_extension": ".py",
   "mimetype": "text/x-python",
   "name": "python",
   "nbconvert_exporter": "python",
   "pygments_lexer": "ipython2",
   "version": "2.7.12"
  }
 },
 "nbformat": 4,
 "nbformat_minor": 2
}
