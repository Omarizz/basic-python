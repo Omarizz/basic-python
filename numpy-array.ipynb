{
 "cells": [
  {
   "cell_type": "markdown",
   "metadata": {},
   "source": [
    "# Numpy Array\n",
    "## ndarray"
   ]
  },
  {
   "cell_type": "code",
   "execution_count": 1,
   "metadata": {},
   "outputs": [],
   "source": [
    "# การเรียกใช้งาน\n",
    "import numpy as np"
   ]
  },
  {
   "cell_type": "code",
   "execution_count": 2,
   "metadata": {},
   "outputs": [],
   "source": [
    "# การสร้าง array 1 มิติ\n",
    "\n",
    "x = np.array([0,1,2,3,4,5,6,7,8,9])"
   ]
  },
  {
   "cell_type": "code",
   "execution_count": 3,
   "metadata": {},
   "outputs": [
    {
     "name": "stdout",
     "output_type": "stream",
     "text": [
      "(10,)\n",
      "<type 'numpy.ndarray'>\n",
      "int64\n"
     ]
    }
   ],
   "source": [
    "# การดู properties ของ array\n",
    "\n",
    "# ดูขนาดของ array\n",
    "print x.shape\n",
    "\n",
    "# ดูประเภทของ\n",
    "print type(x)\n",
    "\n",
    "# ดูประเภทของ data-type\n",
    "print x.dtype"
   ]
  },
  {
   "cell_type": "markdown",
   "metadata": {},
   "source": [
    "## Array indexing \n",
    "### สำหรับ array 1 มิติ"
   ]
  },
  {
   "cell_type": "code",
   "execution_count": 4,
   "metadata": {},
   "outputs": [
    {
     "name": "stdout",
     "output_type": "stream",
     "text": [
      "0\n",
      "9\n",
      "\n",
      "[0 1 2 3 4 5 6 7 8 9]\n",
      "[0 1 2 3 4 5 6 7 8 9]\n",
      "\n",
      "[0 2 4 6 8]\n",
      "[1 3 5 7 9]\n",
      "[1 4 7]\n",
      "\n",
      "[0 1 2 3 4]\n",
      "[1 2 3 4]\n",
      "[0 1 2 3 4 5 6 7 8]\n"
     ]
    }
   ],
   "source": [
    "# เข้าถึงข้อมูล (access) ใน array\n",
    "\n",
    "print x[0] #index แรก\n",
    "print x[-1] #index สุดท้าย\n",
    "print \n",
    "\n",
    "print x[:] #ข้อมูลทุกตัว\n",
    "print x[0:]\n",
    "print\n",
    "\n",
    "print x[0::2] #แสดงตั้งแต่ index ที่ 0 และแสดงทุกๆ 2 ลำดับ\n",
    "print x[1::2] #แสดงตั้งแต่ index ที่ 1 และแสดงทุกๆ 2 ลำดับ\n",
    "print x[1::3] #แสดงตั้งแต่ index ที่ 1 และแสดงทุกๆ 3 ลำดับ\n",
    "print \n",
    "\n",
    "print x[0:5] #แสดงตั้งแต่ตัวที่ 0 จนถึงตัวที่ 5-1\n",
    "print x[1:5] #แสดงตั้งแต่ตัวที่ 1 จนถึงตัวที่ 5-1\n",
    "print x[0:-1] #แสดงตั้งแต่ตัวที่ 0 จนถึงตัวสุดท้าย-1"
   ]
  },
  {
   "cell_type": "code",
   "execution_count": 5,
   "metadata": {},
   "outputs": [
    {
     "name": "stdout",
     "output_type": "stream",
     "text": [
      "float64\n"
     ]
    }
   ],
   "source": [
    "# เก็บข้อมูลที่เป็น float\n",
    "x = np.array([2,3,1.0,0.5])\n",
    "\n",
    "print x.dtype"
   ]
  },
  {
   "cell_type": "markdown",
   "metadata": {},
   "source": [
    "## แสดงข้อมูลใน Array ด้วย For Loop "
   ]
  },
  {
   "cell_type": "code",
   "execution_count": 6,
   "metadata": {},
   "outputs": [
    {
     "name": "stdout",
     "output_type": "stream",
     "text": [
      "[2.  3.  1.  0.5] \n",
      "\n",
      "2.0\n",
      "3.0\n",
      "1.0\n",
      "0.5\n"
     ]
    }
   ],
   "source": [
    "print x, \"\\n\"\n",
    "\n",
    "for i in x:\n",
    "    print i"
   ]
  },
  {
   "cell_type": "code",
   "execution_count": 7,
   "metadata": {},
   "outputs": [
    {
     "name": "stdout",
     "output_type": "stream",
     "text": [
      "[2.  3.  1.  0.5] \n",
      "\n",
      "shape (4,)\n",
      "shape 4 \n",
      "\n",
      "2.0\n",
      "3.0\n",
      "1.0\n",
      "0.5\n"
     ]
    }
   ],
   "source": [
    "print x, \"\\n\"\n",
    "\n",
    "# ดูขนาดของ array\n",
    "print \"shape\", x.shape\n",
    "\n",
    "shape = x.shape[0]\n",
    "print \"shape\", shape, \"\\n\"\n",
    "\n",
    "for i in range(0,shape):\n",
    "    print x[i]"
   ]
  },
  {
   "cell_type": "markdown",
   "metadata": {},
   "source": [
    "## แสดงข้อมูลใน Array ด้วย While Loop "
   ]
  },
  {
   "cell_type": "code",
   "execution_count": 8,
   "metadata": {},
   "outputs": [
    {
     "name": "stdout",
     "output_type": "stream",
     "text": [
      "[2.  3.  1.  0.5] \n",
      "\n",
      "shape 4 \n",
      "\n",
      "x[ 0 ] =  2.0\n",
      "x[ 1 ] =  3.0\n",
      "x[ 2 ] =  1.0\n",
      "x[ 3 ] =  0.5\n"
     ]
    }
   ],
   "source": [
    "print x, \"\\n\"\n",
    "\n",
    "shape = x.shape[0]\n",
    "print \"shape\", shape, \"\\n\"\n",
    "\n",
    "count = 0\n",
    "while (count < shape):\n",
    "    print \"x[\",count,\"] = \", x[count]\n",
    "    count=count+1    # count = count+1"
   ]
  },
  {
   "cell_type": "markdown",
   "metadata": {},
   "source": [
    "## data type "
   ]
  },
  {
   "cell_type": "code",
   "execution_count": 9,
   "metadata": {},
   "outputs": [
    {
     "name": "stdout",
     "output_type": "stream",
     "text": [
      "[ 124  125  126  127 -128 -127 -126 -125 -124]\n",
      "int8\n",
      "\n",
      "[124 125 126 127 128 129 130 131 132]\n",
      "int64\n"
     ]
    }
   ],
   "source": [
    "# ข้อควรระวังในการกำหนด data type ของ array\n",
    "x = np.array([124,125,126,127,128,129,130,131,132], dtype='int8')\n",
    "\n",
    "print x\n",
    "print x.dtype\n",
    "print\n",
    "\n",
    "# ไม่กำหนด data type\n",
    "x = np.array([124,125,126,127,128,129,130,131,132])\n",
    "\n",
    "print x\n",
    "print x.dtype"
   ]
  },
  {
   "cell_type": "code",
   "execution_count": 10,
   "metadata": {},
   "outputs": [
    {
     "name": "stdout",
     "output_type": "stream",
     "text": [
      "[124 125 126 127 128 129 130 131 132]\n"
     ]
    }
   ],
   "source": [
    "x = np.array([124,125,126,127,128,129,130,131,132], dtype='int64')\n",
    "\n",
    "print x"
   ]
  },
  {
   "cell_type": "code",
   "execution_count": 11,
   "metadata": {},
   "outputs": [
    {
     "name": "stdout",
     "output_type": "stream",
     "text": [
      "[124 125 126 127 128 129 130 131 132]\n",
      "\n",
      "[124.512 125.6   126.    127.1   128.    129.    130.    131.    132.   ]\n"
     ]
    }
   ],
   "source": [
    "# ข้อมูลที่ป้อนลงไปเป็น float แต่จะจัดเก็บเป็น int\n",
    "x = np.array([124.5,125.6,126.0,127.1,128,129,130,131,132], dtype='int64')\n",
    "\n",
    "print x\n",
    "print\n",
    "\n",
    "x = np.array([124.512,125.6,126.0,127.1,128,129,130,131,132], dtype='float64')\n",
    "\n",
    "print x"
   ]
  },
  {
   "cell_type": "markdown",
   "metadata": {},
   "source": [
    "## สร้าง Array เปล่า"
   ]
  },
  {
   "cell_type": "code",
   "execution_count": 12,
   "metadata": {},
   "outputs": [
    {
     "name": "stdout",
     "output_type": "stream",
     "text": [
      "[[0. 0. 0. 0.]\n",
      " [0. 0. 0. 0.]]\n",
      "float64\n"
     ]
    }
   ],
   "source": [
    "# สร้าง Array แบบ 1 มิติ โดยมีขนาด 2row x 4col\n",
    "# และกำหนดให้ข้อมูลที่อยู่ใน array มีค่าเป็น 0\n",
    "x = np.zeros((2,4))\n",
    "print x\n",
    "print x.dtype"
   ]
  },
  {
   "cell_type": "code",
   "execution_count": 13,
   "metadata": {},
   "outputs": [
    {
     "name": "stdout",
     "output_type": "stream",
     "text": [
      "[[1 1 1 1]\n",
      " [1 1 1 1]]\n",
      "int8\n"
     ]
    }
   ],
   "source": [
    "# สร้าง Array แบบ 1 มิติ โดยมีขนาด 2row x 4col\n",
    "# และกำหนดให้ข้อมูลที่อยู่ใน array มีค่าเป็น 1\n",
    "x = np.ones((2,4), dtype='int8')\n",
    "print x\n",
    "print x.dtype"
   ]
  },
  {
   "cell_type": "code",
   "execution_count": 14,
   "metadata": {},
   "outputs": [
    {
     "name": "stdout",
     "output_type": "stream",
     "text": [
      "โอฬาริก \n",
      "\n",
      "โ\n",
      "อ\n",
      "ฬ\n",
      "า\n",
      "ร\n",
      "ิ\n",
      "ก\n",
      "\n",
      "  โ\n",
      "  อ\n",
      "  ฬ\n",
      "  า\n",
      "  ร\n",
      "  ิ\n",
      "  ก\n",
      "\n",
      "str[0]  โ\n",
      "str[1]  อ\n"
     ]
    }
   ],
   "source": [
    "#!/usr/bin/python\n",
    "# -*- coding: utf-8 -*-\n",
    "\n",
    "str = u'โอฬาริก'\n",
    "\n",
    "print str, \"\\n\"\n",
    "\n",
    "for i in str:\n",
    "    print i\n",
    "\n",
    "print    \n",
    "for i in str:\n",
    "    print \" \", i\n",
    "\n",
    "print\n",
    "print \"str[0] \", str[0]\n",
    "print \"str[1] \", str[1]"
   ]
  },
  {
   "cell_type": "markdown",
   "metadata": {},
   "source": [
    "# 2D Array\n",
    "## Array 2 มิติ"
   ]
  },
  {
   "cell_type": "code",
   "execution_count": 15,
   "metadata": {},
   "outputs": [
    {
     "name": "stdout",
     "output_type": "stream",
     "text": [
      "[[0 1 2]\n",
      " [3 4 5]\n",
      " [6 7 8]]\n",
      "\n",
      "shape (3, 3)\n"
     ]
    }
   ],
   "source": [
    "x = np.array([[0,1,2],[3,4,5],[6,7,8]])\n",
    "\n",
    "print x\n",
    "print \"\\nshape\", x.shape"
   ]
  },
  {
   "cell_type": "code",
   "execution_count": 16,
   "metadata": {},
   "outputs": [
    {
     "name": "stdout",
     "output_type": "stream",
     "text": [
      "0 1 2\n",
      "3 4 5\n",
      "6 7 8\n"
     ]
    }
   ],
   "source": [
    "print x[0,0], x[0,1], x[0,2]\n",
    "print x[1,0], x[1,1], x[1,2]\n",
    "print x[2,0], x[2,1], x[2,2]"
   ]
  },
  {
   "cell_type": "code",
   "execution_count": 17,
   "metadata": {},
   "outputs": [
    {
     "name": "stdout",
     "output_type": "stream",
     "text": [
      "[0 1 2]\n",
      "[3 4 5]\n",
      "[6 7 8]\n"
     ]
    }
   ],
   "source": [
    "for i in x:\n",
    "    print i"
   ]
  },
  {
   "cell_type": "code",
   "execution_count": 18,
   "metadata": {},
   "outputs": [
    {
     "name": "stdout",
     "output_type": "stream",
     "text": [
      "0 1 2\n",
      "3 4 5\n",
      "6 7 8\n"
     ]
    }
   ],
   "source": [
    "for i in range(0, x.shape[0]):\n",
    "    for j in range(0, x.shape[1]):\n",
    "        print x[i,j],\n",
    "    print "
   ]
  },
  {
   "cell_type": "markdown",
   "metadata": {},
   "source": [
    "# Assign new values in an array "
   ]
  },
  {
   "cell_type": "code",
   "execution_count": 19,
   "metadata": {},
   "outputs": [
    {
     "name": "stdout",
     "output_type": "stream",
     "text": [
      "[[100 200 300]\n",
      " [  3   4   5]\n",
      " [  6   7   8]]\n"
     ]
    }
   ],
   "source": [
    "x[0,0] = 100\n",
    "x[0,1] = 200\n",
    "x[0,2] = 300\n",
    "\n",
    "print x"
   ]
  },
  {
   "cell_type": "code",
   "execution_count": 20,
   "metadata": {},
   "outputs": [
    {
     "name": "stdout",
     "output_type": "stream",
     "text": [
      "[[0 0 0 0 0]\n",
      " [0 0 0 0 0]\n",
      " [0 0 0 0 0]\n",
      " [0 0 0 0 0]\n",
      " [0 0 0 0 0]]\n",
      "\n",
      "[[2 2 2]\n",
      " [3 3 3]\n",
      " [4 4 4]]\n"
     ]
    }
   ],
   "source": [
    "x = np.zeros((5,5), dtype='int8')\n",
    "y = np.array([[2,2,2],[3,3,3],[4,4,4]])\n",
    "\n",
    "print x\n",
    "print\n",
    "print y"
   ]
  },
  {
   "cell_type": "code",
   "execution_count": 21,
   "metadata": {},
   "outputs": [
    {
     "name": "stdout",
     "output_type": "stream",
     "text": [
      "[[2 2 2 0 0]\n",
      " [3 3 3 0 0]\n",
      " [4 4 4 0 0]\n",
      " [0 0 0 0 0]\n",
      " [0 0 0 0 0]]\n"
     ]
    }
   ],
   "source": [
    "# copy ข้อมูลจาก y ไปไว้ใน X\n",
    "x[0:3,0:3] = y\n",
    "\n",
    "print x"
   ]
  },
  {
   "cell_type": "markdown",
   "metadata": {},
   "source": [
    "## Sum of array elements "
   ]
  },
  {
   "cell_type": "code",
   "execution_count": 22,
   "metadata": {},
   "outputs": [
    {
     "name": "stdout",
     "output_type": "stream",
     "text": [
      "vertical summantion [9 9 9 0 0]\n",
      "Horizontal summantion [ 6  9 12  0  0]\n",
      "Summation 27\n"
     ]
    }
   ],
   "source": [
    "print \"vertical summantion\", x.sum(axis=0)\n",
    "print \"Horizontal summantion\", x.sum(axis=1)\n",
    "print \"Summation\", x.sum()"
   ]
  },
  {
   "cell_type": "markdown",
   "metadata": {},
   "source": [
    "## Reshape"
   ]
  },
  {
   "cell_type": "code",
   "execution_count": 23,
   "metadata": {},
   "outputs": [
    {
     "name": "stdout",
     "output_type": "stream",
     "text": [
      "(2, 8)\n",
      "[[ 0  1  2  3  4  5  6  7]\n",
      " [ 8  9 10 11 12 13 14 15]]\n"
     ]
    }
   ],
   "source": [
    "#x = np.zeros((2,8))\n",
    "x = np.array([[0,1,2,3,4,5,6,7],[8,9,10,11,12,13,14,15]])\n",
    "print x.shape\n",
    "print x"
   ]
  },
  {
   "cell_type": "code",
   "execution_count": 24,
   "metadata": {},
   "outputs": [
    {
     "name": "stdout",
     "output_type": "stream",
     "text": [
      "(8, 2)\n",
      "[[ 0  1]\n",
      " [ 2  3]\n",
      " [ 4  5]\n",
      " [ 6  7]\n",
      " [ 8  9]\n",
      " [10 11]\n",
      " [12 13]\n",
      " [14 15]]\n"
     ]
    }
   ],
   "source": [
    "y = x.reshape((8,2))\n",
    "print y.shape\n",
    "print y"
   ]
  },
  {
   "cell_type": "code",
   "execution_count": 25,
   "metadata": {},
   "outputs": [
    {
     "name": "stdout",
     "output_type": "stream",
     "text": [
      "(4, 4)\n",
      "[[ 0  1  2  3]\n",
      " [ 4  5  6  7]\n",
      " [ 8  9 10 11]\n",
      " [12 13 14 15]]\n"
     ]
    }
   ],
   "source": [
    "y = x.reshape((4,4))\n",
    "print y.shape\n",
    "print y"
   ]
  },
  {
   "cell_type": "code",
   "execution_count": 26,
   "metadata": {},
   "outputs": [
    {
     "name": "stdout",
     "output_type": "stream",
     "text": [
      "(1, 16)\n",
      "[[ 0  1  2  3  4  5  6  7  8  9 10 11 12 13 14 15]]\n"
     ]
    }
   ],
   "source": [
    "y = x.reshape((1,16))\n",
    "print y.shape\n",
    "print y"
   ]
  },
  {
   "cell_type": "markdown",
   "metadata": {},
   "source": [
    "# 3D Array\n",
    "\n",
    "### ตัวอย่าง\n",
    "สร้าง Array ขนาด (4x5) จำนวน 3 Layer/Dimension  \n",
    "  \n",
    "กำหนด Array ดังนี้ (3,4,5)  \n",
    "ดังนั้น  \n",
    "3 = 3 Layer/Dimenstion  \n",
    "4 = 4 row  \n",
    "5 = 5 col"
   ]
  },
  {
   "cell_type": "code",
   "execution_count": 27,
   "metadata": {},
   "outputs": [
    {
     "name": "stdout",
     "output_type": "stream",
     "text": [
      "(3, 4, 5)\n",
      "[[[0. 0. 0. 0. 0.]\n",
      "  [0. 0. 0. 0. 0.]\n",
      "  [0. 0. 0. 0. 0.]\n",
      "  [0. 0. 0. 0. 0.]]\n",
      "\n",
      " [[0. 0. 0. 0. 0.]\n",
      "  [0. 0. 0. 0. 0.]\n",
      "  [0. 0. 0. 0. 0.]\n",
      "  [0. 0. 0. 0. 0.]]\n",
      "\n",
      " [[0. 0. 0. 0. 0.]\n",
      "  [0. 0. 0. 0. 0.]\n",
      "  [0. 0. 0. 0. 0.]\n",
      "  [0. 0. 0. 0. 0.]]]\n"
     ]
    }
   ],
   "source": [
    "x = np.zeros((3,4,5))\n",
    "print x.shape\n",
    "print x"
   ]
  },
  {
   "cell_type": "code",
   "execution_count": 28,
   "metadata": {},
   "outputs": [
    {
     "name": "stdout",
     "output_type": "stream",
     "text": [
      "[[1. 1. 1. 1. 1.]\n",
      " [1. 1. 1. 1. 1.]\n",
      " [1. 1. 1. 1. 1.]\n",
      " [1. 1. 1. 1. 1.]]\n"
     ]
    }
   ],
   "source": [
    "# กำหนดให้ y เป็น array 2 มิติ ที่มีขนาด 4x5\n",
    "y = np.ones((4,5))\n",
    "print y"
   ]
  },
  {
   "cell_type": "code",
   "execution_count": 29,
   "metadata": {},
   "outputs": [
    {
     "name": "stdout",
     "output_type": "stream",
     "text": [
      "[[[1. 1. 1. 1. 1.]\n",
      "  [1. 1. 1. 1. 1.]\n",
      "  [1. 1. 1. 1. 1.]\n",
      "  [1. 1. 1. 1. 1.]]\n",
      "\n",
      " [[0. 0. 0. 0. 0.]\n",
      "  [0. 0. 0. 0. 0.]\n",
      "  [0. 0. 0. 0. 0.]\n",
      "  [0. 0. 0. 0. 0.]]\n",
      "\n",
      " [[0. 0. 0. 0. 0.]\n",
      "  [0. 0. 0. 0. 0.]\n",
      "  [0. 0. 0. 0. 0.]\n",
      "  [0. 0. 0. 0. 0.]]]\n"
     ]
    }
   ],
   "source": [
    "#Assign new values in an array\n",
    "\n",
    "# กำหนดให้ X ที่ Layer = 0 ทุก Row (:) และ ทุก Col (:) มีค่าเท่ากับ y\n",
    "x[0,:,:] = y\n",
    "print x"
   ]
  },
  {
   "cell_type": "code",
   "execution_count": 30,
   "metadata": {},
   "outputs": [
    {
     "data": {
      "text/plain": [
       "array([[1., 1., 1., 1., 1.],\n",
       "       [1., 1., 1., 1., 1.],\n",
       "       [1., 1., 1., 1., 1.],\n",
       "       [1., 1., 1., 1., 1.]])"
      ]
     },
     "execution_count": 30,
     "metadata": {},
     "output_type": "execute_result"
    }
   ],
   "source": [
    "# show array elements\n",
    "\n",
    "# แสดงข้อมูลของ X จาก Layer 0\n",
    "x[0]"
   ]
  },
  {
   "cell_type": "code",
   "execution_count": 31,
   "metadata": {},
   "outputs": [
    {
     "data": {
      "text/plain": [
       "array([[1., 1., 1., 1., 1.],\n",
       "       [1., 1., 1., 1., 1.],\n",
       "       [1., 1., 1., 1., 1.],\n",
       "       [1., 1., 1., 1., 1.]])"
      ]
     },
     "execution_count": 31,
     "metadata": {},
     "output_type": "execute_result"
    }
   ],
   "source": [
    "# แสดงข้อมูลของ X จาก Layer 0\n",
    "x[0,:,:]"
   ]
  },
  {
   "cell_type": "code",
   "execution_count": 32,
   "metadata": {},
   "outputs": [
    {
     "data": {
      "text/plain": [
       "array([[[1., 1.],\n",
       "        [1., 1.]],\n",
       "\n",
       "       [[0., 0.],\n",
       "        [0., 0.]],\n",
       "\n",
       "       [[0., 0.],\n",
       "        [0., 0.]]])"
      ]
     },
     "execution_count": 32,
     "metadata": {},
     "output_type": "execute_result"
    }
   ],
   "source": [
    "# แสดงข้อมูลของ X ทุกๆ Layer ใน row (0:2) และ col (0:2)\n",
    "x[:,0:2,0:2]"
   ]
  },
  {
   "cell_type": "code",
   "execution_count": 33,
   "metadata": {},
   "outputs": [
    {
     "name": "stdout",
     "output_type": "stream",
     "text": [
      "(3, 4, 5)\n"
     ]
    }
   ],
   "source": [
    "print x.shape"
   ]
  },
  {
   "cell_type": "code",
   "execution_count": 34,
   "metadata": {},
   "outputs": [
    {
     "name": "stdout",
     "output_type": "stream",
     "text": [
      "(1, 2, 30)\n",
      "[[[1. 1. 1. 1. 1. 1. 1. 1. 1. 1. 1. 1. 1. 1. 1. 1. 1. 1. 1. 1. 0. 0. 0.\n",
      "   0. 0. 0. 0. 0. 0. 0.]\n",
      "  [0. 0. 0. 0. 0. 0. 0. 0. 0. 0. 0. 0. 0. 0. 0. 0. 0. 0. 0. 0. 0. 0. 0.\n",
      "   0. 0. 0. 0. 0. 0. 0.]]]\n"
     ]
    }
   ],
   "source": [
    "y = x.reshape((1,2,30))\n",
    "print y.shape\n",
    "print y"
   ]
  }
 ],
 "metadata": {
  "kernelspec": {
   "display_name": "Python 2",
   "language": "python",
   "name": "python2"
  },
  "language_info": {
   "codemirror_mode": {
    "name": "ipython",
    "version": 2
   },
   "file_extension": ".py",
   "mimetype": "text/x-python",
   "name": "python",
   "nbconvert_exporter": "python",
   "pygments_lexer": "ipython2",
   "version": "2.7.12"
  }
 },
 "nbformat": 4,
 "nbformat_minor": 2
}
