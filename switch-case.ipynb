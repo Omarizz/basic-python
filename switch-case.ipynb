{
 "cells": [
  {
   "cell_type": "markdown",
   "metadata": {},
   "source": [
    "# Switch-case statement\n",
    "Switch-case statement is a powerful programming feature that allows you control the flow of your program based on the value of a variable or an expression."
   ]
  },
  {
   "cell_type": "markdown",
   "metadata": {},
   "source": [
    "# Dictionary\n",
    "Using a dictionary as a switch-case statement in Python"
   ]
  },
  {
   "cell_type": "code",
   "execution_count": 1,
   "metadata": {},
   "outputs": [
    {
     "name": "stdout",
     "output_type": "stream",
     "text": [
      "dict['Name'] Zara\n",
      "dict['Age'] 7\n"
     ]
    }
   ],
   "source": [
    "# Accessing values in dictionary\n",
    "\n",
    "dict = {'Name':'Zara', 'Age':7,'Class':'First'}\n",
    "\n",
    "print 'dict[\\'Name\\']', dict['Name']\n",
    "print \"dict['Age']\", dict['Age']"
   ]
  },
  {
   "cell_type": "code",
   "execution_count": 2,
   "metadata": {},
   "outputs": [
    {
     "name": "stdout",
     "output_type": "stream",
     "text": [
      "dict['Alice']"
     ]
    },
    {
     "ename": "KeyError",
     "evalue": "'Alice'",
     "output_type": "error",
     "traceback": [
      "\u001b[0;31m---------------------------------------------------------------------------\u001b[0m",
      "\u001b[0;31mKeyError\u001b[0m                                  Traceback (most recent call last)",
      "\u001b[0;32m<ipython-input-2-c4e0c0a2bbfd>\u001b[0m in \u001b[0;36m<module>\u001b[0;34m()\u001b[0m\n\u001b[0;32m----> 1\u001b[0;31m \u001b[0;32mprint\u001b[0m \u001b[0;34m\"dict['Alice']\"\u001b[0m\u001b[0;34m,\u001b[0m \u001b[0mdict\u001b[0m\u001b[0;34m[\u001b[0m\u001b[0;34m'Alice'\u001b[0m\u001b[0;34m]\u001b[0m\u001b[0;34m\u001b[0m\u001b[0m\n\u001b[0m",
      "\u001b[0;31mKeyError\u001b[0m: 'Alice'"
     ]
    }
   ],
   "source": [
    "print \"dict['Alice']\", dict['Alice']"
   ]
  },
  {
   "cell_type": "code",
   "execution_count": 3,
   "metadata": {},
   "outputs": [
    {
     "name": "stdout",
     "output_type": "stream",
     "text": [
      " type <type 'dict'>\n",
      "len 3\n",
      "string {'Age': 7, 'Name': 'Zara', 'Class': 'First'}\n",
      "keys ['Age', 'Name', 'Class']\n",
      "values [7, 'Zara', 'First']\n"
     ]
    }
   ],
   "source": [
    "# dictionary\n",
    "print 'type',type(dict)\n",
    "print 'len', len(dict)\n",
    "print 'string', str(dict)\n",
    "print 'keys', dict.keys()\n",
    "print 'values', dict.values()"
   ]
  },
  {
   "cell_type": "markdown",
   "metadata": {},
   "source": [
    "# Switch-case statement"
   ]
  },
  {
   "cell_type": "code",
   "execution_count": 4,
   "metadata": {},
   "outputs": [
    {
     "ename": "NameError",
     "evalue": "name 'zero' is not defined",
     "output_type": "error",
     "traceback": [
      "\u001b[0;31m---------------------------------------------------------------------------\u001b[0m",
      "\u001b[0;31mNameError\u001b[0m                                 Traceback (most recent call last)",
      "\u001b[0;32m<ipython-input-4-9ded73338a5d>\u001b[0m in \u001b[0;36m<module>\u001b[0;34m()\u001b[0m\n\u001b[1;32m      1\u001b[0m options = {\n\u001b[0;32m----> 2\u001b[0;31m     \u001b[0;36m0\u001b[0m\u001b[0;34m:\u001b[0m \u001b[0mzero\u001b[0m\u001b[0;34m,\u001b[0m\u001b[0;34m\u001b[0m\u001b[0m\n\u001b[0m\u001b[1;32m      3\u001b[0m     \u001b[0;36m1\u001b[0m\u001b[0;34m:\u001b[0m \u001b[0mone\u001b[0m\u001b[0;34m,\u001b[0m\u001b[0;34m\u001b[0m\u001b[0m\n\u001b[1;32m      4\u001b[0m     \u001b[0;36m2\u001b[0m\u001b[0;34m:\u001b[0m \u001b[0mtwo\u001b[0m\u001b[0;34m,\u001b[0m\u001b[0;34m\u001b[0m\u001b[0m\n\u001b[1;32m      5\u001b[0m     \u001b[0;36m3\u001b[0m\u001b[0;34m:\u001b[0m \u001b[0mthree\u001b[0m\u001b[0;34m,\u001b[0m\u001b[0;34m\u001b[0m\u001b[0m\n",
      "\u001b[0;31mNameError\u001b[0m: name 'zero' is not defined"
     ]
    }
   ],
   "source": [
    "options = {\n",
    "    0: zero,\n",
    "    1: one,\n",
    "    2: two,\n",
    "    3: three,\n",
    "}"
   ]
  },
  {
   "cell_type": "code",
   "execution_count": 7,
   "metadata": {},
   "outputs": [],
   "source": [
    "def zero():\n",
    "    print 'Function zero'\n",
    "    \n",
    "def one():\n",
    "    print 'Function one'\n",
    "\n",
    "def two():\n",
    "    print 'Function two'\n",
    "    \n",
    "def three():\n",
    "    print 'Function three'\n",
    "    \n",
    "# dict\n",
    "options = {\n",
    "    0: zero,\n",
    "    1: one,\n",
    "    2: two,\n",
    "    3: three,\n",
    "}"
   ]
  },
  {
   "cell_type": "code",
   "execution_count": 8,
   "metadata": {},
   "outputs": [
    {
     "name": "stdout",
     "output_type": "stream",
     "text": [
      "Function zero\n",
      "\n",
      "case:  Function zero\n",
      "case:  Function one\n",
      "case:  Function two\n",
      "case:  Function three\n"
     ]
    }
   ],
   "source": [
    "# calling dictionary\n",
    "options[0]()\n",
    "print\n",
    "\n",
    "for i in range(0, len(options)):\n",
    "    print 'case: ', \n",
    "    options[i]()"
   ]
  },
  {
   "cell_type": "code",
   "execution_count": 25,
   "metadata": {},
   "outputs": [],
   "source": [
    "def zero():\n",
    "    print 'Function zero'\n",
    "    \n",
    "def one():\n",
    "    print 'Function one'\n",
    "\n",
    "def two():\n",
    "    print 'Function two'\n",
    "    \n",
    "def three():\n",
    "    print 'Function three'\n",
    "    \n",
    "def switch(argument):       \n",
    "    options = {\n",
    "        0: zero,\n",
    "        1: one,\n",
    "        2: two,\n",
    "        3: three,\n",
    "    }\n",
    "    # Get the function from options dictionary\n",
    "    func = options.get(argument, lambda: \"nothing\")\n",
    "    # Execute the function    \n",
    "    return func()"
   ]
  },
  {
   "cell_type": "code",
   "execution_count": 27,
   "metadata": {},
   "outputs": [
    {
     "name": "stdout",
     "output_type": "stream",
     "text": [
      "Function one\n",
      "Function zero\n"
     ]
    }
   ],
   "source": [
    "switch(1)\n",
    "switch(0)"
   ]
  },
  {
   "cell_type": "code",
   "execution_count": 33,
   "metadata": {},
   "outputs": [],
   "source": [
    "def addnum():\n",
    "    int1 = input('input first number:')\n",
    "    int2 = input('input second number:')\n",
    "    \n",
    "    tmp = int1+int2\n",
    "    print int1, '+', int2, '=', tmp\n",
    "    \n",
    "def delnum():\n",
    "    int1 = input('input first number:')\n",
    "    int2 = input('input second number:')\n",
    "    tmp = int1-int2\n",
    "    print int1, '-', int2, '=', tmp    \n",
    "    \n",
    "def switch(argument):       \n",
    "    options = {\n",
    "        0: addnum,\n",
    "        1: delnum\n",
    "    }\n",
    "    # Get the function from options dictionary\n",
    "    func = options.get(argument, lambda: \"nothing\")\n",
    "    # Execute the function    \n",
    "    return func()"
   ]
  },
  {
   "cell_type": "code",
   "execution_count": 32,
   "metadata": {},
   "outputs": [
    {
     "name": "stdout",
     "output_type": "stream",
     "text": [
      "input first number:2\n",
      "input second number:4\n",
      "2 + 4 = 6\n"
     ]
    }
   ],
   "source": [
    "switch(0)"
   ]
  },
  {
   "cell_type": "code",
   "execution_count": 34,
   "metadata": {},
   "outputs": [
    {
     "name": "stdout",
     "output_type": "stream",
     "text": [
      "input first number:5\n",
      "input second number:4\n",
      "5 - 4 = 1\n"
     ]
    }
   ],
   "source": [
    "switch(1)"
   ]
  }
 ],
 "metadata": {
  "kernelspec": {
   "display_name": "Python 2",
   "language": "python",
   "name": "python2"
  },
  "language_info": {
   "codemirror_mode": {
    "name": "ipython",
    "version": 2
   },
   "file_extension": ".py",
   "mimetype": "text/x-python",
   "name": "python",
   "nbconvert_exporter": "python",
   "pygments_lexer": "ipython2",
   "version": "2.7.12"
  }
 },
 "nbformat": 4,
 "nbformat_minor": 2
}
