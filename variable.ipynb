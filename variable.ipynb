{
 "cells": [
  {
   "cell_type": "markdown",
   "metadata": {},
   "source": [
    "# Variables, expressions, and statements\n",
    "## ตัวแปร นิพจน์ และคำสั่ง"
   ]
  },
  {
   "cell_type": "markdown",
   "metadata": {},
   "source": [
    "## Values and types\n",
    "## ค่าของข้อมูล และประเภทของข้อมูล\n",
    "\n",
    "'value' หรือค่าของข้อมูล เปรียบเสมือนตัวหนังสือ หรือตัวเลข ที่พบเห็นโดยทั่วไป   \n",
    "ตัวอย่างเช่น 1, 2, และ 'Hello World'\n",
    "\n",
    "'ค่าของข้อมูล' จะแยกเป็น 'ประเภท' ที่แตกต่างกันออกไป: เช่น 1 และ 2 เป็นข้อมูลประเภทตัวเลขแบบ 'integer'  \n",
    "และ 'Hello World' จะเป็นข้อมูลประเภทตัวอักษร หรือ 'string'  เนื่องจากว่าข้อมูลนั้นประกอบไปด้วยตัวอักษร 'string'  \n",
    "ดังนั้น ในการแปลความหมาย (interpreter) ของเครื่องคอมพิวเตอร์จะสังเกตุจากเครื่องหมายอัญประกาศ (Quotation marks) ' ' หรือ \" \"   \n",
    "จึงจะระบุได้ว่าข้อมูลนั้นอยู่ในประเภทตัวอักษร"
   ]
  },
  {
   "cell_type": "markdown",
   "metadata": {},
   "source": [
    "สำหรับการใช้คำสั่ง 'print' ในภาษา Python นั้นสามารถสั่งได้ทั้งข้อมูลแบบตัวเลขและตัวอักษร เช่น  \n",
    "\n",
    "```\n",
    "$ python\n",
    ">>> print 4\n",
    "4\n",
    ">>> print 'Hello World'\n",
    "Hello World\n",
    "```\n",
    "\n",
    "If you are not sure what type a value has, the interpreter can tell you.  \n",
    "แต่ถ้าหากว่าไม่แน่ใจว่าค่าของข้อมูลนั้นเป็นข้อมูลประเภทใด สามารถที่จะใช้คำสั่ง type เพื่อตรวจสอบประเภทของข้อมูลได้  \n",
    "\n",
    "```\n",
    ">>> type(4)\n",
    "<type 'int'>\n",
    ">>> type('Hello World')\n",
    "<type 'str'>\n",
    "\n",
    "```\n",
    "\n",
    "Strings belong to the type 'str' and integers belong to the type 'int'.  \n",
    "Numbers with a decimal point belong to a type called 'float', because these  \n",
    "numbers are represented in a format called 'floating point'  \n",
    "\n",
    "ตัวอักษรจะอยู่ในประเภท 'str' ตัวเลขแบบ integer จะอยู่ในประเภท 'int'  \n",
    "ตัวเลขที่มีจุดทศนิยมจะเรียกว่า ข้อมูลแบบ 'floating point' ดังนั้นจึงอยู่ในประเภท 'float'\n",
    "\n",
    "```\n",
    ">>> type(4.0)\n",
    "<type 'float'>\n",
    ">>> type(4.2)\n",
    "<type 'float'>\n",
    "```"
   ]
  },
  {
   "cell_type": "markdown",
   "metadata": {},
   "source": [
    "แต่ถ้าหากเป็นข้อมูลมีลักษณะเช่น '4' และ '4.2' ซึ่งหากมองดูผิวเผิน จะเข้าใจว่าเป็นตัวเลขแบบ integer และ floating point  \n",
    "แต่หากสังเกตุจะจบว่า ตัวเลข 4 และ 4.2 อยู่ภายใต้เครื่องหมายอัญประกาศ '4' และ '4.2'  \n",
    "\n",
    "ดังนั้น ข้อมูลทั้ง '4' และ '4.2' จึงเป็นข้อมูลแบบ 'str'\n",
    "\n",
    "```\n",
    ">>> type('4')\n",
    "<type 'str'>\n",
    "type('4.2')\n",
    "<type 'str'>\n",
    "```\n",
    "\n",
    "หากต้องการที่จะ print ข้อมูลตัวเลขแบบ integer เช่น ตัวเลขหลักพัน (1,000) หรือตัวเลขหลักล้าน (1,000,000)  \n",
    "หลายคนอาจจะชอบใช้เครื่องหมายคอมม่า (,) เพื่อคั่นระหว่างตัวเลข ผลลัพธ์ที่ออกมาจะเป็น 1 0 0 ไม่ใช่ 1,000,000 (ล้าน)  ดังตัวอย่างต่อไปนี้\n",
    "\n",
    "```\n",
    ">>> print 1,000,000\n",
    "1 0 0\n",
    "```\n",
    "\n",
    "ดังนั้น ในการพิมพ์ค่าของตัวเลขในภาษา Python จะไม่ใช้เครื่องหมายคอมม่าคั่น:\n",
    "\n",
    "```\n",
    ">>> print 1000000\n",
    "1000000\n",
    "```"
   ]
  },
  {
   "cell_type": "code",
   "execution_count": 9,
   "metadata": {},
   "outputs": [
    {
     "name": "stdout",
     "output_type": "stream",
     "text": [
      "(1, 0, 0)\n",
      "<type 'tuple'>\n"
     ]
    }
   ],
   "source": [
    "a = 1,000,000\n",
    "print a\n",
    "print type(a)\n",
    "\n",
    "# หากใช้ตัวแปร a เก็บข้อมูล 1,000,000 \n",
    "# ประเภทของตัวแปร a จะเป็นประเภท 'tuple'"
   ]
  },
  {
   "cell_type": "markdown",
   "metadata": {},
   "source": [
    "## Variables\n",
    "\n",
    "ตัวแปร (Variable) เป็นชื่อที่ใช้อ้างอิงถึงค่าของข้อมูลที่จัดเก็บ"
   ]
  },
  {
   "cell_type": "markdown",
   "metadata": {},
   "source": [
    "'Assignment statement' คือการกำหนดชื่อของตัวแปร และกำหนดค่าของข้อมูลให้กับตัวแปรนั้น\n",
    "\n",
    "```\n",
    "word = 'Hello World'\n",
    "num = 4\n",
    "pi = 3.1415926535897931\n",
    "```\n",
    "\n",
    "ดังนั้น ในการแสดงค่าข้อมูลของตัวแปรสามารถทได้โดยใช้คำสั่ง 'print'\n",
    "\n",
    "```\n",
    ">>> print word\n",
    "Hello World\n",
    ">>> print num\n",
    "4\n",
    ">>> print pi\n",
    "3.14159265359\n",
    "```\n",
    "\n",
    "หากต้องการดูประเภทของข้อมูลสามารถทำได้โดย\n",
    "\n",
    "```\n",
    ">>> type(word)\n",
    "<type 'str'>\n",
    ">>> type(n)\n",
    "<type 'int'>\n",
    ">>>type(pi)\n",
    "<type 'float'>\n",
    "```"
   ]
  },
  {
   "cell_type": "markdown",
   "metadata": {},
   "source": [
    "## Variable names and reserve keywords\n",
    "## ชื่อของตัวแปร และคำสงวน"
   ]
  },
  {
   "cell_type": "markdown",
   "metadata": {},
   "source": [
    "ในการตั้งชื่อของตัวแปรนั้นควรจะตั้งชื่อให้มีความหมาย (Meaningful) เพื่อใช้ง่ายต่อความเข้าใจ และควรจะหลีกเลี่ยงชื่อที่เป็นคำสงวน (Keyword) ชื่อของตัวแปรสามารถกำหนดให้ยาวเท่าไหร่ก็ได้ อีกทั้งยังสามารถให้ตั้งชื่อผสมระหว่างตัวอักษรและตัวเลขก็ได้ สามารถใช้ตัวอักษรตัวพิมพ์ใหญ่ (Uppercase) แต่ข้อห้ามคือ การกำหนดชื่อของตัวแปรที่เริ่มต้นด้วยตัวเลข ในการตั้งชื่อของตัวแปรส่วนใหญ่มักจะนิยมด้วยตัวอักษรตัวพิมพ์เล็ก (lowercase)  \n",
    "\n",
    "ในการกำหนดชื่อนั้นสามารถใช้ underscore (_) ได้ ซึ่งโดยทั่วไปแล้วใช้เพื่อคั่นระหว่างคำ (Words) มากกว่าหนึ่งคำ เช่น your_name, your_home_address เป็นต้น ตัวแปรนั้นสามารถเริ่มต้นด้วย underscore (_) ได้เช่นเดียวกัน เช่น _name แต่ควรหลีกเลี่ยงการใช้ underscore นำหน้าชื่อตัวแปร เนื่องจากส่วนใหญ่จะใช้เพื่อการสร้าง library code  "
   ]
  },
  {
   "cell_type": "code",
   "execution_count": 11,
   "metadata": {},
   "outputs": [
    {
     "ename": "SyntaxError",
     "evalue": "invalid syntax (<ipython-input-11-65b87c7d5199>, line 1)",
     "output_type": "error",
     "traceback": [
      "\u001b[0;36m  File \u001b[0;32m\"<ipython-input-11-65b87c7d5199>\"\u001b[0;36m, line \u001b[0;32m1\u001b[0m\n\u001b[0;31m    75numbers = 'big apple'\u001b[0m\n\u001b[0m            ^\u001b[0m\n\u001b[0;31mSyntaxError\u001b[0m\u001b[0;31m:\u001b[0m invalid syntax\n"
     ]
    }
   ],
   "source": [
    "75numbers = 'big apple'"
   ]
  },
  {
   "cell_type": "code",
   "execution_count": 12,
   "metadata": {},
   "outputs": [
    {
     "ename": "SyntaxError",
     "evalue": "invalid syntax (<ipython-input-12-b9d7c90aff18>, line 1)",
     "output_type": "error",
     "traceback": [
      "\u001b[0;36m  File \u001b[0;32m\"<ipython-input-12-b9d7c90aff18>\"\u001b[0;36m, line \u001b[0;32m1\u001b[0m\n\u001b[0;31m    email@ = 'olarik.s@msu.ac.th'\u001b[0m\n\u001b[0m         ^\u001b[0m\n\u001b[0;31mSyntaxError\u001b[0m\u001b[0;31m:\u001b[0m invalid syntax\n"
     ]
    }
   ],
   "source": [
    "email@ = 'olarik.s@msu.ac.th'"
   ]
  },
  {
   "cell_type": "code",
   "execution_count": 17,
   "metadata": {},
   "outputs": [
    {
     "ename": "SyntaxError",
     "evalue": "invalid syntax (<ipython-input-17-8a0c44a369a3>, line 1)",
     "output_type": "error",
     "traceback": [
      "\u001b[0;36m  File \u001b[0;32m\"<ipython-input-17-8a0c44a369a3>\"\u001b[0;36m, line \u001b[0;32m1\u001b[0m\n\u001b[0;31m    class = '4'\u001b[0m\n\u001b[0m          ^\u001b[0m\n\u001b[0;31mSyntaxError\u001b[0m\u001b[0;31m:\u001b[0m invalid syntax\n"
     ]
    }
   ],
   "source": [
    "class = '4'"
   ]
  },
  {
   "cell_type": "markdown",
   "metadata": {},
   "source": [
    "###  Reserve Keywords\n",
    "\n",
    "ในภาษา Python นั้นมีคำสงวน (Reserve keyword) จำนวนทั้งสิ้น 31 คำ ประกอบด้วย\n",
    "\n",
    "```\n",
    "and       del       from       not       while\n",
    "as        elif      global     or        with\n",
    "assert    else      if         pass      yield\n",
    "break     except    import     print\n",
    "class     exec      in         raise\n",
    "continue  finally   is         return\n",
    "def       for       lambda     try\n",
    "\n",
    "```"
   ]
  },
  {
   "cell_type": "markdown",
   "metadata": {},
   "source": [
    "## Statements\n",
    "## คำสั่ง"
   ]
  },
  {
   "cell_type": "markdown",
   "metadata": {},
   "source": [
    "'Statement' หรือ 'คำสั่ง' คือชุดของโปรแกรม (code) ที่โปรแกรมแปรภาษาของ Python (Python interpreter) สามารถที่จะนำไปประมวลผลได้ (execute) โดยคำสั่งนั้นสามารถเป็นได้ทั้ง expression และการ assignment statement \n",
    "\n",
    "'Script' หรือ 'ชุดคำสั่ง' ประกอบด้วยชุดของ statement ที่ต้องการนำไปประมวลผล และหากมีคำสั่งมากกว่า 1 คำสั่ง statement เหล่านั้นจะถูกจัดเรียงกันอย่างมีลำดับ (Sequence) เช่น\n",
    "\n",
    "```\n",
    "name = 'Olarik'\n",
    "surname = 'Surinta'\n",
    "print name\n",
    "print surname\n",
    "```"
   ]
  },
  {
   "cell_type": "code",
   "execution_count": 1,
   "metadata": {},
   "outputs": [
    {
     "name": "stdout",
     "output_type": "stream",
     "text": [
      "Olarik\n",
      "Surinta\n"
     ]
    }
   ],
   "source": [
    "name = 'Olarik'\n",
    "surname = 'Surinta'\n",
    "\n",
    "# output\n",
    "print name\n",
    "print surname"
   ]
  },
  {
   "cell_type": "markdown",
   "metadata": {
    "collapsed": true
   },
   "source": [
    "### expression / นิพจน์\n",
    "\n",
    "ในภาษา Python นั้นคำสั่งแบบ expression จะประกอบด้วยตรรกะ (Logical) เช่น ตัวเลข (Number) ตัวอักษร (String) อ๊อบเจ็ก (Object) และตัวดำเนินการ (Operator) ที่เป็นคำสั่งแบบเรียงลำดับ ดังนั้น ในการใช้คำสั่งแบบ expression เราสามารถที่จะใช้ตัวดำเนินการ เช่น + (addition), - (subtraction) และการเรียงต่อ (concatenation) เป็นต้น"
   ]
  },
  {
   "cell_type": "code",
   "execution_count": 2,
   "metadata": {},
   "outputs": [
    {
     "data": {
      "text/plain": [
       "40"
      ]
     },
     "execution_count": 2,
     "metadata": {},
     "output_type": "execute_result"
    }
   ],
   "source": [
    "# Examples\n",
    "\n",
    "# using Arithmetic expressions\n",
    "((10 + 2) * 100 / 5 - 200)"
   ]
  },
  {
   "cell_type": "code",
   "execution_count": 3,
   "metadata": {},
   "outputs": [
    {
     "data": {
      "text/plain": [
       "1024"
      ]
     },
     "execution_count": 3,
     "metadata": {},
     "output_type": "execute_result"
    }
   ],
   "source": [
    "# using functions in an expression\n",
    "pow(2,10)"
   ]
  },
  {
   "cell_type": "markdown",
   "metadata": {},
   "source": [
    "### assignment statement\n",
    "ในส่วนของ assignment statement ก็คือการสร้างตัวแปร (variable) และกำหนดค่าให้กับตัวแปรนั้น ๆ ดังนั้น ในคำสั่งจะประกอบไปด้วย expression และชื่อของตัวแปร (variable name) ซึ่งทำหน้าที่อธิบายค่าของข้อมูล\n",
    "\n",
    "```\n",
    "# Syntax\n",
    "variable = expression\n",
    "```\n",
    "เช่น\n",
    "```\n",
    "prog = 'Python'\n",
    "```\n",
    "ตัวอย่างข้างต้นคือพื้นฐานของการกำหนดค่าให้กับตัวแปร prog "
   ]
  },
  {
   "cell_type": "markdown",
   "metadata": {},
   "source": [
    "ตัวอย่างต่อไปนี้ เป็นการกำหนดของตัวแปร 'prog' ให้มีค่าเป็น 'Python'\n",
    "\n",
    "```\n",
    "prog = 'Python'\n",
    "```\n",
    "จากนั้นสามารถใช้คำสั่ง 'id()' เพื่อตรวจสอบพื้นที่ในหน่วยความจำ (Memory address) ที่ใช้ในการจัดเก็บตัวแปร 'prog'\n",
    "\n",
    "```\n",
    "id(prog)\n",
    "```"
   ]
  },
  {
   "cell_type": "code",
   "execution_count": 5,
   "metadata": {},
   "outputs": [
    {
     "data": {
      "text/plain": [
       "139765377670000"
      ]
     },
     "execution_count": 5,
     "metadata": {},
     "output_type": "execute_result"
    }
   ],
   "source": [
    "prog = 'Python'\n",
    "id(prog)"
   ]
  },
  {
   "cell_type": "markdown",
   "metadata": {},
   "source": [
    "แต่โปรแกรม Python จะจัดสรรพื้นที่ในหน่วยความจำให้เป็นพื้นที่เดียวกันในกรณีต่อไปนี้\n",
    "\n",
    "```\n",
    "prog = 'Python'\n",
    "another_prog = prog\n",
    "```"
   ]
  },
  {
   "cell_type": "code",
   "execution_count": 9,
   "metadata": {},
   "outputs": [
    {
     "name": "stdout",
     "output_type": "stream",
     "text": [
      "139765377670000\n",
      "139765377670000\n"
     ]
    }
   ],
   "source": [
    "prog = 'Python'\n",
    "print id(prog)\n",
    "\n",
    "new_prog = prog\n",
    "print id(new_prog)"
   ]
  },
  {
   "cell_type": "markdown",
   "metadata": {},
   "source": [
    "Right-hand Side (RHS) จะเป็นตัวดำเนินการ (Operation) ได้แก่\n",
    "\n",
    "```\n",
    "prog = 'Python' + 'Program'\n",
    "```\n",
    "\n",
    "ดังนั้น 'Python' + 'Program' จึงเป็นตัวดำเนินการ"
   ]
  },
  {
   "cell_type": "markdown",
   "metadata": {},
   "source": [
    "### Augmented assignment statement\n",
    "\n",
    "เราสามารถรวมเอาการคำนวณทางคณิตศาสตร์ให้อยู่ในรูปแบบของ augmented assisnment เช่น\n",
    "\n",
    "```\n",
    "a = a+1\n",
    "```\n",
    "สามารถเปลี่ยนให้เป็น\n",
    "```\n",
    "a += 1\n",
    "```"
   ]
  },
  {
   "cell_type": "code",
   "execution_count": 11,
   "metadata": {},
   "outputs": [
    {
     "name": "stdout",
     "output_type": "stream",
     "text": [
      "(10, 20, 30, 40, 50)\n"
     ]
    }
   ],
   "source": [
    "my_tuple = (10, 20, 30)\n",
    "my_tuple += (40, 50)\n",
    "\n",
    "print(my_tuple)"
   ]
  },
  {
   "cell_type": "code",
   "execution_count": 12,
   "metadata": {},
   "outputs": [
    {
     "name": "stdout",
     "output_type": "stream",
     "text": [
      "['a', 'e', 'i', 'o', 'u']\n"
     ]
    }
   ],
   "source": [
    "list_vowels = ['a','e','i']\n",
    "list_vowels += ['o','u']\n",
    "\n",
    "print list_vowels"
   ]
  },
  {
   "cell_type": "code",
   "execution_count": 3,
   "metadata": {},
   "outputs": [
    {
     "name": "stdout",
     "output_type": "stream",
     "text": [
      "a = 15\n"
     ]
    }
   ],
   "source": [
    "a = 20\n",
    "a -= 5\n",
    "\n",
    "print 'a =', a"
   ]
  },
  {
   "cell_type": "code",
   "execution_count": 19,
   "metadata": {},
   "outputs": [
    {
     "ename": "TypeError",
     "evalue": "unsupported operand type(s) for -=: 'list' and 'list'",
     "output_type": "error",
     "traceback": [
      "\u001b[0;31m---------------------------------------------------------------------------\u001b[0m",
      "\u001b[0;31mTypeError\u001b[0m                                 Traceback (most recent call last)",
      "\u001b[0;32m<ipython-input-19-5dfd4d605956>\u001b[0m in \u001b[0;36m<module>\u001b[0;34m()\u001b[0m\n\u001b[1;32m      1\u001b[0m \u001b[0;31m# สำหรับ list ไม่สามารถใช้ '-=' ได้\u001b[0m\u001b[0;34m\u001b[0m\u001b[0;34m\u001b[0m\u001b[0m\n\u001b[1;32m      2\u001b[0m \u001b[0mlist_vowels\u001b[0m \u001b[0;34m=\u001b[0m \u001b[0;34m[\u001b[0m\u001b[0;34m'a'\u001b[0m\u001b[0;34m,\u001b[0m\u001b[0;34m'e'\u001b[0m\u001b[0;34m,\u001b[0m\u001b[0;34m'i'\u001b[0m\u001b[0;34m]\u001b[0m\u001b[0;34m\u001b[0m\u001b[0m\n\u001b[0;32m----> 3\u001b[0;31m \u001b[0mlist_vowels\u001b[0m \u001b[0;34m-=\u001b[0m \u001b[0;34m[\u001b[0m\u001b[0;34m'o'\u001b[0m\u001b[0;34m,\u001b[0m\u001b[0;34m'u'\u001b[0m\u001b[0;34m]\u001b[0m\u001b[0;34m\u001b[0m\u001b[0m\n\u001b[0m\u001b[1;32m      4\u001b[0m \u001b[0;34m\u001b[0m\u001b[0m\n\u001b[1;32m      5\u001b[0m \u001b[0;32mprint\u001b[0m \u001b[0mlist_vowels\u001b[0m\u001b[0;34m\u001b[0m\u001b[0m\n",
      "\u001b[0;31mTypeError\u001b[0m: unsupported operand type(s) for -=: 'list' and 'list'"
     ]
    }
   ],
   "source": [
    "# สำหรับ list ไม่สามารถใช้ '-=' ได้\n",
    "list_vowels = ['a','e','i']\n",
    "list_vowels -= ['o','u']\n",
    "\n",
    "print list_vowels"
   ]
  },
  {
   "cell_type": "code",
   "execution_count": 14,
   "metadata": {},
   "outputs": [
    {
     "name": "stdout",
     "output_type": "stream",
     "text": [
      "['a', 'e']\n"
     ]
    }
   ],
   "source": [
    "# remove last element/item from list\n",
    "list_vowels = ['a','e','i']\n",
    "list_vowels.pop()\n",
    "\n",
    "print list_vowels"
   ]
  },
  {
   "cell_type": "code",
   "execution_count": 15,
   "metadata": {},
   "outputs": [
    {
     "name": "stdout",
     "output_type": "stream",
     "text": [
      "['e', 'i']\n"
     ]
    }
   ],
   "source": [
    "# remove first element from list by using index (0)\n",
    "list_vowels = ['a','e','i']\n",
    "list_vowels.pop(0)\n",
    "\n",
    "print list_vowels"
   ]
  },
  {
   "cell_type": "code",
   "execution_count": 18,
   "metadata": {},
   "outputs": [
    {
     "name": "stdout",
     "output_type": "stream",
     "text": [
      "['a', 'i']\n"
     ]
    }
   ],
   "source": [
    "# remove specific index (1) from list\n",
    "list_vowels = ['a','e','i']\n",
    "list_vowels.pop(1)\n",
    "\n",
    "print list_vowels"
   ]
  },
  {
   "cell_type": "code",
   "execution_count": 43,
   "metadata": {},
   "outputs": [
    {
     "name": "stdout",
     "output_type": "stream",
     "text": [
      "['a', 'i']\n"
     ]
    }
   ],
   "source": [
    "list_vowels = ['a','e','i']\n",
    "list_vowels.remove('e')\n",
    "\n",
    "print list_vowels"
   ]
  },
  {
   "cell_type": "code",
   "execution_count": 20,
   "metadata": {},
   "outputs": [
    {
     "ename": "TypeError",
     "evalue": "unsupported operand type(s) for -=: 'tuple' and 'int'",
     "output_type": "error",
     "traceback": [
      "\u001b[0;31m---------------------------------------------------------------------------\u001b[0m",
      "\u001b[0;31mTypeError\u001b[0m                                 Traceback (most recent call last)",
      "\u001b[0;32m<ipython-input-20-bc27cb0e7436>\u001b[0m in \u001b[0;36m<module>\u001b[0;34m()\u001b[0m\n\u001b[1;32m      1\u001b[0m \u001b[0mmy_tuple\u001b[0m \u001b[0;34m=\u001b[0m \u001b[0;34m(\u001b[0m\u001b[0;36m10\u001b[0m\u001b[0;34m,\u001b[0m \u001b[0;36m20\u001b[0m\u001b[0;34m,\u001b[0m \u001b[0;36m30\u001b[0m\u001b[0;34m)\u001b[0m\u001b[0;34m\u001b[0m\u001b[0m\n\u001b[0;32m----> 2\u001b[0;31m \u001b[0mmy_tuple\u001b[0m \u001b[0;34m-=\u001b[0m \u001b[0;34m(\u001b[0m\u001b[0;36m30\u001b[0m\u001b[0;34m)\u001b[0m\u001b[0;34m\u001b[0m\u001b[0m\n\u001b[0m\u001b[1;32m      3\u001b[0m \u001b[0;34m\u001b[0m\u001b[0m\n\u001b[1;32m      4\u001b[0m \u001b[0;32mprint\u001b[0m\u001b[0;34m(\u001b[0m\u001b[0mmy_tuple\u001b[0m\u001b[0;34m)\u001b[0m\u001b[0;34m\u001b[0m\u001b[0m\n",
      "\u001b[0;31mTypeError\u001b[0m: unsupported operand type(s) for -=: 'tuple' and 'int'"
     ]
    }
   ],
   "source": [
    "my_tuple = (10, 20, 30)\n",
    "my_tuple -= (30)\n",
    "\n",
    "print(my_tuple)"
   ]
  },
  {
   "cell_type": "markdown",
   "metadata": {},
   "source": [
    "## Deleting a Tuple / การลบ Tuple\n",
    "\n",
    "Python ไม่อนุญาตให้ทำการเปลี่ยนหรือแก้ไขสมาชิก (element) ที่อยู่ใน tuple ได้ ดังนั้น จึงไม่สามารถลบ (delete, remove) ข้อมูลที่อยู่ใน tuple ได้ \n"
   ]
  },
  {
   "cell_type": "code",
   "execution_count": 38,
   "metadata": {},
   "outputs": [
    {
     "ename": "NameError",
     "evalue": "name 'my_tuple' is not defined",
     "output_type": "error",
     "traceback": [
      "\u001b[0;31m---------------------------------------------------------------------------\u001b[0m",
      "\u001b[0;31mNameError\u001b[0m                                 Traceback (most recent call last)",
      "\u001b[0;32m<ipython-input-38-a28ffccc09e5>\u001b[0m in \u001b[0;36m<module>\u001b[0;34m()\u001b[0m\n\u001b[1;32m      4\u001b[0m \u001b[0;32mdel\u001b[0m \u001b[0mmy_tuple\u001b[0m\u001b[0;34m\u001b[0m\u001b[0m\n\u001b[1;32m      5\u001b[0m \u001b[0;34m\u001b[0m\u001b[0m\n\u001b[0;32m----> 6\u001b[0;31m \u001b[0;32mprint\u001b[0m \u001b[0mmy_tuple\u001b[0m\u001b[0;34m\u001b[0m\u001b[0m\n\u001b[0m",
      "\u001b[0;31mNameError\u001b[0m: name 'my_tuple' is not defined"
     ]
    }
   ],
   "source": [
    "my_tuple = (10, 20, 30)\n",
    "\n",
    "# del คือการลบตัวแปรที่เป็น tuple\n",
    "del my_tuple\n",
    "\n",
    "print my_tuple"
   ]
  },
  {
   "cell_type": "markdown",
   "metadata": {},
   "source": [
    "แต่ทั้งนี้ หากต้องการที่จะลบสมาชิกที่อยู่ใน Tuple สามารถทำได้โดยแปลงตัวแปรจาก tuple ให้เป็น list ดังตัวอย่างต่อไปนี้"
   ]
  },
  {
   "cell_type": "code",
   "execution_count": 40,
   "metadata": {},
   "outputs": [
    {
     "name": "stdout",
     "output_type": "stream",
     "text": [
      "<type 'list'>\n",
      "[10, 20, 30]\n",
      "[10, 20]\n"
     ]
    }
   ],
   "source": [
    "my_tuple = (10, 20, 30)\n",
    "\n",
    "tuple_to_list = list(my_tuple)\n",
    "\n",
    "print type(tuple_to_list)\n",
    "print tuple_to_list\n",
    "\n",
    "# remove element\n",
    "tuple_to_list.pop()\n",
    "print tuple_to_list"
   ]
  },
  {
   "cell_type": "markdown",
   "metadata": {},
   "source": [
    "เมื่อลบสมาชิกเสร็จเรียบร้อย อาจเปลี่ยนตัวแปรให้กลับไปเป็น tuple เหมือนเดิม"
   ]
  },
  {
   "cell_type": "code",
   "execution_count": 42,
   "metadata": {},
   "outputs": [
    {
     "name": "stdout",
     "output_type": "stream",
     "text": [
      "<type 'tuple'>\n"
     ]
    }
   ],
   "source": [
    "tuplex = tuple(tuple_to_list)\n",
    "\n",
    "print type(tuplex)"
   ]
  },
  {
   "cell_type": "markdown",
   "metadata": {},
   "source": [
    "### Multi-line Statement\n",
    "\n",
    "ในภาษา Python นั้นหากขึ้นบรรทัดใหม่ จะถือว่าเป็น statement ใหม่ ดังนั้น หาก statement มีความยาวเกินหนึ่งบรรทัดสามารถใช้เครื่องหมาย backslash เพื่อช่วยทำให้ statement นั้นสามารถพิมพ์ในบรรทัดต่อไปได้ เช่น\n",
    "\n",
    "```\n",
    "my_tuple = (10, 20, 30) + \\\n",
    "            (40,50)\n",
    "```            "
   ]
  },
  {
   "cell_type": "code",
   "execution_count": 22,
   "metadata": {},
   "outputs": [
    {
     "ename": "SyntaxError",
     "evalue": "invalid syntax (<ipython-input-22-c19928f578cb>, line 2)",
     "output_type": "error",
     "traceback": [
      "\u001b[0;36m  File \u001b[0;32m\"<ipython-input-22-c19928f578cb>\"\u001b[0;36m, line \u001b[0;32m2\u001b[0m\n\u001b[0;31m    my_tuple = (10, 20, 30) +\u001b[0m\n\u001b[0m                             ^\u001b[0m\n\u001b[0;31mSyntaxError\u001b[0m\u001b[0;31m:\u001b[0m invalid syntax\n"
     ]
    }
   ],
   "source": [
    "# กรณีไม่ใช้เครื่องหมาย \\\n",
    "my_tuple = (10, 20, 30) +\n",
    "            (40,50)"
   ]
  },
  {
   "cell_type": "code",
   "execution_count": 24,
   "metadata": {},
   "outputs": [
    {
     "name": "stdout",
     "output_type": "stream",
     "text": [
      "(10, 20, 30, 40, 50)\n"
     ]
    }
   ],
   "source": [
    "my_tuple = (10, 20, 30) + \\\n",
    "            (40,50)\n",
    "    \n",
    "print my_tuple"
   ]
  },
  {
   "cell_type": "markdown",
   "metadata": {},
   "source": [
    "## Operators and Operands\n",
    "\n",
    "Operator คือสัญลักษณ์พิเศษ (Symbol) ที่ใช้เป็นเครื่องหมายแทนการคำนวณ เช่น การบวก ลบ คูณ หาร (+, -, *, /) เป็นต้น  \n",
    "Operand คือตัวแปร (variable) หรือค่าคงที่ (Constant) ที่ถูกนำมาคำนวณ \n",
    "\n",
    "```\n",
    "area = width * high\n",
    "```\n",
    "\n",
    "จากตัวอย่าง  \n",
    "Operator คือ *  \n",
    "Operand คือ widht และ high"
   ]
  }
 ],
 "metadata": {
  "kernelspec": {
   "display_name": "Python 2",
   "language": "python",
   "name": "python2"
  },
  "language_info": {
   "codemirror_mode": {
    "name": "ipython",
    "version": 2
   },
   "file_extension": ".py",
   "mimetype": "text/x-python",
   "name": "python",
   "nbconvert_exporter": "python",
   "pygments_lexer": "ipython2",
   "version": "2.7.12"
  }
 },
 "nbformat": 4,
 "nbformat_minor": 2
}
