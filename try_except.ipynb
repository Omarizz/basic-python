{
  "nbformat": 4,
  "nbformat_minor": 0,
  "metadata": {
    "colab": {
      "name": "try-except.ipynb",
      "version": "0.3.2",
      "provenance": []
    },
    "kernelspec": {
      "name": "python3",
      "display_name": "Python 3"
    }
  },
  "cells": [
    {
      "metadata": {
        "id": "nYQGZAf84gaN",
        "colab_type": "text"
      },
      "cell_type": "markdown",
      "source": [
        "## try and except  \n",
        "\n",
        "\n",
        "*  **try** จะถูกนำมาใช้เพื่อทดสอบโค้ด (code) ที่อาจมีข้อผิดพลาด (error)  \n",
        "*   **except** ใช้เมื่อต้องการจัดการกับข้อผิดพลาด (Handle the error)\n",
        "\n"
      ]
    },
    {
      "metadata": {
        "id": "evavpp_z5nW7",
        "colab_type": "code",
        "outputId": "53087cc0-179c-43ae-ea6e-89a9e45a24a6",
        "colab": {
          "base_uri": "https://localhost:8080/",
          "height": 168
        }
      },
      "cell_type": "code",
      "source": [
        "print(name)"
      ],
      "execution_count": 0,
      "outputs": [
        {
          "output_type": "error",
          "ename": "NameError",
          "evalue": "ignored",
          "traceback": [
            "\u001b[0;31m---------------------------------------------------------------------------\u001b[0m",
            "\u001b[0;31mNameError\u001b[0m                                 Traceback (most recent call last)",
            "\u001b[0;32m<ipython-input-6-9ba126b17b03>\u001b[0m in \u001b[0;36m<module>\u001b[0;34m()\u001b[0m\n\u001b[0;32m----> 1\u001b[0;31m \u001b[0mprint\u001b[0m\u001b[0;34m(\u001b[0m\u001b[0mname\u001b[0m\u001b[0;34m)\u001b[0m\u001b[0;34m\u001b[0m\u001b[0;34m\u001b[0m\u001b[0m\n\u001b[0m",
            "\u001b[0;31mNameError\u001b[0m: name 'name' is not defined"
          ]
        }
      ]
    },
    {
      "metadata": {
        "id": "nynm6XND5qF5",
        "colab_type": "text"
      },
      "cell_type": "markdown",
      "source": [
        "โค้ดข้างต้นเมื่อสั่งให้พิมพ์ค่าตัวแปร name **print(name)**  จะเกิดข้อผิดพลาดคือ *NameError: name 'name' is not defined* นั่นหมายถึงตัวแปร name ไม่ได้ประกาศค่าตัวแปรขึ้นมาก่อน ดังนั้น สามารถแก้ไขโดยการกำหนดค่าตัวแปร เช่น  \n",
        "  \n",
        "\n",
        "```\n",
        "  name = 'Olarik' \n",
        "  print(name)\n",
        "```\n",
        "\n"
      ]
    },
    {
      "metadata": {
        "id": "RcPHl-Jq6HKa",
        "colab_type": "text"
      },
      "cell_type": "markdown",
      "source": [
        "### ใช้ except จัดการกับข้อผิดพลาดในการตั้งตัวแปร **NameError**\n",
        "สามารถจัดการข้อผิดพลาด (Error) ที่เกิดขึ้นโดยการใช้ try-except ดังนี้"
      ]
    },
    {
      "metadata": {
        "id": "sJ01ihs34Rc8",
        "colab_type": "code",
        "outputId": "b02abae0-6a03-40b3-803e-c194eb56b8a7",
        "colab": {
          "base_uri": "https://localhost:8080/",
          "height": 36
        }
      },
      "cell_type": "code",
      "source": [
        "try:\n",
        "  print(name)\n",
        "except: \n",
        "  print('An exception occurred')"
      ],
      "execution_count": 0,
      "outputs": [
        {
          "output_type": "stream",
          "text": [
            "An exception occurred\n"
          ],
          "name": "stdout"
        }
      ]
    },
    {
      "metadata": {
        "id": "wh2PTAX15Pbz",
        "colab_type": "code",
        "outputId": "ed0c84c5-0b9a-4398-b4a7-6cba8d2c01e9",
        "colab": {
          "base_uri": "https://localhost:8080/",
          "height": 36
        }
      },
      "cell_type": "code",
      "source": [
        "try:\n",
        "  print(name)\n",
        "except NameError: \n",
        "  print('Variable \\'name\\' is not defined')"
      ],
      "execution_count": 0,
      "outputs": [
        {
          "output_type": "stream",
          "text": [
            "Variable 'name' is not defined\n"
          ],
          "name": "stdout"
        }
      ]
    },
    {
      "metadata": {
        "id": "RwMXa0GpBm3r",
        "colab_type": "text"
      },
      "cell_type": "markdown",
      "source": [
        "### ใช้ except จัดการกับข้อผิดพลาดในการเรียกใช้โมดูล **ImportError**\n",
        "สามารถจัดการข้อผิดพลาด (Error) ที่เกิดขึ้นโดยการใช้ try-except ดังนี้"
      ]
    },
    {
      "metadata": {
        "id": "2QBBMSvrBC-n",
        "colab_type": "code",
        "outputId": "a9770827-59ab-4a90-9d4c-15d856331ebd",
        "colab": {
          "base_uri": "https://localhost:8080/",
          "height": 34
        }
      },
      "cell_type": "code",
      "source": [
        "try:\n",
        "  import face_recognition\n",
        "except ImportError:\n",
        "  print('No Module name \\'face_recognition\\'')"
      ],
      "execution_count": 66,
      "outputs": [
        {
          "output_type": "stream",
          "text": [
            "No Module name 'face_recognition'\n"
          ],
          "name": "stdout"
        }
      ]
    },
    {
      "metadata": {
        "id": "_fx8Rqz8BTYY",
        "colab_type": "code",
        "colab": {}
      },
      "cell_type": "code",
      "source": [
        "try:\n",
        "  import sys\n",
        "except ImportError:\n",
        "  print('No Module found')"
      ],
      "execution_count": 0,
      "outputs": []
    },
    {
      "metadata": {
        "id": "yeu5TCqgBwkV",
        "colab_type": "text"
      },
      "cell_type": "markdown",
      "source": [
        "### ใช้ except จัดการกับข้อผิดพลาดในการกำหนดค่าให้กับแปร **ValueError**\n",
        "สามารถจัดการข้อผิดพลาด (Error) ที่เกิดขึ้นโดยการใช้ try-except ดังนี้"
      ]
    },
    {
      "metadata": {
        "id": "EtEXozCPCbVN",
        "colab_type": "code",
        "outputId": "c45003de-d882-4b9a-e029-94965c201386",
        "colab": {
          "base_uri": "https://localhost:8080/",
          "height": 52
        }
      },
      "cell_type": "code",
      "source": [
        "# กำหนดให้ x เป็นตัวแปรแบบ integer\n",
        "x = 20\n",
        "\n",
        "try:\n",
        "  y = int(x)\n",
        "except ValueError: \n",
        "  print('Variable \\'x\\' is not integer')\n",
        "  \n",
        "print('type of y:', type(y))\n",
        "print('value of y:', y)"
      ],
      "execution_count": 0,
      "outputs": [
        {
          "output_type": "stream",
          "text": [
            "type of y: <class 'int'>\n",
            "value of y: 20\n"
          ],
          "name": "stdout"
        }
      ]
    },
    {
      "metadata": {
        "id": "8zsPKkmmBw5j",
        "colab_type": "code",
        "outputId": "f92c2e7d-1758-48e3-d271-9a084b1299f9",
        "colab": {
          "base_uri": "https://localhost:8080/",
          "height": 36
        }
      },
      "cell_type": "code",
      "source": [
        "# กำหนดให้ x เป็นตัวแปรแบบ string\n",
        "x = 'olarik'\n",
        "\n",
        "try:\n",
        "  # ไม่สามารถแปลงข้อมูลแบบ string ให้เป็น integer\n",
        "  y = int(x)\n",
        "except ValueError: \n",
        "  print('Variable \\'x\\' is not integer')"
      ],
      "execution_count": 0,
      "outputs": [
        {
          "output_type": "stream",
          "text": [
            "Variable 'x' is not integer\n"
          ],
          "name": "stdout"
        }
      ]
    },
    {
      "metadata": {
        "id": "d3CRpLpcDJLZ",
        "colab_type": "code",
        "outputId": "4c04aa7b-87a2-4caa-aa21-7c556f33e6fa",
        "colab": {
          "base_uri": "https://localhost:8080/",
          "height": 52
        }
      },
      "cell_type": "code",
      "source": [
        "# กำหนดให้ x เป็นตัวแปรแบบ floating point\n",
        "x = 20.343\n",
        "\n",
        "try:\n",
        "  # สามารถใช้ฟังก์ชัน int() เพื่อแปลงข้อมูลจาก floating point เป็น integer\n",
        "  y = int(x)\n",
        "except ValueError: \n",
        "  print('Variable \\'x\\' is not integer')\n",
        "  \n",
        "print('type of y:', type(y))\n",
        "print('value of y:', y)"
      ],
      "execution_count": 0,
      "outputs": [
        {
          "output_type": "stream",
          "text": [
            "type of y: <class 'int'>\n",
            "value of y: 20\n"
          ],
          "name": "stdout"
        }
      ]
    },
    {
      "metadata": {
        "id": "wXCcSz48-Rtf",
        "colab_type": "text"
      },
      "cell_type": "markdown",
      "source": [
        "### ใช้ except จัดการกับข้อผิดพลาดในการตั้งตัวแปร **IOError**"
      ]
    },
    {
      "metadata": {
        "id": "_8Tj4nzC6c4a",
        "colab_type": "code",
        "outputId": "0351d9d7-38b8-437a-bf8d-cf3c52271d6c",
        "colab": {
          "base_uri": "https://localhost:8080/",
          "height": 36
        }
      },
      "cell_type": "code",
      "source": [
        "try:\n",
        "  f = open('demofile.txt')\n",
        "  f.write('Lorum Ipsum')\n",
        "  f.close()\n",
        "except IOError:\n",
        "  print('Something went wrong when writing to the file')"
      ],
      "execution_count": 0,
      "outputs": [
        {
          "output_type": "stream",
          "text": [
            "Something went wrong when writing to the file\n"
          ],
          "name": "stdout"
        }
      ]
    },
    {
      "metadata": {
        "id": "tN18bu825hri",
        "colab_type": "text"
      },
      "cell_type": "markdown",
      "source": [
        "### ใช้ except จัดการกับข้อผิดพลาดที่มากกว่า 1 เงื่อนไข"
      ]
    },
    {
      "metadata": {
        "id": "6QQeakts6pjj",
        "colab_type": "code",
        "outputId": "97401985-87d3-4c94-dce6-ee8aeb8f6373",
        "colab": {
          "base_uri": "https://localhost:8080/",
          "height": 36
        }
      },
      "cell_type": "code",
      "source": [
        "try:\n",
        "  print(name)\n",
        "  f = open('demofile.txt')\n",
        "  f.write(name)\n",
        "  f.close()\n",
        "except NameError:\n",
        "  print('Variable \\'name\\' is not defined')\n",
        "except IOError:\n",
        "  print('Something went wrong when writing to the file')\n",
        "except NameError:\n",
        "  print('Variable \\'document_name\\' is not defined')"
      ],
      "execution_count": 0,
      "outputs": [
        {
          "output_type": "stream",
          "text": [
            "Variable 'name' is not defined\n"
          ],
          "name": "stdout"
        }
      ]
    },
    {
      "metadata": {
        "id": "Diwahxj9Ab17",
        "colab_type": "text"
      },
      "cell_type": "markdown",
      "source": [
        "กรณีข้างต้น ผิดพลาดเนื่องจากไม่ได้กำหนดตัวแปร **name** โปรแกรมจึงวิ่งไปตรวจสอบที่ *except NameError*"
      ]
    },
    {
      "metadata": {
        "id": "E_4cszEj8gY-",
        "colab_type": "code",
        "outputId": "b1c5de95-bd51-4ec9-8e36-2c510921cafd",
        "colab": {
          "base_uri": "https://localhost:8080/",
          "height": 52
        }
      },
      "cell_type": "code",
      "source": [
        "try:\n",
        "  name = 'Olarik'\n",
        "  print(name)\n",
        "  f = open('demofile.txt')\n",
        "  f.write(name)\n",
        "  f.close()\n",
        "except NameError:\n",
        "  print('Variable \\'name\\' is not defined')\n",
        "except IOError:\n",
        "  print('Something went wrong when writing to the file')\n",
        "except NameError:\n",
        "  print('Variable \\'document_name\\' is not defined')"
      ],
      "execution_count": 0,
      "outputs": [
        {
          "output_type": "stream",
          "text": [
            "Olarik\n",
            "Something went wrong when writing to the file\n"
          ],
          "name": "stdout"
        }
      ]
    },
    {
      "metadata": {
        "id": "mkjS0CGxAm2h",
        "colab_type": "text"
      },
      "cell_type": "markdown",
      "source": [
        "กรณีข้างต้น ผิดพลาดเนื่องจากไม่สามารถเปิดไฟล์ **demofile.xt** โปรแกรมจึงวิ่งไปตรวจสอบที่ *except IOError*"
      ]
    },
    {
      "metadata": {
        "id": "3hQci02SaHOR",
        "colab_type": "text"
      },
      "cell_type": "markdown",
      "source": [
        "### การใช้คำสั่ง **pass**"
      ]
    },
    {
      "metadata": {
        "id": "MdDjYJwP_NHK",
        "colab_type": "code",
        "colab": {
          "base_uri": "https://localhost:8080/",
          "height": 34
        },
        "outputId": "8225acf4-53e9-47cd-d243-84c3f4333a7b"
      },
      "cell_type": "code",
      "source": [
        "your_name = 'Marco'\n",
        "\n",
        "try:\n",
        "  print('My name is', my_name)\n",
        "except NameError:\n",
        "  pass\n",
        "\n",
        "\n",
        "print('Your name is', your_name)"
      ],
      "execution_count": 73,
      "outputs": [
        {
          "output_type": "stream",
          "text": [
            "Your name is Marco\n"
          ],
          "name": "stdout"
        }
      ]
    },
    {
      "metadata": {
        "id": "-O3YYyUtak-A",
        "colab_type": "text"
      },
      "cell_type": "markdown",
      "source": [
        "จากตัวอย่างข้างต้น ไม่ได้ประกาศตัวแปรชื่อ *my_name* จึงทำให้เกิด *NameError*   \n",
        "ในกรณีนี้ ได้ใช้คำสั่ง **pass** ในส่วนของ except เพื่อให้ผ่านไปรันโปรแกรมในส่วนต่อ ๆ ไป"
      ]
    },
    {
      "metadata": {
        "id": "Ngyor5iRbUeK",
        "colab_type": "text"
      },
      "cell_type": "markdown",
      "source": [
        "### ตัวอย่างการใช้ try-except เพิ่มเติม"
      ]
    },
    {
      "metadata": {
        "id": "j7YkPeDLZy-9",
        "colab_type": "code",
        "colab": {
          "base_uri": "https://localhost:8080/",
          "height": 34
        },
        "outputId": "563a26c8-4690-43e6-83aa-1cd2b9c669a1"
      },
      "cell_type": "code",
      "source": [
        "try:\n",
        "  f = open('demofile.txt')\n",
        "  f.write('Lorum Ipsum')\n",
        "  f.close()\n",
        "except FileNotFoundError as fnf_error:\n",
        "  print(fnf_error)"
      ],
      "execution_count": 63,
      "outputs": [
        {
          "output_type": "stream",
          "text": [
            "[Errno 2] No such file or directory: 'demofile.txt'\n"
          ],
          "name": "stdout"
        }
      ]
    },
    {
      "metadata": {
        "id": "RFqsHFGqbHSR",
        "colab_type": "code",
        "colab": {
          "base_uri": "https://localhost:8080/",
          "height": 34
        },
        "outputId": "a3c0e78e-a0ef-4f6e-9b32-da34da48be68"
      },
      "cell_type": "code",
      "source": [
        "try:\n",
        "  import face_recognition\n",
        "except ImportError as imp_error:\n",
        "  print(imp_error)"
      ],
      "execution_count": 65,
      "outputs": [
        {
          "output_type": "stream",
          "text": [
            "No module named 'face_recognition'\n"
          ],
          "name": "stdout"
        }
      ]
    },
    {
      "metadata": {
        "id": "G_WrWsaEbpdK",
        "colab_type": "code",
        "colab": {
          "base_uri": "https://localhost:8080/",
          "height": 52
        },
        "outputId": "c283fe85-b52d-4098-8503-613d2d16c607"
      },
      "cell_type": "code",
      "source": [
        "your_name = 'Marco'\n",
        "\n",
        "try:\n",
        "  print('My name is', my_name)\n",
        "except NameError as name_error:\n",
        "  print(name_error)\n",
        "  pass\n",
        "\n",
        "\n",
        "print('Your name is', your_name)"
      ],
      "execution_count": 72,
      "outputs": [
        {
          "output_type": "stream",
          "text": [
            "name 'my_name' is not defined\n",
            "Your name is Marco\n"
          ],
          "name": "stdout"
        }
      ]
    }
  ]
}