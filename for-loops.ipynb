{
 "cells": [
  {
   "cell_type": "markdown",
   "metadata": {},
   "source": [
    "# For loop"
   ]
  },
  {
   "cell_type": "code",
   "execution_count": 5,
   "metadata": {},
   "outputs": [
    {
     "name": "stdout",
     "output_type": "stream",
     "text": [
      "We're on time 0\n",
      "We're on time 1\n",
      "We're on time 2\n",
      "\n",
      "We're on time 0\n",
      "We're on time 1\n",
      "We're on time 2\n"
     ]
    }
   ],
   "source": [
    "# for loop from 0 to 2, therefore running 3 times\n",
    "\n",
    "for x in range(0, 3):\n",
    "    print 'We\\'re on time %d' %(x)\n",
    "\n",
    "print    \n",
    "for x in range(0, 3):\n",
    "    print 'We\\'re on time', x"
   ]
  },
  {
   "cell_type": "code",
   "execution_count": 14,
   "metadata": {},
   "outputs": [
    {
     "name": "stdout",
     "output_type": "stream",
     "text": [
      "We're on time 0\n",
      "We're on time 1\n",
      "We're on time 2\n"
     ]
    }
   ],
   "source": [
    "for x in range(3):\n",
    "    print 'We\\'re on time', x"
   ]
  },
  {
   "cell_type": "code",
   "execution_count": 8,
   "metadata": {},
   "outputs": [
    {
     "name": "stdout",
     "output_type": "stream",
     "text": [
      "We're on time 0\n",
      "We're on time 1\n",
      "We're on time 2\n"
     ]
    }
   ],
   "source": [
    "for x in xrange(3):\n",
    "     print 'We\\'re on time', x"
   ]
  },
  {
   "cell_type": "code",
   "execution_count": 15,
   "metadata": {},
   "outputs": [
    {
     "name": "stdout",
     "output_type": "stream",
     "text": [
      "We're on time 3\n",
      "We're on time 4\n",
      "We're on time 5\n"
     ]
    }
   ],
   "source": [
    "for x in range(3,6):\n",
    "    print 'We\\'re on time', x"
   ]
  },
  {
   "cell_type": "code",
   "execution_count": 20,
   "metadata": {
    "scrolled": true
   },
   "outputs": [
    {
     "name": "stdout",
     "output_type": "stream",
     "text": [
      "We're on time 3\n",
      "We're on time 6\n",
      "We're on time 9\n",
      "We're on time 12\n"
     ]
    }
   ],
   "source": [
    "for x in range(3,13,3):\n",
    "    print 'We\\'re on time', x"
   ]
  },
  {
   "cell_type": "code",
   "execution_count": 7,
   "metadata": {},
   "outputs": [
    {
     "name": "stdout",
     "output_type": "stream",
     "text": [
      "We're on time 0\n",
      "We're on time 1\n",
      "We're on time 2\n"
     ]
    }
   ],
   "source": [
    "y = [0, 1, 2]\n",
    "\n",
    "for x in y:\n",
    "    print 'We\\'re on time', x"
   ]
  },
  {
   "cell_type": "code",
   "execution_count": 210,
   "metadata": {},
   "outputs": [
    {
     "name": "stdout",
     "output_type": "stream",
     "text": [
      "4\n",
      "3\n",
      "2\n",
      "1\n",
      "0\n"
     ]
    }
   ],
   "source": [
    "# reverse\n",
    "for i in reversed(range(0,5)):\n",
    "    print i"
   ]
  },
  {
   "cell_type": "code",
   "execution_count": 202,
   "metadata": {},
   "outputs": [
    {
     "name": "stdout",
     "output_type": "stream",
     "text": [
      "0 Olarik Surinta\n",
      "1 John Wick\n",
      "2 Bryan O'Conner\n"
     ]
    }
   ],
   "source": [
    "# Enumerate\n",
    "name_list = ['Olarik Surinta','John Wick', 'Bryan O\\'Conner']\n",
    "\n",
    "for idx, name in enumerate(name_list):\n",
    "    print idx, name\n"
   ]
  },
  {
   "cell_type": "code",
   "execution_count": 207,
   "metadata": {},
   "outputs": [
    {
     "name": "stdout",
     "output_type": "stream",
     "text": [
      "Name, Age\n",
      "Olarik Surinta , 40\n",
      "John Wick , 45\n",
      "Bryan O'Conner , 42\n"
     ]
    }
   ],
   "source": [
    "name_list = ['Olarik Surinta','John Wick', 'Bryan O\\'Conner']\n",
    "age_list = [40, 45, 42]\n",
    "\n",
    "print 'Name, Age'\n",
    "for name, age in zip(name_list, age_list):\n",
    "    print name, ',', age"
   ]
  },
  {
   "cell_type": "code",
   "execution_count": 49,
   "metadata": {},
   "outputs": [
    {
     "name": "stdout",
     "output_type": "stream",
     "text": [
      "Prime No. 1\n",
      "Prime No. 3\n",
      "Prime No. 5\n",
      "Prime No. 7\n",
      "Prime No. 11\n"
     ]
    }
   ],
   "source": [
    "# prime number\n",
    "primes = [1, 3, 5, 7, 11]\n",
    "\n",
    "for prime in primes:\n",
    "    print 'Prime No.', prime"
   ]
  },
  {
   "cell_type": "markdown",
   "metadata": {},
   "source": [
    "## For Loops and If statements combined"
   ]
  },
  {
   "cell_type": "code",
   "execution_count": 177,
   "metadata": {},
   "outputs": [
    {
     "name": "stdout",
     "output_type": "stream",
     "text": [
      "The title: How I Met Your Mother is 21 characters long.\n",
      "The title: Friends is 7 characters long.\n",
      "The title: Silicon Valley is 14 characters long.\n",
      "The title: Family Guy is 10 characters long.\n",
      "The title: South Park is 10 characters long.\n",
      "The title: Rick and Morty is 14 characters long.\n",
      "The title: Breaking Bad is 12 characters long.\n",
      "The title: Game of Thrones is 15 characters long.\n",
      "The title: The Wire is 8 characters long.\n"
     ]
    }
   ],
   "source": [
    "my_movies = [['How I Met Your Mother', 'Friends', 'Silicon Valley'],\n",
    "    ['Family Guy', 'South Park', 'Rick and Morty'],\n",
    "    ['Breaking Bad', 'Game of Thrones', 'The Wire']]\n",
    "\n",
    "for sublist in my_movies:\n",
    "    for movie_name in sublist:\n",
    "        char_num = len(movie_name)\n",
    "        print(\"The title: \" + movie_name + \" is \" + str(char_num) + \" characters long.\")"
   ]
  },
  {
   "cell_type": "markdown",
   "metadata": {},
   "source": [
    "# Break statement\n",
    "\n",
    "It brings control out of the loop  "
   ]
  },
  {
   "cell_type": "code",
   "execution_count": 266,
   "metadata": {},
   "outputs": [
    {
     "name": "stdout",
     "output_type": "stream",
     "text": [
      "Current letter : H\n",
      "Current letter : e\n",
      "Current letter : l\n",
      "Current letter : l\n",
      "Current letter : o\n",
      "Current letter :  \n",
      "Current letter : W\n"
     ]
    }
   ],
   "source": [
    "for letter in 'Hello World!':\n",
    "    print 'Current letter :', letter\n",
    "    if letter == 'W':        \n",
    "        break"
   ]
  },
  {
   "cell_type": "code",
   "execution_count": 267,
   "metadata": {},
   "outputs": [
    {
     "name": "stdout",
     "output_type": "stream",
     "text": [
      "Current letter : H\n",
      "Current letter : e\n",
      "Current letter : l\n",
      "Current letter : l\n",
      "Current letter : o\n",
      "Current letter :  \n",
      "Current letter : W\n"
     ]
    }
   ],
   "source": [
    "for letter in 'Hello World!':\n",
    "    print 'Current letter :', letter\n",
    "    if letter == 'W':        \n",
    "        break"
   ]
  },
  {
   "cell_type": "markdown",
   "metadata": {},
   "source": [
    "## Pass statement\n",
    "We use pass statement to write empty loops.  \n",
    "Pass is also used for empty control statement, function and classes."
   ]
  },
  {
   "cell_type": "code",
   "execution_count": 272,
   "metadata": {},
   "outputs": [
    {
     "name": "stdout",
     "output_type": "stream",
     "text": [
      "Current letter : h\n",
      "Current letter : e\n",
      "Current letter : l\n",
      "Current letter : l\n",
      "Current letter : o\n",
      "Current letter :  \n",
      "Current letter : w\n"
     ]
    }
   ],
   "source": [
    "for letter in 'Hello World!'.lower():\n",
    "    print 'Current letter :', letter\n",
    "    if letter == 'w':        \n",
    "        break"
   ]
  },
  {
   "cell_type": "code",
   "execution_count": 275,
   "metadata": {},
   "outputs": [
    {
     "name": "stdout",
     "output_type": "stream",
     "text": [
      "Current letter : !\n"
     ]
    }
   ],
   "source": [
    "# pass\n",
    "for letter in 'Hello World!'.lower():\n",
    "    pass\n",
    "print 'Current letter :', letter"
   ]
  },
  {
   "cell_type": "code",
   "execution_count": 187,
   "metadata": {},
   "outputs": [
    {
     "name": "stdout",
     "output_type": "stream",
     "text": [
      "Student: Olarik , Grade: Excellent\n",
      "Student: Kevin , Grade: Fail\n",
      "Student: John , Grade: Pass\n"
     ]
    }
   ],
   "source": [
    "# students = Lists\n",
    "students = [['Olarik', 70],['Kevin', 35],['John', 55]]\n",
    "grade = ''\n",
    "\n",
    "for student in students:\n",
    "    if student[1] >= 70:\n",
    "        grade = 'Excellent'\n",
    "    elif student[1] >= 50:\n",
    "        grade = 'Pass'\n",
    "    else:\n",
    "        grade = 'Fail'\n",
    "    \n",
    "    print 'Student:', student[0], ', Grade:', grade"
   ]
  },
  {
   "cell_type": "code",
   "execution_count": 197,
   "metadata": {},
   "outputs": [
    {
     "name": "stdout",
     "output_type": "stream",
     "text": [
      "Student: Olarik , Grade: Excellent\n",
      "Student: Kevin , Grade: Fail\n",
      "Student: John , Grade: Pass\n"
     ]
    }
   ],
   "source": [
    "# students = Tuple\n",
    "students = ('Olarik', 'Kevin', 'John')\n",
    "grades = (70,35,55)\n",
    "grade = ''\n",
    "\n",
    "for i in range(0,len(students)):\n",
    "    if grades[i] >= 70:\n",
    "        grade = 'Excellent'\n",
    "    elif grades[i] >= 50:\n",
    "        grade = 'Pass'\n",
    "    else:\n",
    "        grade = 'Fail'\n",
    "    \n",
    "    print 'Student:', students[i], ', Grade:', grade"
   ]
  },
  {
   "cell_type": "code",
   "execution_count": 69,
   "metadata": {},
   "outputs": [
    {
     "name": "stdout",
     "output_type": "stream",
     "text": [
      "2 is a prime number\n",
      "3 is a prime number\n",
      "5 is a prime number\n",
      "7 is a prime number\n",
      "11 is a prime number\n",
      "13 is a prime number\n",
      "17 is a prime number\n",
      "19 is a prime number\n"
     ]
    }
   ],
   "source": [
    "# prime number\n",
    "\n",
    "for num in range(0,21):\n",
    "    if num > 1:\n",
    "        for i in range(2,num):\n",
    "            if(num % i) == 0:\n",
    "                break\n",
    "        else:\n",
    "            print num, 'is a prime number'\n",
    "        "
   ]
  },
  {
   "cell_type": "code",
   "execution_count": 226,
   "metadata": {},
   "outputs": [
    {
     "name": "stdout",
     "output_type": "stream",
     "text": [
      "apple\n",
      "papaya\n",
      "banana\n",
      "orange\n",
      "\n",
      "apple\n",
      "papaya\n",
      "banana\n",
      "orange\n"
     ]
    }
   ],
   "source": [
    "fruits = ['apple','papaya','banana','orange']\n",
    "\n",
    "for fruit in fruits:\n",
    "    print fruit\n",
    "    \n",
    "print\n",
    "\n",
    "for i in range(0, len(fruits)):\n",
    "    print fruits[i]\n"
   ]
  },
  {
   "cell_type": "code",
   "execution_count": 211,
   "metadata": {},
   "outputs": [
    {
     "name": "stdout",
     "output_type": "stream",
     "text": [
      "orange\n",
      "banana\n",
      "papaya\n",
      "apple\n"
     ]
    }
   ],
   "source": [
    "# reverse\n",
    "fruits = ['apple','papaya','banana','orange']\n",
    "\n",
    "for fruit in reversed(fruits):\n",
    "    print fruit"
   ]
  },
  {
   "cell_type": "code",
   "execution_count": 212,
   "metadata": {},
   "outputs": [
    {
     "name": "stdout",
     "output_type": "stream",
     "text": [
      "apple\n",
      "banana\n",
      "orange\n",
      "papaya\n"
     ]
    }
   ],
   "source": [
    "# sort\n",
    "fruits = ['apple','papaya','banana','orange']\n",
    "\n",
    "for fruit in sorted(fruits):\n",
    "    print fruit"
   ]
  },
  {
   "cell_type": "code",
   "execution_count": 128,
   "metadata": {},
   "outputs": [
    {
     "name": "stdout",
     "output_type": "stream",
     "text": [
      "*\n",
      "**\n",
      "***\n",
      "****\n",
      "*****\n",
      "******\n",
      "*******\n",
      "********\n",
      "*********\n",
      "**********\n"
     ]
    }
   ],
   "source": [
    "for x in range(1,11):\n",
    "    print '*'*x"
   ]
  },
  {
   "cell_type": "code",
   "execution_count": 144,
   "metadata": {},
   "outputs": [
    {
     "name": "stdout",
     "output_type": "stream",
     "text": [
      "**********\n",
      "*********\n",
      "********\n",
      "*******\n",
      "******\n",
      "*****\n",
      "****\n",
      "***\n",
      "**\n",
      "*\n",
      "\n"
     ]
    }
   ],
   "source": [
    "mx = 11\n",
    "cnt = mx-1\n",
    "\n",
    "for x in range(0,mx):\n",
    "    print '*'*int(cnt)\n",
    "    cnt -= 1\n",
    "    "
   ]
  },
  {
   "cell_type": "code",
   "execution_count": 173,
   "metadata": {},
   "outputs": [
    {
     "name": "stdout",
     "output_type": "stream",
     "text": [
      "           \n",
      "          x\n",
      "         xx\n",
      "        xxx\n",
      "       xxxx\n",
      "      xxxxx\n",
      "     xxxxxx\n",
      "    xxxxxxx\n",
      "   xxxxxxxx\n",
      "  xxxxxxxxx\n",
      " xxxxxxxxxx\n"
     ]
    }
   ],
   "source": [
    "mx = 11\n",
    "cnt = mx-1\n",
    "\n",
    "for x in range(0,mx):\n",
    "    print ' '*cnt, 'x'*x\n",
    "    cnt -= 1"
   ]
  },
  {
   "cell_type": "code",
   "execution_count": 162,
   "metadata": {},
   "outputs": [
    {
     "name": "stdout",
     "output_type": "stream",
     "text": [
      " xxxxxxxxxx\n",
      "  xxxxxxxxx\n",
      "   xxxxxxxx\n",
      "    xxxxxxx\n",
      "     xxxxxx\n",
      "      xxxxx\n",
      "       xxxx\n",
      "        xxx\n",
      "         xx\n",
      "          x\n",
      "           \n"
     ]
    }
   ],
   "source": [
    "mx = 11\n",
    "cnt = mx-1\n",
    "cnt_up = 0\n",
    "\n",
    "for x in range(0,mx):\n",
    "    print ' '*cnt_up, 'x'*int(cnt)\n",
    "    cnt -= 1\n",
    "    cnt_up += 1"
   ]
  },
  {
   "cell_type": "code",
   "execution_count": 120,
   "metadata": {},
   "outputs": [
    {
     "name": "stdout",
     "output_type": "stream",
     "text": [
      "Hello , type <type 'str'>\n",
      "25 , type <type 'int'>\n",
      "I , type <type 'str'>\n",
      "0.25 , type <type 'float'>\n"
     ]
    }
   ],
   "source": [
    "collection = ['Hello', 25, 'I', 0.25]\n",
    "\n",
    "for x in collection:\n",
    "    print x, ', type', type(x)"
   ]
  },
  {
   "cell_type": "code",
   "execution_count": 108,
   "metadata": {},
   "outputs": [
    {
     "name": "stdout",
     "output_type": "stream",
     "text": [
      "[1, 2, 3]\n",
      "[4, 5, 6]\n",
      "[7, 8, 9]\n"
     ]
    }
   ],
   "source": [
    "list_of_lists = [[1, 2, 3], [4, 5, 6], [7, 8, 9]]\n",
    "\n",
    "for list in list_of_lists:\n",
    "    print list        "
   ]
  },
  {
   "cell_type": "code",
   "execution_count": 117,
   "metadata": {},
   "outputs": [
    {
     "name": "stdout",
     "output_type": "stream",
     "text": [
      "min value in list: [3, 2, 1] = 1\n",
      "max value in list: [3, 2, 1] = 3\n",
      "\n",
      "min value in list: [5, 4, 6] = 4\n",
      "max value in list: [5, 4, 6] = 6\n",
      "\n",
      "min value in list: [8, 9, 7] = 7\n",
      "max value in list: [8, 9, 7] = 9\n",
      "\n"
     ]
    }
   ],
   "source": [
    "# print only minimum number in each list\n",
    "\n",
    "list_of_lists = [[3, 2, 1], [5, 4, 6], [8, 9, 7]]\n",
    "\n",
    "for list in list_of_lists:\n",
    "    print 'min value in list:', list,'=', min(list)    \n",
    "    print 'max value in list:', list,'=', max(list)\n",
    "    print "
   ]
  },
  {
   "cell_type": "code",
   "execution_count": 90,
   "metadata": {},
   "outputs": [
    {
     "name": "stdout",
     "output_type": "stream",
     "text": [
      "2 times table\n",
      "i * 2 = 2\n",
      "i * 2 = 4\n",
      "i * 2 = 6\n",
      "i * 2 = 8\n",
      "i * 2 = 10\n",
      "i * 2 = 12\n",
      "i * 2 = 14\n",
      "i * 2 = 16\n",
      "i * 2 = 18\n",
      "i * 2 = 20\n",
      "i * 2 = 22\n",
      "i * 2 = 24\n"
     ]
    }
   ],
   "source": [
    "# Multiplication Table\n",
    "mul = 2\n",
    "print '%d times table'% mul\n",
    "for i in [1,2,3,4,5,6,7,8,9,10,11,12]:\n",
    "    print 'i *', mul, '=', i*mul"
   ]
  },
  {
   "cell_type": "code",
   "execution_count": 91,
   "metadata": {},
   "outputs": [
    {
     "name": "stdout",
     "output_type": "stream",
     "text": [
      "3 times table\n",
      "i * 3 = 3\n",
      "i * 3 = 6\n",
      "i * 3 = 9\n",
      "i * 3 = 12\n",
      "i * 3 = 15\n",
      "i * 3 = 18\n",
      "i * 3 = 21\n",
      "i * 3 = 24\n",
      "i * 3 = 27\n",
      "i * 3 = 30\n",
      "i * 3 = 33\n",
      "i * 3 = 36\n"
     ]
    }
   ],
   "source": [
    "# Multiplication Table\n",
    "mul = 3\n",
    "print '%d times table'% mul\n",
    "for i in range(1,13):\n",
    "    print 'i *', mul, '=', i*mul"
   ]
  },
  {
   "cell_type": "markdown",
   "metadata": {},
   "source": [
    "# Nested For Loops"
   ]
  },
  {
   "cell_type": "code",
   "execution_count": 95,
   "metadata": {},
   "outputs": [
    {
     "name": "stdout",
     "output_type": "stream",
     "text": [
      "Multiplication Table\n",
      "\n",
      "2 times table\n",
      "j * 2 = 2\n",
      "j * 2 = 4\n",
      "j * 2 = 6\n",
      "j * 2 = 8\n",
      "j * 2 = 10\n",
      "j * 2 = 12\n",
      "j * 2 = 14\n",
      "j * 2 = 16\n",
      "j * 2 = 18\n",
      "j * 2 = 20\n",
      "j * 2 = 22\n",
      "j * 2 = 24\n",
      "\n",
      "3 times table\n",
      "j * 3 = 3\n",
      "j * 3 = 6\n",
      "j * 3 = 9\n",
      "j * 3 = 12\n",
      "j * 3 = 15\n",
      "j * 3 = 18\n",
      "j * 3 = 21\n",
      "j * 3 = 24\n",
      "j * 3 = 27\n",
      "j * 3 = 30\n",
      "j * 3 = 33\n",
      "j * 3 = 36\n",
      "\n",
      "4 times table\n",
      "j * 4 = 4\n",
      "j * 4 = 8\n",
      "j * 4 = 12\n",
      "j * 4 = 16\n",
      "j * 4 = 20\n",
      "j * 4 = 24\n",
      "j * 4 = 28\n",
      "j * 4 = 32\n",
      "j * 4 = 36\n",
      "j * 4 = 40\n",
      "j * 4 = 44\n",
      "j * 4 = 48\n",
      "\n",
      "5 times table\n",
      "j * 5 = 5\n",
      "j * 5 = 10\n",
      "j * 5 = 15\n",
      "j * 5 = 20\n",
      "j * 5 = 25\n",
      "j * 5 = 30\n",
      "j * 5 = 35\n",
      "j * 5 = 40\n",
      "j * 5 = 45\n",
      "j * 5 = 50\n",
      "j * 5 = 55\n",
      "j * 5 = 60\n",
      "\n",
      "6 times table\n",
      "j * 6 = 6\n",
      "j * 6 = 12\n",
      "j * 6 = 18\n",
      "j * 6 = 24\n",
      "j * 6 = 30\n",
      "j * 6 = 36\n",
      "j * 6 = 42\n",
      "j * 6 = 48\n",
      "j * 6 = 54\n",
      "j * 6 = 60\n",
      "j * 6 = 66\n",
      "j * 6 = 72\n",
      "\n",
      "7 times table\n",
      "j * 7 = 7\n",
      "j * 7 = 14\n",
      "j * 7 = 21\n",
      "j * 7 = 28\n",
      "j * 7 = 35\n",
      "j * 7 = 42\n",
      "j * 7 = 49\n",
      "j * 7 = 56\n",
      "j * 7 = 63\n",
      "j * 7 = 70\n",
      "j * 7 = 77\n",
      "j * 7 = 84\n",
      "\n",
      "8 times table\n",
      "j * 8 = 8\n",
      "j * 8 = 16\n",
      "j * 8 = 24\n",
      "j * 8 = 32\n",
      "j * 8 = 40\n",
      "j * 8 = 48\n",
      "j * 8 = 56\n",
      "j * 8 = 64\n",
      "j * 8 = 72\n",
      "j * 8 = 80\n",
      "j * 8 = 88\n",
      "j * 8 = 96\n",
      "\n",
      "9 times table\n",
      "j * 9 = 9\n",
      "j * 9 = 18\n",
      "j * 9 = 27\n",
      "j * 9 = 36\n",
      "j * 9 = 45\n",
      "j * 9 = 54\n",
      "j * 9 = 63\n",
      "j * 9 = 72\n",
      "j * 9 = 81\n",
      "j * 9 = 90\n",
      "j * 9 = 99\n",
      "j * 9 = 108\n",
      "\n",
      "10 times table\n",
      "j * 10 = 10\n",
      "j * 10 = 20\n",
      "j * 10 = 30\n",
      "j * 10 = 40\n",
      "j * 10 = 50\n",
      "j * 10 = 60\n",
      "j * 10 = 70\n",
      "j * 10 = 80\n",
      "j * 10 = 90\n",
      "j * 10 = 100\n",
      "j * 10 = 110\n",
      "j * 10 = 120\n",
      "\n",
      "11 times table\n",
      "j * 11 = 11\n",
      "j * 11 = 22\n",
      "j * 11 = 33\n",
      "j * 11 = 44\n",
      "j * 11 = 55\n",
      "j * 11 = 66\n",
      "j * 11 = 77\n",
      "j * 11 = 88\n",
      "j * 11 = 99\n",
      "j * 11 = 110\n",
      "j * 11 = 121\n",
      "j * 11 = 132\n",
      "\n",
      "12 times table\n",
      "j * 12 = 12\n",
      "j * 12 = 24\n",
      "j * 12 = 36\n",
      "j * 12 = 48\n",
      "j * 12 = 60\n",
      "j * 12 = 72\n",
      "j * 12 = 84\n",
      "j * 12 = 96\n",
      "j * 12 = 108\n",
      "j * 12 = 120\n",
      "j * 12 = 132\n",
      "j * 12 = 144\n"
     ]
    }
   ],
   "source": [
    "# Multiplication Table\n",
    "print('Multiplication Table')\n",
    "\n",
    "for i in range(2,13):\n",
    "    print '\\n%d times table'% i\n",
    "    for j in range (1,13):\n",
    "        print 'j *', i, '=', j*i\n",
    "\n"
   ]
  },
  {
   "cell_type": "code",
   "execution_count": 260,
   "metadata": {},
   "outputs": [
    {
     "name": "stdout",
     "output_type": "stream",
     "text": [
      "List:\n",
      "[1, 2, 3]\n",
      "[3, 4, 5, 6]\n",
      "[7, 7, 8, 9, 10]\n",
      "\n",
      "Index:\n",
      "(0,0) (0,1) (0,2)\n",
      "(1,0) (1,1) (1,2) (1,3)\n",
      "(2,0) (2,1) (2,2) (2,3) (2,4)\n"
     ]
    }
   ],
   "source": [
    "# print index of lists\n",
    "\n",
    "list_of_lists = [[1, 2, 3], [3, 4, 5, 6], [7, 7, 8, 9, 10]]\n",
    "\n",
    "print 'List:'\n",
    "for i in list_of_lists:\n",
    "    print i\n",
    "\n",
    "print '\\nIndex:'\n",
    "for i in range(0, len(list_of_lists)):    \n",
    "    for j in range(0, len(list_of_lists[i])):        \n",
    "        print('(%d,%d)'%(i,j)),\n",
    "    print"
   ]
  },
  {
   "cell_type": "code",
   "execution_count": 243,
   "metadata": {},
   "outputs": [
    {
     "name": "stdout",
     "output_type": "stream",
     "text": [
      "1\n",
      "2\n",
      "3\n",
      "\n",
      "4\n",
      "5\n",
      "6\n",
      "\n",
      "7\n",
      "8\n",
      "9\n",
      "\n",
      "1 2 3\n",
      "4 5 6\n",
      "7 8 9\n"
     ]
    }
   ],
   "source": [
    "# multiple lists\n",
    "list_of_lists = [[1, 2, 3], [4, 5, 6], [7, 8, 9]]\n",
    "\n",
    "for list in list_of_lists:\n",
    "    for l in list:\n",
    "        print('%s'%l)\n",
    "    print \n",
    "\n",
    "  \n",
    "for list in list_of_lists:\n",
    "    for l in list:\n",
    "        print('%s'%l),\n",
    "    print "
   ]
  },
  {
   "cell_type": "code",
   "execution_count": 247,
   "metadata": {},
   "outputs": [
    {
     "name": "stdout",
     "output_type": "stream",
     "text": [
      "1 2 3\n",
      "3 4 5 6\n",
      "7 7 8 9 10\n",
      "\n",
      "No. of elements 3\n",
      "1 2 3\n",
      "No. of elements 4\n",
      "3 4 5 6\n",
      "No. of elements 5\n",
      "7 7 8 9 10\n",
      "\n",
      "\n",
      "No. of elements 3\n",
      "1\n",
      "2\n",
      "3\n",
      "\n",
      "No. of elements 4\n",
      "3\n",
      "4\n",
      "5\n",
      "6\n",
      "\n",
      "No. of elements 5\n",
      "7\n",
      "7\n",
      "8\n",
      "9\n",
      "10\n",
      "\n"
     ]
    }
   ],
   "source": [
    "list_of_lists = [[1, 2, 3], [3, 4, 5, 6], [7, 7, 8, 9, 10]]\n",
    "\n",
    "for list in list_of_lists:\n",
    "    for l in list:\n",
    "        print('%s'%l),\n",
    "    print \n",
    "\n",
    "print    \n",
    "for i in range(0, len(list_of_lists)):\n",
    "    print 'No. of elements', len(list_of_lists[i])\n",
    "    for j in range(0, len(list_of_lists[i])):        \n",
    "        print list_of_lists[i][j],\n",
    "    print\n",
    "\n",
    "print '\\n'\n",
    "for i in range(0, len(list_of_lists)):\n",
    "    print 'No. of elements', len(list_of_lists[i])\n",
    "    for j in range(0, len(list_of_lists[i])):        \n",
    "        print list_of_lists[i][j]\n",
    "    print    "
   ]
  }
 ],
 "metadata": {
  "kernelspec": {
   "display_name": "Python 2",
   "language": "python",
   "name": "python2"
  },
  "language_info": {
   "codemirror_mode": {
    "name": "ipython",
    "version": 2
   },
   "file_extension": ".py",
   "mimetype": "text/x-python",
   "name": "python",
   "nbconvert_exporter": "python",
   "pygments_lexer": "ipython2",
   "version": "2.7.12"
  }
 },
 "nbformat": 4,
 "nbformat_minor": 2
}
