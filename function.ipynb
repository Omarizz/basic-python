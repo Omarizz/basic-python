{
 "cells": [
  {
   "cell_type": "markdown",
   "metadata": {},
   "source": [
    "# Functions\n"
   ]
  },
  {
   "cell_type": "markdown",
   "metadata": {},
   "source": [
    "# function calls\n",
    "\n",
    "### In the context of programming, a function is a named sequence of statements that performs a computation. When you define a function, you specify the name and the sequence of statements. Later, you can 'call' the function by name. "
   ]
  },
  {
   "cell_type": "code",
   "execution_count": 5,
   "metadata": {},
   "outputs": [
    {
     "name": "stdout",
     "output_type": "stream",
     "text": [
      "<type 'int'>\n",
      "<type 'str'>\n"
     ]
    }
   ],
   "source": [
    "# function call\n",
    "\n",
    "print type(32)\n",
    "print type('string')\n",
    "\n",
    "# The name of the function is 'type'. The expression in parentheses is called the 'argument' of the function.\n",
    "# It is common to say that a function 'takes' an argument and 'returns' a result. The result is called the 'return value'."
   ]
  },
  {
   "cell_type": "markdown",
   "metadata": {},
   "source": [
    "## Built-in functions\n",
    "\n",
    "### Python provides a number of important built-in functions that we can use without needing to provide the function definition."
   ]
  },
  {
   "cell_type": "code",
   "execution_count": 9,
   "metadata": {},
   "outputs": [
    {
     "name": "stdout",
     "output_type": "stream",
     "text": [
      "r\n",
      "!\n",
      "11\n"
     ]
    }
   ],
   "source": [
    "print max('HelloWorld!')\n",
    "print min('HelloWorld!')\n",
    "print len('HelloWorld!')"
   ]
  },
  {
   "cell_type": "markdown",
   "metadata": {},
   "source": [
    "# Type conversion functions\n",
    "\n",
    "### Python also provides built-in functions that convert values from one type to another."
   ]
  },
  {
   "cell_type": "code",
   "execution_count": 20,
   "metadata": {},
   "outputs": [
    {
     "name": "stdout",
     "output_type": "stream",
     "text": [
      "32\n",
      "32\n",
      "32\n",
      "\n",
      "32.0\n",
      "32.0\n",
      "32.14\n",
      "32.14\n"
     ]
    }
   ],
   "source": [
    "print int('32')\n",
    "print int(32)\n",
    "print int(32.0)\n",
    "print\n",
    "\n",
    "print float(32)\n",
    "print float('32')\n",
    "print float('32.14')\n",
    "print float(32.14)\n",
    "\n"
   ]
  },
  {
   "cell_type": "markdown",
   "metadata": {},
   "source": [
    "# Random numbers"
   ]
  },
  {
   "cell_type": "code",
   "execution_count": 22,
   "metadata": {},
   "outputs": [
    {
     "name": "stdout",
     "output_type": "stream",
     "text": [
      "0.45019730202\n",
      "0.926038214208\n",
      "0.347652651514\n",
      "0.397709669299\n",
      "0.919215367632\n",
      "0.262528013438\n",
      "0.223421382509\n",
      "0.970402598227\n",
      "0.921079063008\n",
      "0.158845007616\n"
     ]
    }
   ],
   "source": [
    "import random\n",
    "\n",
    "# This program produces the list of 10 random numbers between 0.0 and up to but not includeing 1.0\n",
    "for i in range(10):\n",
    "    print random.random()"
   ]
  },
  {
   "cell_type": "code",
   "execution_count": 30,
   "metadata": {},
   "outputs": [
    {
     "data": {
      "text/plain": [
       "4"
      ]
     },
     "execution_count": 30,
     "metadata": {},
     "output_type": "execute_result"
    }
   ],
   "source": [
    "# random between 0 and 10\n",
    "random.randint(0,10)"
   ]
  },
  {
   "cell_type": "code",
   "execution_count": 39,
   "metadata": {},
   "outputs": [
    {
     "name": "stdout",
     "output_type": "stream",
     "text": [
      "1\n",
      "surprise\n"
     ]
    }
   ],
   "source": [
    "# To choose an element from a sequence at random, you can use 'choice'\n",
    "num = [1, 2, 3]\n",
    "text = ['test', 'name', 'surprise']\n",
    "\n",
    "print random.choice(num)\n",
    "print random.choice(text)"
   ]
  },
  {
   "cell_type": "code",
   "execution_count": 65,
   "metadata": {},
   "outputs": [
    {
     "name": "stdout",
     "output_type": "stream",
     "text": [
      "2\n",
      "0\n",
      "1\n",
      "9\n",
      "2\n",
      "5\n",
      "6\n",
      "0\n",
      "2\n",
      "1\n"
     ]
    }
   ],
   "source": [
    "# This program produces the list of 10 random numbers between 0 and up to 9\n",
    "for i in range(10):\n",
    "    print int(random.random()*10)"
   ]
  },
  {
   "cell_type": "code",
   "execution_count": 56,
   "metadata": {
    "collapsed": true
   },
   "outputs": [],
   "source": [
    "# exercise\n",
    "\n",
    "# Program produces the list of 5 random numbers between 1 and 10\n",
    "\n",
    "\n"
   ]
  },
  {
   "cell_type": "code",
   "execution_count": 63,
   "metadata": {},
   "outputs": [
    {
     "name": "stdout",
     "output_type": "stream",
     "text": [
      "5\n",
      "0\n",
      "8\n",
      "0\n",
      "3\n",
      "6\n",
      "6\n",
      "0\n",
      "5\n",
      "6\n"
     ]
    }
   ],
   "source": [
    "# This program produces the list of 10 random numbers between 0 and 10\n",
    "for i in range(10):    \n",
    "    print random.randint(0,10)"
   ]
  },
  {
   "cell_type": "markdown",
   "metadata": {},
   "source": [
    "# Adding new functions\n",
    "### using the 'def statement is the most common way to define a function in python"
   ]
  },
  {
   "cell_type": "code",
   "execution_count": null,
   "metadata": {
    "collapsed": true
   },
   "outputs": [],
   "source": [
    "# defining and calling simple functions\n",
    "\n",
    "def greet():\n",
    "    print('Hello World!!!')"
   ]
  },
  {
   "cell_type": "code",
   "execution_count": 7,
   "metadata": {},
   "outputs": [
    {
     "name": "stdout",
     "output_type": "stream",
     "text": [
      "Hello World!!!\n"
     ]
    }
   ],
   "source": [
    "# call the defined function\n",
    "greet()"
   ]
  },
  {
   "cell_type": "code",
   "execution_count": 8,
   "metadata": {
    "collapsed": true
   },
   "outputs": [],
   "source": [
    "# a function definition which takes one single argument\n",
    "\n",
    "def greet(greeting):\n",
    "    print(greeting)"
   ]
  },
  {
   "cell_type": "code",
   "execution_count": 9,
   "metadata": {},
   "outputs": [
    {
     "name": "stdout",
     "output_type": "stream",
     "text": [
      "Hello World!!!\n"
     ]
    }
   ],
   "source": [
    "# function must be called with an argument\n",
    "greet('Hello World!!!')"
   ]
  },
  {
   "cell_type": "code",
   "execution_count": 11,
   "metadata": {
    "collapsed": true
   },
   "outputs": [],
   "source": [
    "# give a default value to a function argument\n",
    "\n",
    "def greet(greeting='Hello World!!!'):\n",
    "    print(greeting)"
   ]
  },
  {
   "cell_type": "code",
   "execution_count": 13,
   "metadata": {},
   "outputs": [
    {
     "name": "stdout",
     "output_type": "stream",
     "text": [
      "Hello World!!!\n",
      "Hi\n"
     ]
    }
   ],
   "source": [
    "greet()\n",
    "\n",
    "greet('Hi')"
   ]
  },
  {
   "cell_type": "markdown",
   "metadata": {},
   "source": [
    "# Return\n",
    "\n",
    "### Python functions can return values of any type via the 'return' keyword."
   ]
  },
  {
   "cell_type": "code",
   "execution_count": 17,
   "metadata": {
    "collapsed": true
   },
   "outputs": [],
   "source": [
    "def many_types(x):\n",
    "    if x > 0:\n",
    "        return 'Hello!!!'\n",
    "    else:\n",
    "        return 0"
   ]
  },
  {
   "cell_type": "code",
   "execution_count": 18,
   "metadata": {},
   "outputs": [
    {
     "name": "stdout",
     "output_type": "stream",
     "text": [
      "Hello!!!\n",
      "0\n"
     ]
    }
   ],
   "source": [
    "print(many_types(1))\n",
    "print(many_types(-1))"
   ]
  },
  {
   "cell_type": "markdown",
   "metadata": {},
   "source": [
    "## Defining a function with an arbitrary number of arguments "
   ]
  },
  {
   "cell_type": "code",
   "execution_count": 68,
   "metadata": {
    "collapsed": true
   },
   "outputs": [],
   "source": [
    "def func(*args):\n",
    "    for i in args:\n",
    "        print(i)"
   ]
  },
  {
   "cell_type": "code",
   "execution_count": 73,
   "metadata": {},
   "outputs": [
    {
     "name": "stdout",
     "output_type": "stream",
     "text": [
      "1\n",
      "\n",
      "1\n",
      "2\n",
      "3\n",
      "4\n",
      "5\n"
     ]
    }
   ],
   "source": [
    "func(1)\n",
    "print\n",
    "\n",
    "func(1,2,3,4,5)"
   ]
  },
  {
   "cell_type": "code",
   "execution_count": 75,
   "metadata": {},
   "outputs": [
    {
     "name": "stdout",
     "output_type": "stream",
     "text": [
      "1\n",
      "2\n",
      "test\n",
      "\n",
      "[1, 2, 'test']\n"
     ]
    }
   ],
   "source": [
    "list_of_arg_values = [1,2,'test']\n",
    "\n",
    "func(*list_of_arg_values)\n",
    "print\n",
    "\n",
    "func(list_of_arg_values)"
   ]
  },
  {
   "cell_type": "code",
   "execution_count": 76,
   "metadata": {},
   "outputs": [],
   "source": [
    "# no output\n",
    "func()"
   ]
  },
  {
   "cell_type": "markdown",
   "metadata": {},
   "source": [
    "# Arguments\n",
    "\n",
    "### An argument is a value we pass into the function as its input when we call the function\n",
    "### We use arguments so we can direct the function to do different kinds of work when we call it at different times\n",
    "### We put the arguments in parentheses after the name of the function\n",
    "\n",
    "\n",
    "```\n",
    "    max_value = max('Hello World')\n",
    "```\n",
    "'Hello World' = argument"
   ]
  },
  {
   "cell_type": "markdown",
   "metadata": {},
   "source": [
    "# Parameters\n",
    "\n",
    "### A parameter is a variable which we use in the function definition.\n",
    "### It is a handle that allows the code in the function to access the arguments for a particular function invocation.\n",
    "\n",
    "```\n",
    "def greet(lang):\n",
    "    if lang == 'es':\n",
    "        print 'Hola'\n",
    "    elif lang == 'fr':\n",
    "        print 'Bonjour'\n",
    "    else:\n",
    "        print 'Hello'\n",
    "\n",
    "```\n",
    "\n",
    "'lang' = parameter"
   ]
  },
  {
   "cell_type": "code",
   "execution_count": 78,
   "metadata": {},
   "outputs": [
    {
     "name": "stdout",
     "output_type": "stream",
     "text": [
      "Hello\n",
      "Bonjour\n",
      "Hola\n"
     ]
    }
   ],
   "source": [
    "def greet(lang):\n",
    "    if lang == 'es':\n",
    "        print 'Hola'\n",
    "    elif lang == 'fr':\n",
    "        print 'Bonjour'\n",
    "    else:\n",
    "        print 'Hello'\n",
    "\n",
    "greet('en')\n",
    "greet('fr')\n",
    "greet('es')"
   ]
  },
  {
   "cell_type": "markdown",
   "metadata": {},
   "source": [
    "# Return values\n",
    "\n",
    "### Often a function will take its arguments, do some computation, and 'return' a value to be used as the value of the function call in the calling expression. The 'return' keyword is used for this."
   ]
  },
  {
   "cell_type": "code",
   "execution_count": 79,
   "metadata": {},
   "outputs": [
    {
     "name": "stdout",
     "output_type": "stream",
     "text": [
      "Hello Helen\n",
      "Hello Henderson\n"
     ]
    }
   ],
   "source": [
    "def greet():\n",
    "    return 'Hello'\n",
    "\n",
    "print greet(), 'Helen'\n",
    "print greet(), 'Henderson'"
   ]
  },
  {
   "cell_type": "code",
   "execution_count": 81,
   "metadata": {},
   "outputs": [
    {
     "name": "stdout",
     "output_type": "stream",
     "text": [
      "Hello Helen\n",
      "Bonjour Henderson\n",
      "Hola Michael\n"
     ]
    }
   ],
   "source": [
    "# a 'fruitful' function is one that produces a 'result' (or return value)\n",
    "# The 'return' statement ends the function execution and 'sends back' the result of the function\n",
    "\n",
    "def greet(lang):\n",
    "    if lang == 'es':\n",
    "        return 'Hola'\n",
    "    elif lang == 'fr':\n",
    "        return 'Bonjour'\n",
    "    else:\n",
    "        return 'Hello'\n",
    "\n",
    "print greet('en'), 'Helen'\n",
    "print greet('fr'), 'Henderson'\n",
    "print greet('es'), 'Michael'"
   ]
  },
  {
   "cell_type": "markdown",
   "metadata": {},
   "source": [
    "# Multiple parameters / arguments\n",
    "\n",
    "### we can define more than one parameter in the function definition\n",
    "### we match the number and order of arguments and parameters"
   ]
  },
  {
   "cell_type": "code",
   "execution_count": 82,
   "metadata": {},
   "outputs": [
    {
     "name": "stdout",
     "output_type": "stream",
     "text": [
      "8\n"
     ]
    }
   ],
   "source": [
    "def addtwo(a, b):\n",
    "    added = a+b\n",
    "    return added\n",
    "\n",
    "x = addtwo(3, 5)\n",
    "print x"
   ]
  },
  {
   "cell_type": "code",
   "execution_count": 84,
   "metadata": {},
   "outputs": [
    {
     "name": "stdout",
     "output_type": "stream",
     "text": [
      "8\n"
     ]
    }
   ],
   "source": [
    "def addtwo(a, b):\n",
    "    return a+b\n",
    "\n",
    "print addtwo(3, 5)"
   ]
  },
  {
   "cell_type": "code",
   "execution_count": 96,
   "metadata": {},
   "outputs": [
    {
     "name": "stdout",
     "output_type": "stream",
     "text": [
      "Name:  miki\n",
      "Age  50\n",
      "\n",
      "Name:  50\n",
      "Age  miki\n"
     ]
    }
   ],
   "source": [
    "def printinfo(name, age):   \n",
    "   print \"Name: \", name\n",
    "   print \"Age \", age\n",
    "   return;\n",
    "\n",
    "printinfo(age=50, name=\"miki\")\n",
    "print\n",
    "\n",
    "printinfo(50, \"miki\")"
   ]
  },
  {
   "cell_type": "markdown",
   "metadata": {},
   "source": [
    "# Void (non-fruitful) functions\n",
    "\n",
    "### When a function does not return a value, we call it a 'void' function\n",
    "### Functions that return values are 'fruitful' functions\n",
    "### 'Void' functions are 'not fruitful'"
   ]
  },
  {
   "cell_type": "markdown",
   "metadata": {},
   "source": [
    "# exercise  \n",
    "\n",
    "Create a function that use to convert a degree Celsius to Fahrenheit and Fahrenheit to Celsius  \n",
    "\n",
    "```\n",
    "equation: Fahrenheit to Celsius\n",
    "    (F - 32) * (5/9) = C  \n",
    "   \n",
    "equation: Celsius to Fahrenheit\n",
    "    (C * (9/5)) + 32 = F\n",
    "    \n",
    "where \n",
    "    F = Fahrenheit  \n",
    "    C = Celsius      \n",
    "```\n",
    "\n"
   ]
  },
  {
   "cell_type": "code",
   "execution_count": 87,
   "metadata": {},
   "outputs": [
    {
     "name": "stdout",
     "output_type": "stream",
     "text": [
      "How many Dollars do you wish to convert to Euros? :10.2\n",
      "10.2 dollars = 7.344\n",
      "euros\n",
      "Thank you!\n"
     ]
    }
   ],
   "source": [
    "EURO_TO_DOLLAR = 0.72 # Exchange rate on April 22, 2014\n",
    "dollars = raw_input(\"How many Dollars do you wish to convert to Euros? :\")\n",
    "try:\n",
    "    dollars = float(dollars)\n",
    "except ValueError:\n",
    "    print dollars, \"is not a number!\"\n",
    "else:\n",
    "    print dollars, \"dollars =\", dollars * EURO_TO_DOLLAR\n",
    "    print \"euros\"\n",
    "print \"Thank you!\""
   ]
  },
  {
   "cell_type": "markdown",
   "metadata": {},
   "source": [
    "# a function with optional parameters"
   ]
  },
  {
   "cell_type": "code",
   "execution_count": 88,
   "metadata": {},
   "outputs": [
    {
     "name": "stdout",
     "output_type": "stream",
     "text": [
      "8\n",
      "8\n"
     ]
    }
   ],
   "source": [
    "def addtwo(a, b=5):\n",
    "    added = a+b\n",
    "    return added\n",
    "\n",
    "print addtwo(3, 5)\n",
    "print addtwo(3)"
   ]
  },
  {
   "cell_type": "markdown",
   "metadata": {},
   "source": [
    "# Global constants\n",
    "\n",
    "### If you define global variables, they are visible inside all of your functions."
   ]
  },
  {
   "cell_type": "code",
   "execution_count": 92,
   "metadata": {},
   "outputs": [
    {
     "name": "stdout",
     "output_type": "stream",
     "text": [
      "('circle area with radius 5:', 78.53981633974475)\n",
      "('circumference with radius 5:', 31.4159265358979)\n"
     ]
    }
   ],
   "source": [
    "PI = 3.14159265358979   # global constant -- only place the value of PI is set\n",
    "\n",
    "def circleArea(radius):\n",
    "    return PI*radius*radius    # use value of global constant PI\n",
    "\n",
    "def circleCircumference(radius):\n",
    "    return 2*PI*radius         # use value of global constant PI\n",
    "\n",
    "print('circle area with radius 5:', circleArea(5))\n",
    "print('circumference with radius 5:', circleCircumference(5))"
   ]
  },
  {
   "cell_type": "markdown",
   "metadata": {},
   "source": [
    "# Main function"
   ]
  },
  {
   "cell_type": "code",
   "execution_count": 98,
   "metadata": {},
   "outputs": [
    {
     "name": "stdout",
     "output_type": "stream",
     "text": [
      "This is a main function\n"
     ]
    }
   ],
   "source": [
    "def main():  \n",
    "  print(\"This is a main function\")\n",
    "\n",
    "main()"
   ]
  },
  {
   "cell_type": "code",
   "execution_count": 99,
   "metadata": {},
   "outputs": [
    {
     "name": "stdout",
     "output_type": "stream",
     "text": [
      "This is a main function\n"
     ]
    }
   ],
   "source": [
    "def main():\n",
    "  print(\"This is a main function\")\n",
    "  \n",
    "# Execute `main()` function \n",
    "if __name__ == '__main__':\n",
    "    main()"
   ]
  },
  {
   "cell_type": "markdown",
   "metadata": {},
   "source": [
    "# Nested functions\n",
    "### Nested functions are functions defined within other functions."
   ]
  },
  {
   "cell_type": "code",
   "execution_count": 104,
   "metadata": {},
   "outputs": [
    {
     "name": "stdout",
     "output_type": "stream",
     "text": [
      "[1, 2, 3]\n"
     ]
    }
   ],
   "source": [
    "def outside():\n",
    "    outsideList = [1, 2]\n",
    "    def nested():\n",
    "        outsideList.append(3)\n",
    "    nested()\n",
    "    print outsideList\n",
    "\n",
    "outside()"
   ]
  },
  {
   "cell_type": "code",
   "execution_count": 107,
   "metadata": {},
   "outputs": [
    {
     "name": "stdout",
     "output_type": "stream",
     "text": [
      "[1, 2, 3]\n"
     ]
    }
   ],
   "source": [
    "def outside():\n",
    "    def nested():\n",
    "        outsideList.append(3)\n",
    "    outsideList = [1, 2]\n",
    "    nested()\n",
    "    print outsideList\n",
    "\n",
    "outside()"
   ]
  },
  {
   "cell_type": "code",
   "execution_count": 116,
   "metadata": {},
   "outputs": [
    {
     "name": "stdout",
     "output_type": "stream",
     "text": [
      "6\n"
     ]
    }
   ],
   "source": [
    "def factorial(number):\n",
    "\n",
    "    # error handling\n",
    "    if not isinstance(number, int):\n",
    "        raise TypeError(\"Sorry. 'number' must be an integer.\")\n",
    "    if not number >= 0:\n",
    "        raise ValueError(\"Sorry. 'number' must be zero or positive.\")\n",
    "\n",
    "    def inner_factorial(number):\n",
    "        if number <= 1:\n",
    "            return 1\n",
    "        return number*inner_factorial(number-1)\n",
    "    return inner_factorial(number)\n",
    "\n",
    "# call the outer function\n",
    "print(factorial(3))"
   ]
  },
  {
   "cell_type": "code",
   "execution_count": 122,
   "metadata": {},
   "outputs": [
    {
     "name": "stdout",
     "output_type": "stream",
     "text": [
      "True\n",
      "False\n",
      "\n",
      "True\n",
      "False\n"
     ]
    }
   ],
   "source": [
    "print isinstance(5, int)\n",
    "print isinstance(5.0, int)\n",
    "print \n",
    "\n",
    "print isinstance(5.0, float)\n",
    "print isinstance(5, float)"
   ]
  }
 ],
 "metadata": {
  "kernelspec": {
   "display_name": "Python 2",
   "language": "python",
   "name": "python2"
  },
  "language_info": {
   "codemirror_mode": {
    "name": "ipython",
    "version": 2
   },
   "file_extension": ".py",
   "mimetype": "text/x-python",
   "name": "python",
   "nbconvert_exporter": "python",
   "pygments_lexer": "ipython2",
   "version": "2.7.12"
  }
 },
 "nbformat": 4,
 "nbformat_minor": 2
}
