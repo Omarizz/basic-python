{
 "cells": [
  {
   "cell_type": "markdown",
   "metadata": {},
   "source": [
    "# Functions\n"
   ]
  },
  {
   "cell_type": "markdown",
   "metadata": {},
   "source": [
    "# function calls\n",
    "\n",
    "### In the context of programming, a function is a named sequence of statements that performs a computation. When you define a function, you specify the name and the sequence of statements. Later, you can 'call' the function by name. "
   ]
  },
  {
   "cell_type": "code",
   "execution_count": 5,
   "metadata": {},
   "outputs": [
    {
     "name": "stdout",
     "output_type": "stream",
     "text": [
      "<type 'int'>\n",
      "<type 'str'>\n"
     ]
    }
   ],
   "source": [
    "# function call\n",
    "\n",
    "print type(32)\n",
    "print type('string')\n",
    "\n",
    "# The name of the function is 'type'. The expression in parentheses is called the 'argument' of the function.\n",
    "# It is common to say that a function 'takes' an argument and 'returns' a result. The result is called the 'return value'."
   ]
  },
  {
   "cell_type": "markdown",
   "metadata": {},
   "source": [
    "## Built-in functions\n",
    "\n",
    "### Python provides a number of important built-in functions that we can use without needing to provide the function definition."
   ]
  },
  {
   "cell_type": "code",
   "execution_count": 9,
   "metadata": {},
   "outputs": [
    {
     "name": "stdout",
     "output_type": "stream",
     "text": [
      "r\n",
      "!\n",
      "11\n"
     ]
    }
   ],
   "source": [
    "print max('HelloWorld!')\n",
    "print min('HelloWorld!')\n",
    "print len('HelloWorld!')"
   ]
  },
  {
   "cell_type": "markdown",
   "metadata": {},
   "source": [
    "# Type conversion functions\n",
    "\n",
    "### Python also provides built-in functions that convert values from one type to another."
   ]
  },
  {
   "cell_type": "code",
   "execution_count": 20,
   "metadata": {},
   "outputs": [
    {
     "name": "stdout",
     "output_type": "stream",
     "text": [
      "32\n",
      "32\n",
      "32\n",
      "\n",
      "32.0\n",
      "32.0\n",
      "32.14\n",
      "32.14\n"
     ]
    }
   ],
   "source": [
    "print int('32')\n",
    "print int(32)\n",
    "print int(32.0)\n",
    "print\n",
    "\n",
    "print float(32)\n",
    "print float('32')\n",
    "print float('32.14')\n",
    "print float(32.14)\n",
    "\n"
   ]
  },
  {
   "cell_type": "markdown",
   "metadata": {},
   "source": [
    "# Random numbers"
   ]
  },
  {
   "cell_type": "code",
   "execution_count": 22,
   "metadata": {},
   "outputs": [
    {
     "name": "stdout",
     "output_type": "stream",
     "text": [
      "0.45019730202\n",
      "0.926038214208\n",
      "0.347652651514\n",
      "0.397709669299\n",
      "0.919215367632\n",
      "0.262528013438\n",
      "0.223421382509\n",
      "0.970402598227\n",
      "0.921079063008\n",
      "0.158845007616\n"
     ]
    }
   ],
   "source": [
    "import random\n",
    "\n",
    "# This program produces the list of 10 random numbers between 0.0 and up to but not includeing 1.0\n",
    "for i in range(10):\n",
    "    print random.random()"
   ]
  },
  {
   "cell_type": "code",
   "execution_count": 30,
   "metadata": {},
   "outputs": [
    {
     "data": {
      "text/plain": [
       "4"
      ]
     },
     "execution_count": 30,
     "metadata": {},
     "output_type": "execute_result"
    }
   ],
   "source": [
    "# random between 0 and 10\n",
    "random.randint(0,10)"
   ]
  },
  {
   "cell_type": "code",
   "execution_count": 39,
   "metadata": {},
   "outputs": [
    {
     "name": "stdout",
     "output_type": "stream",
     "text": [
      "1\n",
      "surprise\n"
     ]
    }
   ],
   "source": [
    "# To choose an element from a sequence at random, you can use 'choice'\n",
    "num = [1, 2, 3]\n",
    "text = ['test', 'name', 'surprise']\n",
    "\n",
    "print random.choice(num)\n",
    "print random.choice(text)"
   ]
  },
  {
   "cell_type": "code",
   "execution_count": 65,
   "metadata": {},
   "outputs": [
    {
     "name": "stdout",
     "output_type": "stream",
     "text": [
      "2\n",
      "0\n",
      "1\n",
      "9\n",
      "2\n",
      "5\n",
      "6\n",
      "0\n",
      "2\n",
      "1\n"
     ]
    }
   ],
   "source": [
    "# This program produces the list of 10 random numbers between 0 and up to 9\n",
    "for i in range(10):\n",
    "    print int(random.random()*10)"
   ]
  },
  {
   "cell_type": "code",
   "execution_count": 56,
   "metadata": {
    "collapsed": true
   },
   "outputs": [],
   "source": [
    "# exercise\n",
    "\n",
    "# Program produces the list of 5 random numbers between 1 and 10\n",
    "\n",
    "\n"
   ]
  },
  {
   "cell_type": "code",
   "execution_count": 63,
   "metadata": {},
   "outputs": [
    {
     "name": "stdout",
     "output_type": "stream",
     "text": [
      "5\n",
      "0\n",
      "8\n",
      "0\n",
      "3\n",
      "6\n",
      "6\n",
      "0\n",
      "5\n",
      "6\n"
     ]
    }
   ],
   "source": [
    "# This program produces the list of 10 random numbers between 0 and 10\n",
    "for i in range(10):    \n",
    "    print random.randint(0,10)"
   ]
  },
  {
   "cell_type": "markdown",
   "metadata": {},
   "source": [
    "# Adding new functions\n",
    "### using the 'def statement is the most common way to define a function in python"
   ]
  },
  {
   "cell_type": "code",
   "execution_count": null,
   "metadata": {
    "collapsed": true
   },
   "outputs": [],
   "source": [
    "# defining and calling simple functions\n",
    "\n",
    "def greet():\n",
    "    print('Hello World!!!')"
   ]
  },
  {
   "cell_type": "code",
   "execution_count": 7,
   "metadata": {},
   "outputs": [
    {
     "name": "stdout",
     "output_type": "stream",
     "text": [
      "Hello World!!!\n"
     ]
    }
   ],
   "source": [
    "# call the defined function\n",
    "greet()"
   ]
  },
  {
   "cell_type": "code",
   "execution_count": 8,
   "metadata": {
    "collapsed": true
   },
   "outputs": [],
   "source": [
    "# a function definition which takes one single argument\n",
    "\n",
    "def greet(greeting):\n",
    "    print(greeting)"
   ]
  },
  {
   "cell_type": "code",
   "execution_count": 9,
   "metadata": {},
   "outputs": [
    {
     "name": "stdout",
     "output_type": "stream",
     "text": [
      "Hello World!!!\n"
     ]
    }
   ],
   "source": [
    "# function must be called with an argument\n",
    "greet('Hello World!!!')"
   ]
  },
  {
   "cell_type": "code",
   "execution_count": 11,
   "metadata": {
    "collapsed": true
   },
   "outputs": [],
   "source": [
    "# give a default value to a function argument\n",
    "\n",
    "def greet(greeting='Hello World!!!'):\n",
    "    print(greeting)"
   ]
  },
  {
   "cell_type": "code",
   "execution_count": 13,
   "metadata": {},
   "outputs": [
    {
     "name": "stdout",
     "output_type": "stream",
     "text": [
      "Hello World!!!\n",
      "Hi\n"
     ]
    }
   ],
   "source": [
    "greet()\n",
    "\n",
    "greet('Hi')"
   ]
  },
  {
   "cell_type": "markdown",
   "metadata": {},
   "source": [
    "# Return\n",
    "\n",
    "### Python functions can return values of any type via the 'return' keyword."
   ]
  },
  {
   "cell_type": "code",
   "execution_count": 17,
   "metadata": {
    "collapsed": true
   },
   "outputs": [],
   "source": [
    "def many_types(x):\n",
    "    if x > 0:\n",
    "        return 'Hello!!!'\n",
    "    else:\n",
    "        return 0"
   ]
  },
  {
   "cell_type": "code",
   "execution_count": 18,
   "metadata": {},
   "outputs": [
    {
     "name": "stdout",
     "output_type": "stream",
     "text": [
      "Hello!!!\n",
      "0\n"
     ]
    }
   ],
   "source": [
    "print(many_types(1))\n",
    "print(many_types(-1))"
   ]
  },
  {
   "cell_type": "markdown",
   "metadata": {},
   "source": [
    "## Defining a function with an arbitrary number of arguments "
   ]
  },
  {
   "cell_type": "code",
   "execution_count": 68,
   "metadata": {
    "collapsed": true
   },
   "outputs": [],
   "source": [
    "def func(*args):\n",
    "    for i in args:\n",
    "        print(i)"
   ]
  },
  {
   "cell_type": "code",
   "execution_count": 73,
   "metadata": {},
   "outputs": [
    {
     "name": "stdout",
     "output_type": "stream",
     "text": [
      "1\n",
      "\n",
      "1\n",
      "2\n",
      "3\n",
      "4\n",
      "5\n"
     ]
    }
   ],
   "source": [
    "func(1)\n",
    "print\n",
    "\n",
    "func(1,2,3,4,5)"
   ]
  },
  {
   "cell_type": "code",
   "execution_count": 75,
   "metadata": {},
   "outputs": [
    {
     "name": "stdout",
     "output_type": "stream",
     "text": [
      "1\n",
      "2\n",
      "test\n",
      "\n",
      "[1, 2, 'test']\n"
     ]
    }
   ],
   "source": [
    "list_of_arg_values = [1,2,'test']\n",
    "\n",
    "func(*list_of_arg_values)\n",
    "print\n",
    "\n",
    "func(list_of_arg_values)"
   ]
  },
  {
   "cell_type": "code",
   "execution_count": 76,
   "metadata": {},
   "outputs": [],
   "source": [
    "# no output\n",
    "func()"
   ]
  },
  {
   "cell_type": "markdown",
   "metadata": {},
   "source": [
    "# Arguments\n",
    "\n",
    "### An argument is a value we pass into the function as its input when we call the function\n",
    "### We use arguments so we can direct the function to do different kinds of work when we call it at different times\n",
    "### We put the arguments in parentheses after the name of the function\n",
    "\n",
    "\n",
    "```\n",
    "    max_value = max('Hello World')\n",
    "```\n",
    "'Hello World' = argument"
   ]
  },
  {
   "cell_type": "markdown",
   "metadata": {},
   "source": [
    "# Parameters\n",
    "\n",
    "### A parameter is a variable which we use in the function definition.\n",
    "### It is a handle that allows the code in the function to access the arguments for a particular function invocation.\n",
    "\n",
    "```\n",
    "def greet(lang):\n",
    "    if lang == 'es':\n",
    "        print 'Hola'\n",
    "    elif lang == 'fr':\n",
    "        print 'Bonjour'\n",
    "    else:\n",
    "        print 'Hello'\n",
    "\n",
    "```\n",
    "\n",
    "'lang' = parameter"
   ]
  },
  {
   "cell_type": "code",
   "execution_count": 78,
   "metadata": {},
   "outputs": [
    {
     "name": "stdout",
     "output_type": "stream",
     "text": [
      "Hello\n",
      "Bonjour\n",
      "Hola\n"
     ]
    }
   ],
   "source": [
    "def greet(lang):\n",
    "    if lang == 'es':\n",
    "        print 'Hola'\n",
    "    elif lang == 'fr':\n",
    "        print 'Bonjour'\n",
    "    else:\n",
    "        print 'Hello'\n",
    "\n",
    "greet('en')\n",
    "greet('fr')\n",
    "greet('es')"
   ]
  },
  {
   "cell_type": "markdown",
   "metadata": {},
   "source": [
    "# Return values\n",
    "\n",
    "### Often a function will take its arguments, do some computation, and 'return' a value to be used as the value of the function call in the calling expression. The 'return' keyword is used for this."
   ]
  },
  {
   "cell_type": "code",
   "execution_count": 79,
   "metadata": {},
   "outputs": [
    {
     "name": "stdout",
     "output_type": "stream",
     "text": [
      "Hello Helen\n",
      "Hello Henderson\n"
     ]
    }
   ],
   "source": [
    "def greet():\n",
    "    return 'Hello'\n",
    "\n",
    "print greet(), 'Helen'\n",
    "print greet(), 'Henderson'"
   ]
  },
  {
   "cell_type": "code",
   "execution_count": 16,
   "metadata": {},
   "outputs": [
    {
     "name": "stdout",
     "output_type": "stream",
     "text": [
      "Hello Helen\n",
      "Bonjour Henderson\n",
      "Hola Michael\n"
     ]
    }
   ],
   "source": [
    "# a 'fruitful' function is one that produces a 'result' (or return value)\n",
    "# The 'return' statement ends the function execution and 'sends back' the result of the function\n",
    "\n",
    "def greet(lang):\n",
    "    if lang == 'es':\n",
    "        return 'Hola'\n",
    "    elif lang == 'fr':\n",
    "        return 'Bonjour'\n",
    "    else:\n",
    "        return 'Hello'\n",
    "\n",
    "print greet('en'), 'Helen'\n",
    "print greet('fr'), 'Henderson'\n",
    "print greet('es'), 'Michael'"
   ]
  },
  {
   "cell_type": "code",
   "execution_count": 38,
   "metadata": {},
   "outputs": [],
   "source": [
    "# sort 'string' and 'number'\n",
    "def sort_num_list_1(num_list):\n",
    "    list1.sort()\n",
    "    return list1\n",
    "\n",
    "def sort_num_list_2(num_list):\n",
    "    list1.sort(key=int)\n",
    "    return list1"
   ]
  },
  {
   "cell_type": "code",
   "execution_count": 43,
   "metadata": {},
   "outputs": [
    {
     "name": "stdout",
     "output_type": "stream",
     "text": [
      "['1', '10', '2', '200', '22', '23', '3', '4']\n",
      "['1', '2', '3', '4', '10', '22', '23', '200']\n"
     ]
    }
   ],
   "source": [
    "list1=[\"1\",\"10\",\"3\",\"22\",\"23\",\"4\",\"2\",\"200\"]\n",
    "\n",
    "print sort_num_list_1(list1)\n",
    "print sort_num_list_2(list1)"
   ]
  },
  {
   "cell_type": "code",
   "execution_count": 46,
   "metadata": {},
   "outputs": [
    {
     "name": "stdout",
     "output_type": "stream",
     "text": [
      "['a', 'and', 'ant', 'c', 'cat', 'cut', 'o', 'or', 'oral']\n"
     ]
    }
   ],
   "source": [
    "list1=[\"c\",\"cat\",\"cut\",\"ant\",\"a\",\"and\",\"or\",\"o\", \"oral\"]\n",
    "\n",
    "print sort_num_list_1(list1)"
   ]
  },
  {
   "cell_type": "markdown",
   "metadata": {},
   "source": [
    "## Sort"
   ]
  },
  {
   "cell_type": "code",
   "execution_count": 118,
   "metadata": {},
   "outputs": [
    {
     "name": "stdout",
     "output_type": "stream",
     "text": [
      "[1, 2, 2, 3, 5]\n",
      "[1, 2, 2, 3, 5]\n"
     ]
    }
   ],
   "source": [
    "# sort in list\n",
    "\n",
    "a = [1,2,5,2,3]\n",
    "\n",
    "a.sort()\n",
    "print a\n",
    "print sorted(a)"
   ]
  },
  {
   "cell_type": "markdown",
   "metadata": {},
   "source": [
    "## Key Functions\n",
    "Starting with Python 2.4, both 'list.sort()' and 'sorted()' added a 'key' parameter to  \n",
    "specify a function to be called on each list element prior to makin comparions.  "
   ]
  },
  {
   "cell_type": "code",
   "execution_count": 56,
   "metadata": {},
   "outputs": [
    {
     "name": "stdout",
     "output_type": "stream",
     "text": [
      "['Andrew', 'This', 'a', 'from', 'is', 'string', 'test']\n",
      "['a', 'Andrew', 'from', 'is', 'string', 'test', 'This']\n"
     ]
    }
   ],
   "source": [
    "print sorted(\"This is a test string from Andrew\".split())\n",
    "print sorted(\"This is a test string from Andrew\".split(), key=str.lower)"
   ]
  },
  {
   "cell_type": "code",
   "execution_count": 60,
   "metadata": {},
   "outputs": [
    {
     "name": "stdout",
     "output_type": "stream",
     "text": [
      "['Andrew', 'This', 'a', 'from', 'is', 'string', 'test']\n",
      "['a', 'Andrew', 'from', 'is', 'string', 'test', 'This']\n"
     ]
    }
   ],
   "source": [
    "string = \"This is a test string from Andrew\".split()\n",
    "string.sort()\n",
    "print string\n",
    "\n",
    "string.sort(key=str.lower)\n",
    "print string"
   ]
  },
  {
   "cell_type": "code",
   "execution_count": 66,
   "metadata": {},
   "outputs": [
    {
     "name": "stdout",
     "output_type": "stream",
     "text": [
      "['A', 'Andrew', 'a', 'andrew']\n",
      "['A', 'a', 'Andrew', 'andrew']\n",
      "['A', 'a', 'Andrew', 'andrew']\n"
     ]
    }
   ],
   "source": [
    "string = ['andrew', 'Andrew', 'a', 'A']\n",
    "string.sort()\n",
    "print string\n",
    "\n",
    "string.sort(key=str.lower)\n",
    "print string\n",
    "\n",
    "string.sort(key=str.upper)\n",
    "print string"
   ]
  },
  {
   "cell_type": "code",
   "execution_count": 73,
   "metadata": {},
   "outputs": [
    {
     "name": "stdout",
     "output_type": "stream",
     "text": [
      "['Andrew', 'This', 'a', 'from', 'is', 'string', 'test']\n",
      "['test', 'string', 'is', 'from', 'a', 'This', 'Andrew']\n"
     ]
    }
   ],
   "source": [
    "# Ascending and Descending\n",
    "string = \"This is a test string from Andrew\".split()\n",
    "print sorted(string)\n",
    "print sorted(string, reverse=True)"
   ]
  },
  {
   "cell_type": "code",
   "execution_count": 80,
   "metadata": {},
   "outputs": [
    {
     "name": "stdout",
     "output_type": "stream",
     "text": [
      "['2', '20', '3', '4', '4', '5', '5', '50', '52']\n",
      "['2', '3', '4', '4', '5', '5', '20', '50', '52']\n"
     ]
    }
   ],
   "source": [
    "string = \"2 4 5 20 5 3 50 52 4\".split()\n",
    "print sorted(string)\n",
    "print sorted(string, key=int)"
   ]
  },
  {
   "cell_type": "code",
   "execution_count": 82,
   "metadata": {},
   "outputs": [
    {
     "name": "stdout",
     "output_type": "stream",
     "text": [
      "['2.0', '20.2', '3.1', '30.0', '4', '4', '5.0', '5.01', '50', '52']\n"
     ]
    },
    {
     "ename": "ValueError",
     "evalue": "invalid literal for int() with base 10: '2.0'",
     "output_type": "error",
     "traceback": [
      "\u001b[0;31m---------------------------------------------------------------------------\u001b[0m",
      "\u001b[0;31mValueError\u001b[0m                                Traceback (most recent call last)",
      "\u001b[0;32m<ipython-input-82-4b564a4f8c32>\u001b[0m in \u001b[0;36m<module>\u001b[0;34m()\u001b[0m\n\u001b[1;32m      1\u001b[0m \u001b[0mstring\u001b[0m \u001b[0;34m=\u001b[0m \u001b[0;34m\"2.0 4 5.0 20.2 5.01 3.1 50 52 30.0 4\"\u001b[0m\u001b[0;34m.\u001b[0m\u001b[0msplit\u001b[0m\u001b[0;34m(\u001b[0m\u001b[0;34m)\u001b[0m\u001b[0;34m\u001b[0m\u001b[0m\n\u001b[1;32m      2\u001b[0m \u001b[0;32mprint\u001b[0m \u001b[0msorted\u001b[0m\u001b[0;34m(\u001b[0m\u001b[0mstring\u001b[0m\u001b[0;34m)\u001b[0m\u001b[0;34m\u001b[0m\u001b[0m\n\u001b[0;32m----> 3\u001b[0;31m \u001b[0;32mprint\u001b[0m \u001b[0msorted\u001b[0m\u001b[0;34m(\u001b[0m\u001b[0mstring\u001b[0m\u001b[0;34m,\u001b[0m \u001b[0mkey\u001b[0m\u001b[0;34m=\u001b[0m\u001b[0mint\u001b[0m\u001b[0;34m)\u001b[0m\u001b[0;34m\u001b[0m\u001b[0m\n\u001b[0m",
      "\u001b[0;31mValueError\u001b[0m: invalid literal for int() with base 10: '2.0'"
     ]
    }
   ],
   "source": [
    "string = \"2.0 4 5.0 20.2 5.01 3.1 50 52 30.0 4\".split()\n",
    "print sorted(string)\n",
    "print sorted(string, key=int)"
   ]
  },
  {
   "cell_type": "code",
   "execution_count": 83,
   "metadata": {},
   "outputs": [
    {
     "name": "stdout",
     "output_type": "stream",
     "text": [
      "['2.0', '20.2', '3.1', '30.0', '4', '4', '5.0', '5.01', '50', '52']\n",
      "['2.0', '3.1', '4', '4', '5.0', '5.01', '20.2', '30.0', '50', '52']\n"
     ]
    }
   ],
   "source": [
    "string = \"2.0 4 5.0 20.2 5.01 3.1 50 52 30.0 4\".split()\n",
    "print sorted(string)\n",
    "print sorted(string, key=float)"
   ]
  },
  {
   "cell_type": "code",
   "execution_count": 86,
   "metadata": {},
   "outputs": [
    {
     "name": "stdout",
     "output_type": "stream",
     "text": [
      "['2.0', '20.2', '3.1', '30.0', '4', '4', '5.0', '5.01', '50', '52']\n",
      "['2.0', '3.1', '4', '4', '5.0', '5.01', '20.2', '30.0', '50', '52']\n",
      "['52', '50', '30.0', '20.2', '5.01', '5.0', '4', '4', '3.1', '2.0']\n"
     ]
    }
   ],
   "source": [
    "string = \"2.0 4 5.0 20.2 5.01 3.1 50 52 30.0 4\".split()\n",
    "print sorted(string)\n",
    "print sorted(string, key=float)\n",
    "print sorted(string, key=float, reverse=True)"
   ]
  },
  {
   "cell_type": "code",
   "execution_count": 96,
   "metadata": {},
   "outputs": [
    {
     "name": "stdout",
     "output_type": "stream",
     "text": [
      "[[2, 4, 3], [4, 2, 8], [5, 3, 1]]\n",
      "\n",
      "[2, 3, 4]\n",
      "[2, 4, 8]\n",
      "[1, 3, 5]\n"
     ]
    }
   ],
   "source": [
    "string = [[4,2,8],[2,4,3],[5,3,1]]\n",
    "print sorted(string)\n",
    "print \n",
    "\n",
    "string1 = sorted(string)\n",
    "for st in string1:\n",
    "    print sorted(st)"
   ]
  },
  {
   "cell_type": "code",
   "execution_count": 107,
   "metadata": {},
   "outputs": [],
   "source": [
    "# sort in tuple\n",
    "\n",
    "# tuple\n",
    "# ('name','class','age')\n",
    "student_tuples = [\n",
    "    ('john','A',15),\n",
    "    ('jane','B',12),\n",
    "    ('jame','B',13)\n",
    "]"
   ]
  },
  {
   "cell_type": "code",
   "execution_count": 108,
   "metadata": {},
   "outputs": [
    {
     "data": {
      "text/plain": [
       "[('jame', 'B', 13), ('jane', 'B', 12), ('john', 'A', 15)]"
      ]
     },
     "execution_count": 108,
     "metadata": {},
     "output_type": "execute_result"
    }
   ],
   "source": [
    "sorted(student_tuples)"
   ]
  },
  {
   "cell_type": "code",
   "execution_count": 111,
   "metadata": {},
   "outputs": [
    {
     "data": {
      "text/plain": [
       "[('jame', 'B', 13), ('jane', 'B', 12), ('john', 'A', 15)]"
      ]
     },
     "execution_count": 111,
     "metadata": {},
     "output_type": "execute_result"
    }
   ],
   "source": [
    "# sort by student_tuples[0] = 'name'\n",
    "\n",
    "sorted(student_tuples, key=lambda student_tuples: student_tuples[0])"
   ]
  },
  {
   "cell_type": "code",
   "execution_count": 112,
   "metadata": {},
   "outputs": [
    {
     "data": {
      "text/plain": [
       "[('john', 'A', 15), ('jane', 'B', 12), ('jame', 'B', 13)]"
      ]
     },
     "execution_count": 112,
     "metadata": {},
     "output_type": "execute_result"
    }
   ],
   "source": [
    "# sort by student_tuples[0] = 'class'\n",
    "\n",
    "sorted(student_tuples, key=lambda student_tuples: student_tuples[1])"
   ]
  },
  {
   "cell_type": "code",
   "execution_count": 113,
   "metadata": {},
   "outputs": [
    {
     "data": {
      "text/plain": [
       "[('jane', 'B', 12), ('jame', 'B', 13), ('john', 'A', 15)]"
      ]
     },
     "execution_count": 113,
     "metadata": {},
     "output_type": "execute_result"
    }
   ],
   "source": [
    "# sort by student_tuples[0] = 'age'\n",
    "\n",
    "sorted(student_tuples, key=lambda student_tuples: student_tuples[2])"
   ]
  },
  {
   "cell_type": "code",
   "execution_count": 116,
   "metadata": {},
   "outputs": [
    {
     "name": "stdout",
     "output_type": "stream",
     "text": [
      "[('jame', 'B', 13), ('jane', 'B', 12), ('john', 'A', 15)]\n",
      "[('john', 'A', 15), ('jane', 'B', 12), ('jame', 'B', 13)]\n"
     ]
    }
   ],
   "source": [
    "print sorted(student_tuples)\n",
    "print sorted(student_tuples, reverse=True)"
   ]
  },
  {
   "cell_type": "code",
   "execution_count": 122,
   "metadata": {},
   "outputs": [],
   "source": [
    "# sort in numpy array\n",
    "\n",
    "import numpy as np\n",
    "\n",
    "x = np.array([2,3,4,1,0,24,6,21,31])"
   ]
  },
  {
   "cell_type": "code",
   "execution_count": 123,
   "metadata": {},
   "outputs": [
    {
     "data": {
      "text/plain": [
       "[0, 1, 2, 3, 4, 6, 21, 24, 31]"
      ]
     },
     "execution_count": 123,
     "metadata": {},
     "output_type": "execute_result"
    }
   ],
   "source": [
    "sorted(x)"
   ]
  },
  {
   "cell_type": "code",
   "execution_count": 124,
   "metadata": {},
   "outputs": [
    {
     "data": {
      "text/plain": [
       "[31, 24, 21, 6, 4, 3, 2, 1, 0]"
      ]
     },
     "execution_count": 124,
     "metadata": {},
     "output_type": "execute_result"
    }
   ],
   "source": [
    "sorted(x,reverse=True)"
   ]
  },
  {
   "cell_type": "code",
   "execution_count": 128,
   "metadata": {},
   "outputs": [
    {
     "name": "stdout",
     "output_type": "stream",
     "text": [
      "[0, 1, 2, 3, 4, 6, 21, 24, 31]\n",
      "[0, 1, 2, 3, 4, 6, 21, 24, 31]\n",
      "[0, 1, 2, 3, 4, 6, 21, 24, 31]\n"
     ]
    }
   ],
   "source": [
    "print sorted(x)\n",
    "print sorted(x,key=int)\n",
    "print sorted(x,key=float)"
   ]
  },
  {
   "cell_type": "code",
   "execution_count": 154,
   "metadata": {},
   "outputs": [],
   "source": [
    "import numpy as np\n",
    "\n",
    "x = np.array([[6,1,6],[5,1,7],[7,6,8]])"
   ]
  },
  {
   "cell_type": "code",
   "execution_count": 155,
   "metadata": {},
   "outputs": [
    {
     "ename": "ValueError",
     "evalue": "The truth value of an array with more than one element is ambiguous. Use a.any() or a.all()",
     "output_type": "error",
     "traceback": [
      "\u001b[0;31m---------------------------------------------------------------------------\u001b[0m",
      "\u001b[0;31mValueError\u001b[0m                                Traceback (most recent call last)",
      "\u001b[0;32m<ipython-input-155-1dff0b279620>\u001b[0m in \u001b[0;36m<module>\u001b[0;34m()\u001b[0m\n\u001b[0;32m----> 1\u001b[0;31m \u001b[0msorted\u001b[0m\u001b[0;34m(\u001b[0m\u001b[0mx\u001b[0m\u001b[0;34m)\u001b[0m\u001b[0;34m\u001b[0m\u001b[0m\n\u001b[0m",
      "\u001b[0;31mValueError\u001b[0m: The truth value of an array with more than one element is ambiguous. Use a.any() or a.all()"
     ]
    }
   ],
   "source": [
    "sorted(x)"
   ]
  },
  {
   "cell_type": "code",
   "execution_count": 156,
   "metadata": {},
   "outputs": [
    {
     "name": "stdout",
     "output_type": "stream",
     "text": [
      "x\n",
      "[[6 1 6]\n",
      " [5 1 7]\n",
      " [7 6 8]]\n",
      "\n",
      "sort\n",
      "[[1 6 6]\n",
      " [1 5 7]\n",
      " [6 7 8]]\n",
      "\n",
      "axis=None\n",
      "[1 1 5 6 6 6 7 7 8]\n",
      "\n",
      "axis=0\n",
      "[[5 1 6]\n",
      " [6 1 7]\n",
      " [7 6 8]]\n",
      "\n",
      "axis=1\n",
      "[[1 6 6]\n",
      " [1 5 7]\n",
      " [6 7 8]]\n",
      "\n"
     ]
    }
   ],
   "source": [
    "print 'x\\n', x\n",
    "print\n",
    "\n",
    "print 'sort'\n",
    "print np.sort(x)\n",
    "print \n",
    "\n",
    "print 'axis=None'\n",
    "print np.sort(x, axis=None)\n",
    "print \n",
    "\n",
    "print 'axis=0'\n",
    "print np.sort(x, axis=0)\n",
    "print\n",
    "\n",
    "print 'axis=1'\n",
    "print np.sort(x, axis=1)\n",
    "print"
   ]
  },
  {
   "cell_type": "markdown",
   "metadata": {},
   "source": [
    "# Structed array"
   ]
  },
  {
   "cell_type": "code",
   "execution_count": 159,
   "metadata": {},
   "outputs": [],
   "source": [
    "dtype = [('name', 'S10'),('height', float), ('age', int)]\n",
    "values = [('Arthur', 1.8, 41), ('Lancelot', 1.9, 38), ('Galahd', 1.7, 38)]\n",
    "\n",
    "# create a structured array\n",
    "name_list = np.array(values, dtype=dtype)"
   ]
  },
  {
   "cell_type": "code",
   "execution_count": 163,
   "metadata": {},
   "outputs": [
    {
     "name": "stdout",
     "output_type": "stream",
     "text": [
      "type <type 'numpy.ndarray'>\n",
      "\n",
      "[('Arthur', 1.8, 41) ('Lancelot', 1.9, 38) ('Galahd', 1.7, 38)]\n"
     ]
    }
   ],
   "source": [
    "print 'type', type(name_list)\n",
    "print\n",
    "print name_list"
   ]
  },
  {
   "cell_type": "code",
   "execution_count": 164,
   "metadata": {},
   "outputs": [
    {
     "data": {
      "text/plain": [
       "array([('Arthur', 1.8, 41), ('Galahd', 1.7, 38), ('Lancelot', 1.9, 38)],\n",
       "      dtype=[('name', 'S10'), ('height', '<f8'), ('age', '<i8')])"
      ]
     },
     "execution_count": 164,
     "metadata": {},
     "output_type": "execute_result"
    }
   ],
   "source": [
    "np.sort(name_list)"
   ]
  },
  {
   "cell_type": "code",
   "execution_count": 165,
   "metadata": {},
   "outputs": [
    {
     "data": {
      "text/plain": [
       "array([('Arthur', 1.8, 41), ('Galahd', 1.7, 38), ('Lancelot', 1.9, 38)],\n",
       "      dtype=[('name', 'S10'), ('height', '<f8'), ('age', '<i8')])"
      ]
     },
     "execution_count": 165,
     "metadata": {},
     "output_type": "execute_result"
    }
   ],
   "source": [
    "np.sort(name_list, order='name')"
   ]
  },
  {
   "cell_type": "code",
   "execution_count": 166,
   "metadata": {},
   "outputs": [
    {
     "data": {
      "text/plain": [
       "array([('Galahd', 1.7, 38), ('Lancelot', 1.9, 38), ('Arthur', 1.8, 41)],\n",
       "      dtype=[('name', 'S10'), ('height', '<f8'), ('age', '<i8')])"
      ]
     },
     "execution_count": 166,
     "metadata": {},
     "output_type": "execute_result"
    }
   ],
   "source": [
    "np.sort(name_list, order='age')"
   ]
  },
  {
   "cell_type": "code",
   "execution_count": 169,
   "metadata": {},
   "outputs": [
    {
     "name": "stdout",
     "output_type": "stream",
     "text": [
      "[('Galahd', 1.7, 38) ('Arthur', 1.8, 41) ('Lancelot', 1.9, 38)]\n"
     ]
    }
   ],
   "source": [
    "print np.sort(name_list, order='height')"
   ]
  },
  {
   "cell_type": "code",
   "execution_count": 171,
   "metadata": {},
   "outputs": [
    {
     "name": "stdout",
     "output_type": "stream",
     "text": [
      "[('Galahd', 1.7, 38) ('Lancelot', 1.9, 38) ('Arthur', 1.8, 41)]\n"
     ]
    }
   ],
   "source": [
    "# sort by 'age', then 'height' if ages are equal\n",
    "\n",
    "print np.sort(name_list, order=['age','height'])"
   ]
  },
  {
   "cell_type": "code",
   "execution_count": 180,
   "metadata": {},
   "outputs": [
    {
     "name": "stdout",
     "output_type": "stream",
     "text": [
      "[('Arthur', 1.8, 41) ('Lancelot', 1.9, 38) ('Galahd', 1.7, 38)]\n",
      "[0 1 2]\n",
      "\n",
      "[('Arthur', 1.8, 41) ('Galahd', 1.7, 38) ('Lancelot', 1.9, 38)]\n",
      "[0 2 1]\n"
     ]
    }
   ],
   "source": [
    "print name_list\n",
    "print '[0 1 2]'\n",
    "print\n",
    "\n",
    "print np.sort(name_list)\n",
    "print np.argsort(name_list)"
   ]
  },
  {
   "cell_type": "markdown",
   "metadata": {},
   "source": [
    "# Example"
   ]
  },
  {
   "cell_type": "code",
   "execution_count": 193,
   "metadata": {},
   "outputs": [
    {
     "name": "stdout",
     "output_type": "stream",
     "text": [
      "Enter values separated by spaces: 0.2 4\n",
      "None-integers in input!\n"
     ]
    }
   ],
   "source": [
    "list1 = raw_input('Enter values separated by spaces: ')\n",
    "\n",
    "# this way you can avoid an user error while input a number (* accept only integer number)\n",
    "try:\n",
    "    list1 =[int(x) for x in list1.split()]     # int(x) = only integer value\n",
    "    print 'sort: ', sorted(list1, key=int)\n",
    "except ValueError:\n",
    "    print 'None-integers in input!'"
   ]
  },
  {
   "cell_type": "markdown",
   "metadata": {},
   "source": [
    "# Return Multiple values"
   ]
  },
  {
   "cell_type": "code",
   "execution_count": 30,
   "metadata": {},
   "outputs": [],
   "source": [
    "def find_min_max(list_num):\n",
    "    print list_num\n",
    "    max_num = max(list_num)\n",
    "    min_num = min(list_num)\n",
    "    return max_num, min_num"
   ]
  },
  {
   "cell_type": "code",
   "execution_count": 31,
   "metadata": {},
   "outputs": [
    {
     "name": "stdout",
     "output_type": "stream",
     "text": [
      "[0, 2, 5, 7, 2, 3]\n",
      "maxx:  7 , minn:  0\n"
     ]
    }
   ],
   "source": [
    "list_num = [0,2,5,7,2,3]\n",
    "maxx, minn = find_min_max(list_num)\n",
    "print 'maxx: ', maxx, ', minn: ', minn"
   ]
  },
  {
   "cell_type": "code",
   "execution_count": 32,
   "metadata": {},
   "outputs": [
    {
     "name": "stdout",
     "output_type": "stream",
     "text": [
      "['output', 'input', 'i/o']\n",
      "max:  output , min:  i/o\n"
     ]
    }
   ],
   "source": [
    "max_num, min_num = find_min_max(['output', 'input', 'i/o'])\n",
    "print 'max: ', max_num, ', min: ', min_num"
   ]
  },
  {
   "cell_type": "markdown",
   "metadata": {},
   "source": [
    "# Multiple parameters / arguments\n",
    "\n",
    "### we can define more than one parameter in the function definition\n",
    "### we match the number and order of arguments and parameters"
   ]
  },
  {
   "cell_type": "code",
   "execution_count": 82,
   "metadata": {},
   "outputs": [
    {
     "name": "stdout",
     "output_type": "stream",
     "text": [
      "8\n"
     ]
    }
   ],
   "source": [
    "def addtwo(a, b):\n",
    "    added = a+b\n",
    "    return added\n",
    "\n",
    "x = addtwo(3, 5)\n",
    "print x"
   ]
  },
  {
   "cell_type": "code",
   "execution_count": 84,
   "metadata": {},
   "outputs": [
    {
     "name": "stdout",
     "output_type": "stream",
     "text": [
      "8\n"
     ]
    }
   ],
   "source": [
    "def addtwo(a, b):\n",
    "    return a+b\n",
    "\n",
    "print addtwo(3, 5)"
   ]
  },
  {
   "cell_type": "code",
   "execution_count": 96,
   "metadata": {},
   "outputs": [
    {
     "name": "stdout",
     "output_type": "stream",
     "text": [
      "Name:  miki\n",
      "Age  50\n",
      "\n",
      "Name:  50\n",
      "Age  miki\n"
     ]
    }
   ],
   "source": [
    "def printinfo(name, age):   \n",
    "   print \"Name: \", name\n",
    "   print \"Age \", age\n",
    "   return;\n",
    "\n",
    "printinfo(age=50, name=\"miki\")\n",
    "print\n",
    "\n",
    "printinfo(50, \"miki\")"
   ]
  },
  {
   "cell_type": "markdown",
   "metadata": {},
   "source": [
    "# Void (non-fruitful) functions\n",
    "\n",
    "### When a function does not return a value, we call it a 'void' function\n",
    "### Functions that return values are 'fruitful' functions\n",
    "### 'Void' functions are 'not fruitful'"
   ]
  },
  {
   "cell_type": "markdown",
   "metadata": {},
   "source": [
    "# exercise  \n",
    "\n",
    "Create a function that use to convert a degree Celsius to Fahrenheit and Fahrenheit to Celsius  \n",
    "\n",
    "```\n",
    "equation: Fahrenheit to Celsius\n",
    "    (F - 32) * (5/9) = C  \n",
    "   \n",
    "equation: Celsius to Fahrenheit\n",
    "    (C * (9/5)) + 32 = F\n",
    "    \n",
    "where \n",
    "    F = Fahrenheit  \n",
    "    C = Celsius      \n",
    "```\n",
    "\n"
   ]
  },
  {
   "cell_type": "code",
   "execution_count": 87,
   "metadata": {},
   "outputs": [
    {
     "name": "stdout",
     "output_type": "stream",
     "text": [
      "How many Dollars do you wish to convert to Euros? :10.2\n",
      "10.2 dollars = 7.344\n",
      "euros\n",
      "Thank you!\n"
     ]
    }
   ],
   "source": [
    "EURO_TO_DOLLAR = 0.72 # Exchange rate on April 22, 2014\n",
    "dollars = raw_input(\"How many Dollars do you wish to convert to Euros? :\")\n",
    "try:\n",
    "    dollars = float(dollars)\n",
    "except ValueError:\n",
    "    print dollars, \"is not a number!\"\n",
    "else:\n",
    "    print dollars, \"dollars =\", dollars * EURO_TO_DOLLAR\n",
    "    print \"euros\"\n",
    "print \"Thank you!\""
   ]
  },
  {
   "cell_type": "markdown",
   "metadata": {},
   "source": [
    "# a function with optional parameters"
   ]
  },
  {
   "cell_type": "code",
   "execution_count": 88,
   "metadata": {},
   "outputs": [
    {
     "name": "stdout",
     "output_type": "stream",
     "text": [
      "8\n",
      "8\n"
     ]
    }
   ],
   "source": [
    "def addtwo(a, b=5):\n",
    "    added = a+b\n",
    "    return added\n",
    "\n",
    "print addtwo(3, 5)\n",
    "print addtwo(3)"
   ]
  },
  {
   "cell_type": "markdown",
   "metadata": {},
   "source": [
    "# Global constants\n",
    "\n",
    "### If you define global variables, they are visible inside all of your functions."
   ]
  },
  {
   "cell_type": "code",
   "execution_count": 92,
   "metadata": {},
   "outputs": [
    {
     "name": "stdout",
     "output_type": "stream",
     "text": [
      "('circle area with radius 5:', 78.53981633974475)\n",
      "('circumference with radius 5:', 31.4159265358979)\n"
     ]
    }
   ],
   "source": [
    "PI = 3.14159265358979   # global constant -- only place the value of PI is set\n",
    "\n",
    "def circleArea(radius):\n",
    "    return PI*radius*radius    # use value of global constant PI\n",
    "\n",
    "def circleCircumference(radius):\n",
    "    return 2*PI*radius         # use value of global constant PI\n",
    "\n",
    "print('circle area with radius 5:', circleArea(5))\n",
    "print('circumference with radius 5:', circleCircumference(5))"
   ]
  },
  {
   "cell_type": "markdown",
   "metadata": {},
   "source": [
    "# Main function"
   ]
  },
  {
   "cell_type": "code",
   "execution_count": 98,
   "metadata": {},
   "outputs": [
    {
     "name": "stdout",
     "output_type": "stream",
     "text": [
      "This is a main function\n"
     ]
    }
   ],
   "source": [
    "def main():  \n",
    "  print(\"This is a main function\")\n",
    "\n",
    "main()"
   ]
  },
  {
   "cell_type": "code",
   "execution_count": 99,
   "metadata": {},
   "outputs": [
    {
     "name": "stdout",
     "output_type": "stream",
     "text": [
      "This is a main function\n"
     ]
    }
   ],
   "source": [
    "def main():\n",
    "  print(\"This is a main function\")\n",
    "  \n",
    "# Execute `main()` function \n",
    "if __name__ == '__main__':\n",
    "    main()"
   ]
  },
  {
   "cell_type": "markdown",
   "metadata": {},
   "source": [
    "# Nested functions\n",
    "### Nested functions are functions defined within other functions."
   ]
  },
  {
   "cell_type": "code",
   "execution_count": 104,
   "metadata": {},
   "outputs": [
    {
     "name": "stdout",
     "output_type": "stream",
     "text": [
      "[1, 2, 3]\n"
     ]
    }
   ],
   "source": [
    "def outside():\n",
    "    outsideList = [1, 2]\n",
    "    def nested():\n",
    "        outsideList.append(3)\n",
    "    nested()\n",
    "    print outsideList\n",
    "\n",
    "outside()"
   ]
  },
  {
   "cell_type": "code",
   "execution_count": 107,
   "metadata": {},
   "outputs": [
    {
     "name": "stdout",
     "output_type": "stream",
     "text": [
      "[1, 2, 3]\n"
     ]
    }
   ],
   "source": [
    "def outside():\n",
    "    def nested():\n",
    "        outsideList.append(3)\n",
    "    outsideList = [1, 2]\n",
    "    nested()\n",
    "    print outsideList\n",
    "\n",
    "outside()"
   ]
  },
  {
   "cell_type": "code",
   "execution_count": 116,
   "metadata": {},
   "outputs": [
    {
     "name": "stdout",
     "output_type": "stream",
     "text": [
      "6\n"
     ]
    }
   ],
   "source": [
    "def factorial(number):\n",
    "\n",
    "    # error handling\n",
    "    if not isinstance(number, int):\n",
    "        raise TypeError(\"Sorry. 'number' must be an integer.\")\n",
    "    if not number >= 0:\n",
    "        raise ValueError(\"Sorry. 'number' must be zero or positive.\")\n",
    "\n",
    "    def inner_factorial(number):\n",
    "        if number <= 1:\n",
    "            return 1\n",
    "        return number*inner_factorial(number-1)\n",
    "    return inner_factorial(number)\n",
    "\n",
    "# call the outer function\n",
    "print(factorial(3))"
   ]
  },
  {
   "cell_type": "code",
   "execution_count": 122,
   "metadata": {},
   "outputs": [
    {
     "name": "stdout",
     "output_type": "stream",
     "text": [
      "True\n",
      "False\n",
      "\n",
      "True\n",
      "False\n"
     ]
    }
   ],
   "source": [
    "print isinstance(5, int)\n",
    "print isinstance(5.0, int)\n",
    "print \n",
    "\n",
    "print isinstance(5.0, float)\n",
    "print isinstance(5, float)"
   ]
  },
  {
   "cell_type": "markdown",
   "metadata": {},
   "source": [
    "# Docstring\n",
    "\n",
    "### The first statement in the body of a function is usually a string, which can be accessed with \n",
    "```\n",
    "functionname.__doc__   \n",
    "```"
   ]
  },
  {
   "cell_type": "code",
   "execution_count": 223,
   "metadata": {},
   "outputs": [
    {
     "data": {
      "text/plain": [
       "' Greet a person! '"
      ]
     },
     "execution_count": 223,
     "metadata": {},
     "output_type": "execute_result"
    }
   ],
   "source": [
    "def Hello():\n",
    "    \"\"\" Greet a person! \"\"\"\n",
    "\n",
    "Hello.__doc__"
   ]
  },
  {
   "cell_type": "code",
   "execution_count": 225,
   "metadata": {},
   "outputs": [],
   "source": [
    "def add_number(a, b):\n",
    "    \"\"\"adding numbers a and b  \n",
    "    \n",
    "    \"\"\""
   ]
  },
  {
   "cell_type": "code",
   "execution_count": 226,
   "metadata": {},
   "outputs": [
    {
     "data": {
      "text/plain": [
       "'adding numbers a and b  \\n    \\n    '"
      ]
     },
     "execution_count": 226,
     "metadata": {},
     "output_type": "execute_result"
    }
   ],
   "source": [
    "add_number.__doc__"
   ]
  },
  {
   "cell_type": "code",
   "execution_count": 215,
   "metadata": {},
   "outputs": [],
   "source": [
    "def function_with_types_in_docstring(param1, param2):\n",
    "    \"\"\"Example function with types documented in the docstring.\n",
    "\n",
    "    `PEP 484`_ type annotations are supported. If attribute, parameter, and\n",
    "    return types are annotated according to `PEP 484`_, they do not need to be\n",
    "    included in the docstring:\n",
    "\n",
    "    Args:\n",
    "        param1 (int): The first parameter.\n",
    "        param2 (str): The second parameter.\n",
    "\n",
    "    Returns:\n",
    "        bool: The return value. True for success, False otherwise.\n",
    "\n",
    "    .. _PEP 484:\n",
    "        https://www.python.org/dev/peps/pep-0484/\n",
    "\n",
    "    \"\"\""
   ]
  },
  {
   "cell_type": "code",
   "execution_count": 227,
   "metadata": {},
   "outputs": [
    {
     "data": {
      "text/plain": [
       "'Example function with types documented in the docstring.\\n\\n    `PEP 484`_ type annotations are supported. If attribute, parameter, and\\n    return types are annotated according to `PEP 484`_, they do not need to be\\n    included in the docstring:\\n\\n    Args:\\n        param1 (int): The first parameter.\\n        param2 (str): The second parameter.\\n\\n    Returns:\\n        bool: The return value. True for success, False otherwise.\\n\\n    .. _PEP 484:\\n        https://www.python.org/dev/peps/pep-0484/\\n\\n    '"
      ]
     },
     "execution_count": 227,
     "metadata": {},
     "output_type": "execute_result"
    }
   ],
   "source": [
    "function_with_types_in_docstring.__doc__"
   ]
  },
  {
   "cell_type": "code",
   "execution_count": 228,
   "metadata": {},
   "outputs": [
    {
     "name": "stdout",
     "output_type": "stream",
     "text": [
      "Example function with types documented in the docstring.\n",
      "\n",
      "    `PEP 484`_ type annotations are supported. If attribute, parameter, and\n",
      "    return types are annotated according to `PEP 484`_, they do not need to be\n",
      "    included in the docstring:\n",
      "\n",
      "    Args:\n",
      "        param1 (int): The first parameter.\n",
      "        param2 (str): The second parameter.\n",
      "\n",
      "    Returns:\n",
      "        bool: The return value. True for success, False otherwise.\n",
      "\n",
      "    .. _PEP 484:\n",
      "        https://www.python.org/dev/peps/pep-0484/\n",
      "\n",
      "    \n"
     ]
    }
   ],
   "source": [
    "print function_with_types_in_docstring.__doc__"
   ]
  },
  {
   "cell_type": "code",
   "execution_count": 230,
   "metadata": {},
   "outputs": [
    {
     "name": "stdout",
     "output_type": "stream",
     "text": [
      "Help on function function_with_types_in_docstring in module __main__:\n",
      "\n",
      "function_with_types_in_docstring(param1, param2)\n",
      "    Example function with types documented in the docstring.\n",
      "    \n",
      "    `PEP 484`_ type annotations are supported. If attribute, parameter, and\n",
      "    return types are annotated according to `PEP 484`_, they do not need to be\n",
      "    included in the docstring:\n",
      "    \n",
      "    Args:\n",
      "        param1 (int): The first parameter.\n",
      "        param2 (str): The second parameter.\n",
      "    \n",
      "    Returns:\n",
      "        bool: The return value. True for success, False otherwise.\n",
      "    \n",
      "    .. _PEP 484:\n",
      "        https://www.python.org/dev/peps/pep-0484/\n",
      "\n"
     ]
    }
   ],
   "source": [
    "help(function_with_types_in_docstring)"
   ]
  }
 ],
 "metadata": {
  "kernelspec": {
   "display_name": "Python 2",
   "language": "python",
   "name": "python2"
  },
  "language_info": {
   "codemirror_mode": {
    "name": "ipython",
    "version": 2
   },
   "file_extension": ".py",
   "mimetype": "text/x-python",
   "name": "python",
   "nbconvert_exporter": "python",
   "pygments_lexer": "ipython2",
   "version": "2.7.12"
  }
 },
 "nbformat": 4,
 "nbformat_minor": 2
}
