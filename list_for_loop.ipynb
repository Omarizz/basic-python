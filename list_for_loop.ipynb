{
  "nbformat": 4,
  "nbformat_minor": 0,
  "metadata": {
    "colab": {
      "name": "list-for-loop.ipynb",
      "version": "0.3.2",
      "provenance": []
    },
    "kernelspec": {
      "name": "python3",
      "display_name": "Python 3"
    }
  },
  "cells": [
    {
      "metadata": {
        "id": "M3Va3Aquqe00",
        "colab_type": "text"
      },
      "cell_type": "markdown",
      "source": [
        "# List  - ตัวแปรประเภท list\n",
        "* ข้อดีของ list คือสามารถเก็บตัวแปรได้หลายลักษณะ ไม่ว่าจะเป็น **int, float, str และ tuple** \n",
        "* ทำให้ list มีลักษณะการทำงานที่ยืดหยุ่นกว่าการเก็บข้อมูลแบบ **numpy array** ที่เก็บได้เฉพาะตัวเลขเท่านั้น"
      ]
    },
    {
      "metadata": {
        "id": "-SortqyOp93X",
        "colab_type": "code",
        "colab": {
          "base_uri": "https://localhost:8080/",
          "height": 34
        },
        "outputId": "f5ca7b44-bffa-48cf-a843-58b070bab451"
      },
      "cell_type": "code",
      "source": [
        "# list ชื่อ contact ใช้สำหรับเก็บข้อมูลแบบ string\n",
        "contact = ['olarik', 'marco', 'marvin']\n",
        "\n",
        "# ตรวจสอบประเภทของตัวแปร contact\n",
        "print(type(contact))"
      ],
      "execution_count": 1,
      "outputs": [
        {
          "output_type": "stream",
          "text": [
            "<class 'list'>\n"
          ],
          "name": "stdout"
        }
      ]
    },
    {
      "metadata": {
        "id": "-5yR3aEnrUYl",
        "colab_type": "code",
        "colab": {}
      },
      "cell_type": "code",
      "source": [
        "# list สามารถเก็บข้อมูลได้หลากหลายประเภท\n",
        "memo = ['olarik', '095xxxx', 40, 65.5]\n",
        "\n",
        "# 'olarik' คือข้อมูลประเภท string\n",
        "# '095xxxx' คือข้อมูลประเภท string\n",
        "# 40 คือข้อมูลประเภท integer\n",
        "# 65.5 คือข้อมูลประเภท floating point"
      ],
      "execution_count": 0,
      "outputs": []
    },
    {
      "metadata": {
        "id": "Cz7NJbrjsGq8",
        "colab_type": "text"
      },
      "cell_type": "markdown",
      "source": [
        "## ตรวจสอบประเภทข้อมูลที่อยู่ใน list\n",
        "หากต้องการที่จะตรวจสอบประเภทของข้อมูลที่อยู่ใน list ในแต่ละลำดับ (index) สามารถทำได้โดยอ้างอิงถึง index ของ list เช่น\n",
        "```\n",
        "memo[0]\n",
        "```\n",
        "*  **memo[0]**  หมายถึง เข้าถึงข้อมูลในตัวแปรชื่อ memo ในลำดับที่ 0 -- ในภาษาไพธอนลำดับ (index) จะเริ่มต้นที่  0"
      ]
    },
    {
      "metadata": {
        "id": "FgSyu1qjrmqq",
        "colab_type": "code",
        "colab": {
          "base_uri": "https://localhost:8080/",
          "height": 34
        },
        "outputId": "f82dc0ae-f1b2-4104-8696-f194e0b1f4e0"
      },
      "cell_type": "code",
      "source": [
        "memo[0]"
      ],
      "execution_count": 4,
      "outputs": [
        {
          "output_type": "execute_result",
          "data": {
            "text/plain": [
              "'olarik'"
            ]
          },
          "metadata": {
            "tags": []
          },
          "execution_count": 4
        }
      ]
    },
    {
      "metadata": {
        "id": "ek_co1uttyP6",
        "colab_type": "text"
      },
      "cell_type": "markdown",
      "source": [
        "ดังนั้น สามารถใช้คำสั่ง ```type()``` เพื่อตรวจสอบประเภทของข้อมูลใน list ได้ดังนี้"
      ]
    },
    {
      "metadata": {
        "id": "viaN7pKjtvBG",
        "colab_type": "code",
        "colab": {
          "base_uri": "https://localhost:8080/",
          "height": 85
        },
        "outputId": "5a25aa16-5116-48e1-f105-808df41422a0"
      },
      "cell_type": "code",
      "source": [
        "print(\"memo[0]\", type(memo[0]))\n",
        "print(\"memo[1]\", type(memo[1]))\n",
        "print(\"memo[2]\", type(memo[2]))\n",
        "print(\"memo[3]\", type(memo[3]))"
      ],
      "execution_count": 5,
      "outputs": [
        {
          "output_type": "stream",
          "text": [
            "memo[0] <class 'str'>\n",
            "memo[1] <class 'str'>\n",
            "memo[2] <class 'int'>\n",
            "memo[3] <class 'float'>\n"
          ],
          "name": "stdout"
        }
      ]
    },
    {
      "metadata": {
        "id": "Gq2h-vuIB-WW",
        "colab_type": "text"
      },
      "cell_type": "markdown",
      "source": [
        "## การเข้าถึงข้อมูลที่อยู่ใน list \n",
        "* การเข้าถึงข้อมูลที่อยู่ใน list จะใช้ลำดับ (index)ในการเข้าถึง \n",
        "* สามารถใช้ for-loop ในการแสดงผลข้อมูลที่อยู่ใน list ดังนี้"
      ]
    },
    {
      "metadata": {
        "id": "_ebZVHCFuDcr",
        "colab_type": "code",
        "colab": {
          "base_uri": "https://localhost:8080/",
          "height": 68
        },
        "outputId": "c2b134ed-a387-4b20-bded-d784227285a4"
      },
      "cell_type": "code",
      "source": [
        "contact = ['olarik', 'marco', 'marvin']\n",
        "\n",
        "# การใช้ for แบบที่ 1\n",
        "# กรณีนี้ใช้ idex ในการเข้าถึงข้อมูลที่อยู่ใน list\n",
        "for idx in range(len(contact)):\n",
        "  print(\"index:\", idx, \"value:\", contact[idx])"
      ],
      "execution_count": 5,
      "outputs": [
        {
          "output_type": "stream",
          "text": [
            "index: 0 value: olarik\n",
            "index: 1 value: marco\n",
            "index: 2 value: marvin\n"
          ],
          "name": "stdout"
        }
      ]
    },
    {
      "metadata": {
        "id": "oL5v-_TrCoDk",
        "colab_type": "code",
        "colab": {
          "base_uri": "https://localhost:8080/",
          "height": 68
        },
        "outputId": "ada87536-a452-43ed-bace-3569185a3dae"
      },
      "cell_type": "code",
      "source": [
        "# การใช้ for แบบที่ 2\n",
        "# กรณีนี้ใช้ตัวแปร name เพื่อวนรอบแสดงข้อมูลที่อยู่ในตัวแปร list\n",
        "for name in contact:\n",
        "  print(\"value:\", name)"
      ],
      "execution_count": 7,
      "outputs": [
        {
          "output_type": "stream",
          "text": [
            "value: olarik\n",
            "value: marco\n",
            "value: marvin\n"
          ],
          "name": "stdout"
        }
      ]
    }
  ]
}