{
 "cells": [
  {
   "cell_type": "markdown",
   "metadata": {},
   "source": [
    "# String"
   ]
  },
  {
   "cell_type": "code",
   "execution_count": 258,
   "metadata": {},
   "outputs": [
    {
     "name": "stdout",
     "output_type": "stream",
     "text": [
      "Last Checkpoint: a few seconds ago (unsaved changes)\n"
     ]
    }
   ],
   "source": [
    "str1 = 'Last Checkpoint: a few seconds ago (unsaved changes)'\n",
    "\n",
    "print str1"
   ]
  },
  {
   "cell_type": "code",
   "execution_count": 260,
   "metadata": {},
   "outputs": [
    {
     "name": "stdout",
     "output_type": "stream",
     "text": [
      "list:  ['Last', 'Checkpoint:', 'a', 'few', 'seconds', 'ago', '(unsaved', 'changes)']\n",
      "list[0]:  Last\n",
      "list[1]:  Checkpoint:\n",
      "type:  <type 'list'>\n",
      "size/len:  8\n"
     ]
    }
   ],
   "source": [
    "# split string according to space\n",
    "str1 = 'Last Checkpoint: a few seconds ago (unsaved changes)'\n",
    "tmp_str = str1.split(' ')\n",
    "\n",
    "print 'list: ', tmp_str\n",
    "print 'list[0]: ', tmp_str[0]\n",
    "print 'list[1]: ', tmp_str[1]\n",
    "print 'type: ', type(tmp_str)\n",
    "print 'size/len: ', len(tmp_str)"
   ]
  },
  {
   "cell_type": "code",
   "execution_count": 261,
   "metadata": {},
   "outputs": [
    {
     "name": "stdout",
     "output_type": "stream",
     "text": [
      "list:  ['Last Checkpoint', ' a few seconds ago (unsaved changes)']\n",
      "list[0]:  Last Checkpoint\n",
      "list[1]:   a few seconds ago (unsaved changes)\n",
      "type:  <type 'list'>\n",
      "size:  2\n"
     ]
    }
   ],
   "source": [
    "str1 = 'Last Checkpoint: a few seconds ago (unsaved changes)'\n",
    "tmp_str = str1.split(':')\n",
    "\n",
    "print 'list: ', tmp_str\n",
    "print 'list[0]: ', tmp_str[0]\n",
    "print 'list[1]: ', tmp_str[1]\n",
    "print 'type: ', type(tmp_str)\n",
    "print 'size: ', len(tmp_str)"
   ]
  },
  {
   "cell_type": "code",
   "execution_count": 262,
   "metadata": {},
   "outputs": [
    {
     "name": "stdout",
     "output_type": "stream",
     "text": [
      " a few seconds ago (unsaved changes)\n",
      "a few seconds ago (unsaved changes)\n"
     ]
    }
   ],
   "source": [
    "print tmp_str[1]\n",
    "print tmp_str[1].strip()"
   ]
  },
  {
   "cell_type": "code",
   "execution_count": 263,
   "metadata": {},
   "outputs": [
    {
     "data": {
      "text/plain": [
       "'helloworld!!!'"
      ]
     },
     "execution_count": 263,
     "metadata": {},
     "output_type": "execute_result"
    }
   ],
   "source": [
    "sentence = ' hello  world !!!'\n",
    "sentence.replace(\" \", \"\")\n"
   ]
  },
  {
   "cell_type": "code",
   "execution_count": 264,
   "metadata": {},
   "outputs": [
    {
     "name": "stdout",
     "output_type": "stream",
     "text": [
      "helloworld!!!\n"
     ]
    }
   ],
   "source": [
    "import re\n",
    "\n",
    "sentence = '   hello   world    !!!'\n",
    "pattern = re.compile(r'\\s+')\n",
    "sentence = re.sub(pattern, '', sentence)\n",
    "\n",
    "print sentence"
   ]
  },
  {
   "cell_type": "code",
   "execution_count": 265,
   "metadata": {},
   "outputs": [
    {
     "name": "stdout",
     "output_type": "stream",
     "text": [
      "hello world !!!\n"
     ]
    }
   ],
   "source": [
    "sentence = '   hello   world    !!!'\n",
    "sentence = \" \".join(sentence.split())\n",
    "\n",
    "print sentence"
   ]
  },
  {
   "cell_type": "code",
   "execution_count": 266,
   "metadata": {},
   "outputs": [
    {
     "name": "stdout",
     "output_type": "stream",
     "text": [
      "hello world !!!\n"
     ]
    }
   ],
   "source": [
    "sentence = '   hello   world    !!!'\n",
    " \n",
    "sentence = sentence.strip('hello')\n",
    "sentence = sentence.strip(' ')\n",
    "sentence = \" \".join(sentence.split())\n",
    "print sentence"
   ]
  },
  {
   "cell_type": "markdown",
   "metadata": {
    "collapsed": true
   },
   "source": [
    "# os.path"
   ]
  },
  {
   "cell_type": "code",
   "execution_count": 267,
   "metadata": {},
   "outputs": [
    {
     "name": "stdout",
     "output_type": "stream",
     "text": [
      "False\n",
      "True\n"
     ]
    }
   ],
   "source": [
    "import os\n",
    "\n",
    "# return False if file is not exists\n",
    "print os.path.exists('text.txt')\n",
    "\n",
    "# return True if file is exists\n",
    "print os.path.exists('test.txt')"
   ]
  },
  {
   "cell_type": "code",
   "execution_count": 268,
   "metadata": {},
   "outputs": [
    {
     "name": "stdout",
     "output_type": "stream",
     "text": [
      "file path: /home/mrolarik/Dropbox/course-syllabus/python/test.txt\n"
     ]
    }
   ],
   "source": [
    "if(os.path.exists('test.txt')):\n",
    "    print 'file path:', os.path.abspath('test.txt')\n",
    "else:\n",
    "    print 'file is not exists'"
   ]
  },
  {
   "cell_type": "code",
   "execution_count": 269,
   "metadata": {},
   "outputs": [
    {
     "data": {
      "text/plain": [
       "'home/mrolarik/Dropbox/tmp.txt'"
      ]
     },
     "execution_count": 269,
     "metadata": {},
     "output_type": "execute_result"
    }
   ],
   "source": [
    "os.path.join('home','mrolarik','Dropbox','tmp.txt')"
   ]
  },
  {
   "cell_type": "markdown",
   "metadata": {},
   "source": [
    "# Path component manipulation"
   ]
  },
  {
   "cell_type": "code",
   "execution_count": 270,
   "metadata": {},
   "outputs": [
    {
     "name": "stdout",
     "output_type": "stream",
     "text": [
      "/home/mrolarik/Dropbox/course-syllabus/python/test.txt\n",
      "/home/mrolarik/Dropbox/course-syllabus/python/test.txt\n"
     ]
    }
   ],
   "source": [
    "# get the parent directory\n",
    "print os.path.join(os.getcwd(),'test.txt')\n",
    "print os.path.abspath('test.txt')"
   ]
  },
  {
   "cell_type": "code",
   "execution_count": 271,
   "metadata": {},
   "outputs": [
    {
     "name": "stdout",
     "output_type": "stream",
     "text": [
      "directory name:  /home/mrolarik/Dropbox/course-syllabus/python\n",
      "base name:  test.txt\n"
     ]
    }
   ],
   "source": [
    "p = os.path.abspath('test.txt')\n",
    "\n",
    "print 'directory name: ', os.path.dirname(p)\n",
    "print 'base name: ', os.path.basename(p)"
   ]
  },
  {
   "cell_type": "code",
   "execution_count": 272,
   "metadata": {},
   "outputs": [
    {
     "name": "stdout",
     "output_type": "stream",
     "text": [
      "split dirname and basename:  ('/home/mrolarik/Dropbox/course-syllabus/python', 'test.txt')\n"
     ]
    }
   ],
   "source": [
    "p = os.path.abspath('test.txt')\n",
    "\n",
    "print 'split dirname and basename: ', os.path.split(p)"
   ]
  },
  {
   "cell_type": "code",
   "execution_count": 273,
   "metadata": {},
   "outputs": [
    {
     "data": {
      "text/plain": [
       "('test', '.txt')"
      ]
     },
     "execution_count": 273,
     "metadata": {},
     "output_type": "execute_result"
    }
   ],
   "source": [
    "# split extension from filename\n",
    "os.path.splitext(os.path.basename(p))"
   ]
  },
  {
   "cell_type": "markdown",
   "metadata": {},
   "source": [
    "# Split string"
   ]
  },
  {
   "cell_type": "code",
   "execution_count": 274,
   "metadata": {},
   "outputs": [
    {
     "data": {
      "text/plain": [
       "['', 'home', 'mrolarik', 'Dropbox', 'course-syllabus', 'python', 'test.txt']"
      ]
     },
     "execution_count": 274,
     "metadata": {},
     "output_type": "execute_result"
    }
   ],
   "source": [
    "p = os.path.abspath('test.txt')\n",
    "p.split('/')"
   ]
  },
  {
   "cell_type": "code",
   "execution_count": 275,
   "metadata": {},
   "outputs": [
    {
     "name": "stdout",
     "output_type": "stream",
     "text": [
      "True\n",
      "False\n"
     ]
    }
   ],
   "source": [
    "# string operator\n",
    "\n",
    "text = 'String Formatting Operator'\n",
    "\n",
    "print 'String' in text\n",
    "print 'String' not in text"
   ]
  },
  {
   "cell_type": "code",
   "execution_count": 276,
   "metadata": {},
   "outputs": [
    {
     "name": "stdout",
     "output_type": "stream",
     "text": [
      " \n",
      "\n",
      "Function: search_string\n",
      "Usage: result = search_string(txt, search)\n",
      "\ttxt \t short sentence, for example,  txt = 'this is a long string'\n",
      "\tsearch \t word that want to search from the sentence, search = 'string' \n",
      "\tresult \t return TRUE if the search word is found and FALSE if the search word is not found\n",
      "\n",
      "\n"
     ]
    }
   ],
   "source": [
    "para_str = ''' \n",
    "\n",
    "Function: search_string\n",
    "Usage: result = search_string(txt, search)\n",
    "\\ttxt \\t short sentence, for example,  txt = 'this is a long string'\n",
    "\\tsearch \\t word that want to search from the sentence, search = 'string' \n",
    "\\tresult \\t return TRUE if the search word is found and FALSE if the search word is not found\n",
    "\n",
    "'''\n",
    "\n",
    "print para_str"
   ]
  },
  {
   "cell_type": "code",
   "execution_count": 277,
   "metadata": {},
   "outputs": [
    {
     "name": "stdout",
     "output_type": "stream",
     "text": [
      "count: 's' 12\n",
      "count: you 2\n"
     ]
    }
   ],
   "source": [
    "string = 'As you can see, the first thing you learned was printing a simple sentence. \\\n",
    "          This sentence was stored by Python as a string.'\n",
    "sub_string = 'you'\n",
    "\n",
    "print 'count: \\'s\\'', string.count('s')\n",
    "print 'count:', sub_string, string.count(sub_string)"
   ]
  },
  {
   "cell_type": "code",
   "execution_count": 278,
   "metadata": {},
   "outputs": [
    {
     "name": "stdout",
     "output_type": "stream",
     "text": [
      "index: 11\n",
      "index: 8\n",
      "\n",
      "index 11\n",
      "index 8\n"
     ]
    }
   ],
   "source": [
    "#find - return index of find string\n",
    "string = 'As you can see, the first thing you learned was printing a simple sentence. \\\n",
    "          This sentence was stored by Python as a string.'\n",
    "\n",
    "print 'index:', string.find('see')\n",
    "print 'index:', string.find('a')\n",
    "print\n",
    "\n",
    "print 'index', string.index('see')\n",
    "print 'index', string.index('a')"
   ]
  },
  {
   "cell_type": "code",
   "execution_count": 279,
   "metadata": {},
   "outputs": [
    {
     "name": "stdout",
     "output_type": "stream",
     "text": [
      "uppercase\n",
      "AS YOU CAN SEE, THE FIRST THING YOU LEARNED WAS PRINTING A SIMPLE SENTENCE.           THIS SENTENCE WAS STORED BY PYTHON AS A STRING.\n",
      "\n",
      "lowercase\n",
      "as you can see, the first thing you learned was printing a simple sentence.           this sentence was stored by python as a string.\n",
      "\n",
      "swapcase\n",
      "aS YOU CAN SEE, THE FIRST THING YOU LEARNED WAS PRINTING A SIMPLE SENTENCE.           tHIS SENTENCE WAS STORED BY pYTHON AS A STRING.\n"
     ]
    }
   ],
   "source": [
    "print 'uppercase\\n', string.upper()\n",
    "print '\\nlowercase\\n', string.lower()\n",
    "print '\\nswapcase\\n', string.swapcase()"
   ]
  },
  {
   "cell_type": "code",
   "execution_count": 280,
   "metadata": {},
   "outputs": [
    {
     "name": "stdout",
     "output_type": "stream",
     "text": [
      "capitalize\n",
      "As you can see, the first thing you learned was printing a simple sentence.\n"
     ]
    }
   ],
   "source": [
    "string = 'as you can see, the first thing you learned was printing a simple sentence.'\n",
    "print 'capitalize\\n', string.capitalize()"
   ]
  },
  {
   "cell_type": "code",
   "execution_count": 281,
   "metadata": {},
   "outputs": [
    {
     "name": "stdout",
     "output_type": "stream",
     "text": [
      "True\n",
      "False\n"
     ]
    }
   ],
   "source": [
    "string = '10124'\n",
    "print string.isdigit()\n",
    "\n",
    "string = '10.124'\n",
    "print string.isdigit()"
   ]
  },
  {
   "cell_type": "code",
   "execution_count": 282,
   "metadata": {},
   "outputs": [
    {
     "name": "stdout",
     "output_type": "stream",
     "text": [
      "140160836596192\n",
      "140160836597152\n"
     ]
    }
   ],
   "source": [
    "string = 'abcd'\n",
    "print id(string)\n",
    "\n",
    "string = 'abcdef'\n",
    "print id(string)"
   ]
  },
  {
   "cell_type": "code",
   "execution_count": 283,
   "metadata": {},
   "outputs": [
    {
     "name": "stdout",
     "output_type": "stream",
     "text": [
      "olarik surinta\n"
     ]
    }
   ],
   "source": [
    "str1 = 'olarik '\n",
    "str2 = 'surinta'\n",
    "\n",
    "print str1+str2"
   ]
  },
  {
   "cell_type": "code",
   "execution_count": 284,
   "metadata": {},
   "outputs": [
    {
     "name": "stdout",
     "output_type": "stream",
     "text": [
      "olarik surinta\n"
     ]
    }
   ],
   "source": [
    "str = 'olarik '\n",
    "str += 'surinta'\n",
    "\n",
    "print str"
   ]
  },
  {
   "cell_type": "code",
   "execution_count": 285,
   "metadata": {},
   "outputs": [
    {
     "name": "stdout",
     "output_type": "stream",
     "text": [
      "len 6\n",
      "max r\n",
      "min a\n"
     ]
    }
   ],
   "source": [
    "str = 'olarik'\n",
    "\n",
    "print 'len', len(str)\n",
    "print 'max', max(str)\n",
    "print 'min', min(str)"
   ]
  },
  {
   "cell_type": "markdown",
   "metadata": {},
   "source": [
    "# String comparison"
   ]
  },
  {
   "cell_type": "code",
   "execution_count": 286,
   "metadata": {},
   "outputs": [
    {
     "name": "stdout",
     "output_type": "stream",
     "text": [
      "False\n",
      "True\n",
      "\n",
      "False\n",
      "True\n",
      "False\n"
     ]
    }
   ],
   "source": [
    "print 'Olarik' == 'olarik'\n",
    "print 'Olarik' != 'olarik'\n",
    "print\n",
    "\n",
    "print 'a' > 'b'\n",
    "print 'ad' > 'ac'\n",
    "print 'adeee' > 'aea'"
   ]
  },
  {
   "cell_type": "code",
   "execution_count": 287,
   "metadata": {},
   "outputs": [
    {
     "name": "stdout",
     "output_type": "stream",
     "text": [
      "startswith True\n",
      "endswith True\n"
     ]
    }
   ],
   "source": [
    "string = 'As you can see, the first thing you learned was printing a simple sentence'\n",
    "\n",
    "print 'startswith', string.startswith('As')\n",
    "print 'endswith', string.endswith('sentence')\n"
   ]
  },
  {
   "cell_type": "code",
   "execution_count": 288,
   "metadata": {},
   "outputs": [
    {
     "name": "stdout",
     "output_type": "stream",
     "text": [
      "index of The 16\n",
      "index of the 75\n"
     ]
    },
    {
     "data": {
      "text/plain": [
       "16"
      ]
     },
     "execution_count": 288,
     "metadata": {},
     "output_type": "execute_result"
    }
   ],
   "source": [
    "string = 'As you can see. The first thing you learned was printing a simple sentence the'\n",
    "\n",
    "# return index of 'The'\n",
    "print 'index of The', string.find('The')\n",
    "\n",
    "# return index -1 if not found\n",
    "print 'index of the', string.find('the')\n",
    "\n",
    "string.lower().find('the')"
   ]
  },
  {
   "cell_type": "markdown",
   "metadata": {},
   "source": [
    "# Finding multiple occurrences of a string"
   ]
  },
  {
   "cell_type": "code",
   "execution_count": 289,
   "metadata": {},
   "outputs": [
    {
     "name": "stdout",
     "output_type": "stream",
     "text": [
      "the - found from index 16 to 19 : The or the\n",
      "the - found from index 75 to 78 : the or the\n"
     ]
    }
   ],
   "source": [
    "import re\n",
    "\n",
    "text = 'As you can see. The first thing you learned was printing a simple sentence the'\n",
    "search = 'the'\n",
    "\n",
    "for m in re.finditer(search.lower(), text.lower()):\n",
    "    print search, '- found from index', m.start(), 'to', m.end(), ':', text[m.start():m.end()], 'or', m.group()"
   ]
  },
  {
   "cell_type": "code",
   "execution_count": 290,
   "metadata": {},
   "outputs": [
    {
     "name": "stdout",
     "output_type": "stream",
     "text": [
      "['As', 'you', 'can', 'see.', 'The', 'first', 'thing', 'you', 'learned', 'was', 'printing', 'a', 'simple', 'sentence', 'the']\n",
      "\n",
      "4 the\n",
      "14 the\n"
     ]
    }
   ],
   "source": [
    "text = 'As you can see. The first thing you learned was printing a simple sentence the'\n",
    "search = 'The'\n",
    "\n",
    "print text.split(' ')\n",
    "print \n",
    "\n",
    "for idx, value in enumerate(text.lower().split(' ')):\n",
    "    if search.lower() in value:\n",
    "        print idx, value"
   ]
  },
  {
   "cell_type": "markdown",
   "metadata": {},
   "source": [
    "# Examples"
   ]
  },
  {
   "cell_type": "code",
   "execution_count": 6,
   "metadata": {},
   "outputs": [
    {
     "name": "stdout",
     "output_type": "stream",
     "text": [
      "str =  Hello World!!\n",
      "str[0] H\n",
      "str[-1] !\n",
      "str[0:6] Hello \n"
     ]
    }
   ],
   "source": [
    "# Access characters in a string\n",
    "str = 'Hello World!!'\n",
    "\n",
    "print 'str = ', str\n",
    "print 'str[0]', str[0]\n",
    "print 'str[-1]', str[-1]\n",
    "print 'str[0:6]', str[0:6]"
   ]
  },
  {
   "cell_type": "code",
   "execution_count": 11,
   "metadata": {},
   "outputs": [
    {
     "name": "stdout",
     "output_type": "stream",
     "text": [
      " count = "
     ]
    },
    {
     "ename": "TypeError",
     "evalue": "count() takes at least 1 argument (0 given)",
     "output_type": "error",
     "traceback": [
      "\u001b[0;31m---------------------------------------------------------------------------\u001b[0m",
      "\u001b[0;31mTypeError\u001b[0m                                 Traceback (most recent call last)",
      "\u001b[0;32m<ipython-input-11-6b98bd027ba3>\u001b[0m in \u001b[0;36m<module>\u001b[0;34m()\u001b[0m\n\u001b[1;32m      1\u001b[0m \u001b[0;31m# count character in a string\u001b[0m\u001b[0;34m\u001b[0m\u001b[0;34m\u001b[0m\u001b[0m\n\u001b[1;32m      2\u001b[0m \u001b[0;34m\u001b[0m\u001b[0m\n\u001b[0;32m----> 3\u001b[0;31m \u001b[0;32mprint\u001b[0m \u001b[0;34m'count = '\u001b[0m\u001b[0;34m,\u001b[0m \u001b[0mstr\u001b[0m\u001b[0;34m.\u001b[0m\u001b[0mcount\u001b[0m\u001b[0;34m(\u001b[0m\u001b[0;34m)\u001b[0m\u001b[0;34m\u001b[0m\u001b[0m\n\u001b[0m",
      "\u001b[0;31mTypeError\u001b[0m: count() takes at least 1 argument (0 given)"
     ]
    }
   ],
   "source": [
    "# count character in a string\n",
    "\n",
    "print 'count = ', str.count()"
   ]
  },
  {
   "cell_type": "code",
   "execution_count": 12,
   "metadata": {},
   "outputs": [
    {
     "name": "stdout",
     "output_type": "stream",
     "text": [
      " count/len = 13\n"
     ]
    }
   ],
   "source": [
    "print 'count/len =', len(str)"
   ]
  },
  {
   "cell_type": "code",
   "execution_count": 21,
   "metadata": {},
   "outputs": [
    {
     "name": "stdout",
     "output_type": "stream",
     "text": [
      "list(enumerate(str))\n",
      "[(0, 'H'), (1, 'e'), (2, 'l'), (3, 'l'), (4, 'o'), (5, ' '), (6, 'W'), (7, 'o'), (8, 'r'), (9, 'l'), (10, 'd'), (11, '!'), (12, '!')]\n",
      "\n",
      "(0, 'H')\n",
      "(1, 'e')\n",
      "(2, 'l')\n",
      "(3, 'l')\n",
      "(4, 'o')\n",
      "(5, ' ')\n",
      "(6, 'W')\n",
      "(7, 'o')\n",
      "(8, 'r')\n",
      "(9, 'l')\n",
      "(10, 'd')\n",
      "(11, '!')\n",
      "(12, '!')\n"
     ]
    }
   ],
   "source": [
    "# The enumerate() function returns an enumerate object.\n",
    "# It contains the index and value of all the items in the string as pairs.\n",
    "print 'list(enumerate(str))\\n', list(enumerate(str))\n",
    "print\n",
    "\n",
    "for st in enumerate(str):\n",
    "    print st"
   ]
  },
  {
   "cell_type": "code",
   "execution_count": 50,
   "metadata": {},
   "outputs": [
    {
     "name": "stdout",
     "output_type": "stream",
     "text": [
      "True\n",
      "False\n",
      "\n",
      "True\n"
     ]
    }
   ],
   "source": [
    "# String membership\n",
    "\n",
    "print 'p' in 'program'\n",
    "print 'P' in 'program'\n",
    "print\n",
    "\n",
    "print 'P' in 'program'.upper()"
   ]
  },
  {
   "cell_type": "code",
   "execution_count": 11,
   "metadata": {},
   "outputs": [
    {
     "name": "stdout",
     "output_type": "stream",
     "text": [
      "37\n"
     ]
    }
   ],
   "source": [
    "# index\n",
    "string = 'Various built-in functions that work with sequence, works with string as well.'\n",
    "search_string = 'with'\n",
    "\n",
    "try:\n",
    "    search_string in string   \n",
    "    if True:\n",
    "        print string.index(search_string)\n",
    "        \n",
    "except ValueError:\n",
    "    print 'None of search string'"
   ]
  },
  {
   "cell_type": "code",
   "execution_count": 14,
   "metadata": {},
   "outputs": [
    {
     "name": "stdout",
     "output_type": "stream",
     "text": [
      "Index of with is 37\n"
     ]
    }
   ],
   "source": [
    "# index\n",
    "string = 'Various built-in functions that work with sequence, works with string as well.'\n",
    "search_string = 'with'\n",
    "\n",
    "if(search_string in string):\n",
    "    print 'Index of', search_string, 'is', string.index(search_string)\n",
    "else:\n",
    "    print 'None of search string'"
   ]
  },
  {
   "cell_type": "code",
   "execution_count": 17,
   "metadata": {},
   "outputs": [
    {
     "data": {
      "text/plain": [
       "2"
      ]
     },
     "execution_count": 17,
     "metadata": {},
     "output_type": "execute_result"
    }
   ],
   "source": [
    "string.count('with')"
   ]
  },
  {
   "cell_type": "code",
   "execution_count": 24,
   "metadata": {},
   "outputs": [
    {
     "name": "stdout",
     "output_type": "stream",
     "text": [
      "4 work\n",
      "7 works\n"
     ]
    }
   ],
   "source": [
    "string = 'Various built-in functions that work with sequence, works with string as well.'\n",
    "search_string = 'work'\n",
    "\n",
    "for idx, value in enumerate(string.lower().split(' ')):\n",
    "    if search_string.lower() in value:\n",
    "        print idx, value\n",
    "                "
   ]
  },
  {
   "cell_type": "code",
   "execution_count": 26,
   "metadata": {},
   "outputs": [
    {
     "name": "stdout",
     "output_type": "stream",
     "text": [
      "[1, 2, 3, 5, 6, 7, 8]\n"
     ]
    }
   ],
   "source": [
    "# Remove duplicates in list\n",
    "\n",
    "t = [1, 2, 3, 1, 2, 5, 6, 7, 8]\n",
    "\n",
    "s = []\n",
    "for i in t:\n",
    "   if i not in s:\n",
    "      s.append(i)\n",
    "        \n",
    "print s"
   ]
  },
  {
   "cell_type": "code",
   "execution_count": 32,
   "metadata": {},
   "outputs": [
    {
     "data": {
      "text/plain": [
       "[1, 2, 3, 5, 6, 7, 8]"
      ]
     },
     "execution_count": 32,
     "metadata": {},
     "output_type": "execute_result"
    }
   ],
   "source": [
    "t = [1, 2, 3, 1, 2, 5, 6, 7, 8]\n",
    "\n",
    "dict.fromkeys(t).keys()"
   ]
  },
  {
   "cell_type": "code",
   "execution_count": 33,
   "metadata": {},
   "outputs": [
    {
     "data": {
      "text/plain": [
       "[1, 2, 3, 5, 6, 7, 8]"
      ]
     },
     "execution_count": 33,
     "metadata": {},
     "output_type": "execute_result"
    }
   ],
   "source": [
    "list(dict.fromkeys(t))"
   ]
  },
  {
   "cell_type": "code",
   "execution_count": 37,
   "metadata": {},
   "outputs": [
    {
     "data": {
      "text/plain": [
       "{1, 2, 3, 5, 6, 7, 8}"
      ]
     },
     "execution_count": 37,
     "metadata": {},
     "output_type": "execute_result"
    }
   ],
   "source": [
    "# set\n",
    "t = [1, 2, 3, 1, 2, 5, 6, 7, 8]\n",
    "\n",
    "set(t)"
   ]
  },
  {
   "cell_type": "markdown",
   "metadata": {},
   "source": [
    "## Format"
   ]
  },
  {
   "cell_type": "code",
   "execution_count": 33,
   "metadata": {},
   "outputs": [
    {
     "name": "stdout",
     "output_type": "stream",
     "text": [
      "My name is olarik surinta\n",
      "My name is olarik surinta\n",
      "\n",
      "My name is olarik surinta\n",
      "My name is olarik surinta\n"
     ]
    }
   ],
   "source": [
    "name_list = ['olarik', 'surinta']\n",
    "\n",
    "print('My name is %s %s'%(name_list[0], name_list[1]))\n",
    "print 'My name is %s %s'%(name_list[0], name_list[1])\n",
    "print\n",
    "\n",
    "# format\n",
    "print('My name is {} {}'.format(name_list[0], name_list[1]))\n",
    "print 'My name is {} {}'.format(name_list[0], name_list[1])"
   ]
  },
  {
   "cell_type": "code",
   "execution_count": 44,
   "metadata": {},
   "outputs": [
    {
     "name": "stdout",
     "output_type": "stream",
     "text": [
      "First number: 1, Second number: 24, Third number: 45145421\n",
      "First number: 1.245121, Second number: 24.000000, Third number: 45145421.001014\n",
      "First number: 1.245, Second number: 24, Third number: 45145421.0010144\n",
      "\n",
      "First number: 1.24512101, Second number: 24, Third number: 45145421.001\n"
     ]
    }
   ],
   "source": [
    "value_list = [1.24512101, 24, 45145421.001014451]\n",
    "\n",
    "print('First number: %d, Second number: %d, Third number: %d'%(value_list[0],value_list[1],value_list[2]))\n",
    "print('First number: %f, Second number: %f, Third number: %f'%(value_list[0],value_list[1],value_list[2]))\n",
    "print('First number: %.3f, Second number: %d, Third number: %.7f'%(value_list[0],value_list[1],value_list[2]))\n",
    "print\n",
    "\n",
    "# format\n",
    "print('First number: {}, Second number: {}, Third number: {}'.format(value_list[0],value_list[1],value_list[2]))"
   ]
  }
 ],
 "metadata": {
  "kernelspec": {
   "display_name": "Python 2",
   "language": "python",
   "name": "python2"
  },
  "language_info": {
   "codemirror_mode": {
    "name": "ipython",
    "version": 2
   },
   "file_extension": ".py",
   "mimetype": "text/x-python",
   "name": "python",
   "nbconvert_exporter": "python",
   "pygments_lexer": "ipython2",
   "version": "2.7.12"
  }
 },
 "nbformat": 4,
 "nbformat_minor": 2
}
