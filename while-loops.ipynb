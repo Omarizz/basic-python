{
 "cells": [
  {
   "cell_type": "markdown",
   "metadata": {},
   "source": [
    "# While Loops"
   ]
  },
  {
   "cell_type": "code",
   "execution_count": 32,
   "metadata": {},
   "outputs": [
    {
     "name": "stdout",
     "output_type": "stream",
     "text": [
      "Count: 0\n",
      "Count: 1\n",
      "Count: 2\n",
      "Count: 3\n",
      "Count: 4\n",
      "Count: 5\n",
      "Count: 6\n",
      "Count: 7\n",
      "Count: 8\n",
      "Count: 9\n"
     ]
    }
   ],
   "source": [
    "cnt = 0\n",
    "mx = 10\n",
    "\n",
    "while(cnt < mx):\n",
    "    print 'Count:',cnt\n",
    "    cnt += 1"
   ]
  },
  {
   "cell_type": "code",
   "execution_count": 33,
   "metadata": {},
   "outputs": [
    {
     "name": "stdout",
     "output_type": "stream",
     "text": [
      "Input room temperature: 22\n",
      "Comfortable room temperature : 22.0\n"
     ]
    }
   ],
   "source": [
    "try:\n",
    "    temp = float(input('Input room temperature: '))\n",
    "    if(temp >= 20 and temp <= 28):\n",
    "        print 'Comfortable room temperature :', temp\n",
    "    else:\n",
    "        print 'Uncomfortable temperature!!'\n",
    "    \n",
    "except:\n",
    "    print 'Type Error!!'"
   ]
  },
  {
   "cell_type": "code",
   "execution_count": 29,
   "metadata": {},
   "outputs": [
    {
     "name": "stdout",
     "output_type": "stream",
     "text": [
      "Press y if you want to enter more names: y\n",
      "New names: olarik\n",
      "Press y if you want to enter more names: n\n",
      "\n",
      "Your name lists: \n",
      "olarik\n"
     ]
    }
   ],
   "source": [
    "names = list()\n",
    "answer = raw_input('Press y if you want to enter more names: ')\n",
    "\n",
    "while answer == 'y':\n",
    "    name = raw_input('New names: ')\n",
    "    names.append(name)\n",
    "    answer = raw_input('Press y if you want to enter more names: ')\n",
    "    \n",
    "print('\\nYour name lists: ')\n",
    "for name in names:\n",
    "    print(name)"
   ]
  },
  {
   "cell_type": "code",
   "execution_count": 5,
   "metadata": {},
   "outputs": [
    {
     "name": "stdout",
     "output_type": "stream",
     "text": [
      "Press y if you want to enter more names or n if you want to exit program: y\n",
      "New names: olarik\n",
      "Press y if you want to enter more names: y\n",
      "New names: orarak\n",
      "Press y if you want to enter more names: n\n",
      "Exit Program, Thank you!!\n",
      "\n",
      "Your name lists: \n",
      "olarik\n",
      "orarak\n"
     ]
    }
   ],
   "source": [
    "names = list()\n",
    "answer = raw_input('Press y if you want to enter more names or n if you want to exit program: ')\n",
    "\n",
    "if answer == 'n':\n",
    "    print 'Exit Program, Thank you!!'\n",
    "else:\n",
    "    while answer == 'y':\n",
    "        name = raw_input('New names: ')\n",
    "        names.append(name)\n",
    "        answer = raw_input('Press y if you want to enter more names: ')\n",
    "        if answer == 'n':\n",
    "            print 'Exit Program, Thank you!!'\n",
    "    \n",
    "    print('\\nYour name lists: ')\n",
    "    for name in names:\n",
    "        print(name)"
   ]
  },
  {
   "cell_type": "markdown",
   "metadata": {},
   "source": [
    "## Infinite Loop & using else statement with loops"
   ]
  },
  {
   "cell_type": "code",
   "execution_count": 29,
   "metadata": {},
   "outputs": [
    {
     "name": "stdout",
     "output_type": "stream",
     "text": [
      "Press y if you want to enter names or n want to exit program: y\n",
      "Press y if you want to enter more names or n want to exit program: y\n",
      "New names: olarik\n",
      "Press y if you want to enter more names or n want to exit program: y\n",
      "New names: uma\n",
      "Press y if you want to enter more names or n want to exit program: n\n",
      "Exit Program, Thank you!!\n",
      "\n",
      "Your name lists: \n",
      "olarik\n",
      "uma\n"
     ]
    }
   ],
   "source": [
    "names = list()\n",
    "\n",
    "answer = raw_input('Press y if you want to enter names or n want to exit program: ')\n",
    "if answer == 'n':    \n",
    "    print 'Exit Program, Thank you!!'\n",
    "    chk = 'False'\n",
    "else:\n",
    "    chk = 'True'\n",
    "   \n",
    "while (chk == 'True'):\n",
    "    answer = raw_input('Press y if you want to enter more names or n want to exit program: ')\n",
    "    if answer == 'y':\n",
    "        name = raw_input('New names: ')\n",
    "        names.append(name)\n",
    "    elif answer == 'n':\n",
    "        print 'Exit Program, Thank you!!'\n",
    "        print('\\nYour name lists: ')\n",
    "        for name in names:\n",
    "            print(name)\n",
    "        break"
   ]
  },
  {
   "cell_type": "code",
   "execution_count": 48,
   "metadata": {},
   "outputs": [
    {
     "name": "stdout",
     "output_type": "stream",
     "text": [
      "You can guess 5 times\n",
      "Guess a number between 1 and 10: 1\n",
      "Guess a number between 1 and 10: 2\n",
      "Guess a number between 1 and 10: 4\n",
      "Guess a number between 1 and 10: 3\n",
      "Guess a number between 1 and 10: 5\n",
      "Time out!!\n",
      "Random number is  7\n"
     ]
    }
   ],
   "source": [
    "# Guess a number\n",
    "import random\n",
    "\n",
    "number = random.randint(1,10)\n",
    "\n",
    "guess_num = 0\n",
    "num = 5\n",
    "\n",
    "print 'You can guess', num, 'times'\n",
    "\n",
    "while guess_num < num:       \n",
    "    guess = int(input('Guess a number between 1 and 10: '))\n",
    "    \n",
    "    guess_num += 1\n",
    "    if guess_num >= num:\n",
    "        print 'Time out!!'\n",
    "        print 'Random number is ', number\n",
    "    \n",
    "    if guess == number:\n",
    "        print 'You Win!!'\n",
    "        break"
   ]
  },
  {
   "cell_type": "markdown",
   "metadata": {},
   "source": [
    "# exercise\n",
    "\n",
    "หากทายผิด ให้บอกว่าตัวเลขที่ random ขึ้นมานั้น มากกว่า หรือน้อยกว่า ตัวเลขที่เดา (Guess) และให้บอกช่วงที่ควรจะเดาใหม่ เช่น\n",
    "\n",
    "```\n",
    "You can guess 5 times\n",
    "Guess a number between 1 and 10: 5\n",
    "  The random number is higher than 5\n",
    "Guess a number between 6 and 10: 7\n",
    "You Win!!\n",
    "\n",
    "```"
   ]
  },
  {
   "cell_type": "code",
   "execution_count": 53,
   "metadata": {},
   "outputs": [
    {
     "name": "stdout",
     "output_type": "stream",
     "text": [
      "Guess a number between 6 and 10\n",
      "5\n"
     ]
    }
   ],
   "source": [
    "#hint\n",
    "max_num = 10\n",
    "guess_num = 5\n",
    "\n",
    "print('Guess a number between %d and %d'%(guess_num+1, max_num))\n",
    "guess = int(input())"
   ]
  }
 ],
 "metadata": {
  "kernelspec": {
   "display_name": "Python 2",
   "language": "python",
   "name": "python2"
  },
  "language_info": {
   "codemirror_mode": {
    "name": "ipython",
    "version": 2
   },
   "file_extension": ".py",
   "mimetype": "text/x-python",
   "name": "python",
   "nbconvert_exporter": "python",
   "pygments_lexer": "ipython2",
   "version": "2.7.12"
  }
 },
 "nbformat": 4,
 "nbformat_minor": 2
}
