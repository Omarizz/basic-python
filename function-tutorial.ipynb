{
  "nbformat": 4,
  "nbformat_minor": 0,
  "metadata": {
    "colab": {
      "name": "function.ipynb",
      "version": "0.3.2",
      "provenance": []
    },
    "kernelspec": {
      "name": "python3",
      "display_name": "Python 3"
    }
  },
  "cells": [
    {
      "metadata": {
        "id": "r1asCKdczJBi",
        "colab_type": "text"
      },
      "cell_type": "markdown",
      "source": [
        "**Function**\n",
        "\n",
        "การสร้างฟังก์ชัน (Function) ในโปรแกรมภาษาไพธอนนั้นจะใช้ keyword ในการสร้างคือ **def** ซึ่งมาจากคำว่า define"
      ]
    },
    {
      "metadata": {
        "id": "54w4IR7T0acd",
        "colab_type": "text"
      },
      "cell_type": "markdown",
      "source": [
        "**ฟังก์ชันแบบไม่ส่งค่าพารามิเตอร์**"
      ]
    },
    {
      "metadata": {
        "id": "VTfVhicPy_CW",
        "colab_type": "code",
        "colab": {}
      },
      "cell_type": "code",
      "source": [
        "# ฟังก์ชัน showName() เป็นฟังก์ชันที่ไม่มีการส่งค่าพารามิเตอร์ (passing parameter) \n",
        "\n",
        "# ฟังก์ชันชื่อ showName()\n",
        "def showName():\n",
        "  print('Olarik Surinta')\n",
        "  print('I\\'m lecturer')"
      ],
      "execution_count": 0,
      "outputs": []
    },
    {
      "metadata": {
        "id": "PZa6Y3y803fO",
        "colab_type": "text"
      },
      "cell_type": "markdown",
      "source": [
        "**ฟังก์ชันแบบที่มีการส่งค่าพารามิเตอร์**  "
      ]
    },
    {
      "metadata": {
        "id": "C4Z5hGF10FTW",
        "colab_type": "code",
        "colab": {}
      },
      "cell_type": "code",
      "source": [
        "# ฟังก์ชันชื่อ printName(name) สร้างขึ้นโดยให้ส่งค่าพารามิเตอร์ชื่อ name เข้าไปยังฟังก์ชัน\n",
        "def printName(name):\n",
        "  print('My name is ', name)"
      ],
      "execution_count": 0,
      "outputs": []
    },
    {
      "metadata": {
        "id": "DTCKcMTjz5eE",
        "colab_type": "text"
      },
      "cell_type": "markdown",
      "source": [
        "**การเรียกใช้ฟังก์ชัน - Calling a fuction**  \n",
        "การเรียกใช้ฟังก์ชันจะต้องดูประเภทของฟังก์ชันก่อนว่าเป็นประเภทไหน   \n",
        "เช่น เป็นฟังก์ชันแบบไม่ส่งค่าพารามิเตอร์ หรือฟังก์ชันแบบมีการส่งค่าพารามิเตอร์"
      ]
    },
    {
      "metadata": {
        "id": "hWG0vNALzhSf",
        "colab_type": "code",
        "outputId": "76dbfc4f-f426-4044-9477-e727b55e41c7",
        "colab": {
          "base_uri": "https://localhost:8080/",
          "height": 52
        }
      },
      "cell_type": "code",
      "source": [
        "# เรียกใช้ฟังก์ชันแบบไม่ส่งค่าพารามิเตอร์\n",
        "showName()"
      ],
      "execution_count": 0,
      "outputs": [
        {
          "output_type": "stream",
          "text": [
            "Olarik Surinta\n",
            "I'm lecturer\n"
          ],
          "name": "stdout"
        }
      ]
    },
    {
      "metadata": {
        "id": "pF7DGZSI1emF",
        "colab_type": "code",
        "outputId": "7f390b9e-cb97-4a87-b1f5-454e25f853d1",
        "colab": {
          "base_uri": "https://localhost:8080/",
          "height": 52
        }
      },
      "cell_type": "code",
      "source": [
        "# เรียกใช้ฟังก์ชันแบบมีการส่งค่าพารามิเตอร์\n",
        "\n",
        "printName('Olarik')\n",
        "\n",
        "name = 'Marco'\n",
        "printName(name)"
      ],
      "execution_count": 0,
      "outputs": [
        {
          "output_type": "stream",
          "text": [
            "My name is  Olarik\n",
            "My name is  Marco\n"
          ],
          "name": "stdout"
        }
      ]
    },
    {
      "metadata": {
        "id": "zxNis2U32fg7",
        "colab_type": "text"
      },
      "cell_type": "markdown",
      "source": [
        "**ฟังก์ชันแบบกำหนดค่าเริ่มต้นของพารามิเตอร์ - default parameter value**  \n",
        "ฟังก์ชันแบบกำหนดค่าเริ่มต้นของพารามิเตอร์ ทำได้โดยกำหนดค่าเริ่มต้นของพารามิเตอร์ (หรือตัวแปร) ไว้ที่จุดเริ่มต้นของฟังก์ชัน"
      ]
    },
    {
      "metadata": {
        "id": "STlluKyj2R9Y",
        "colab_type": "code",
        "colab": {}
      },
      "cell_type": "code",
      "source": [
        "# สร้างฟังก์ชันชื่อ fromCountry โดยกำหนดให้มี default parameter คือ name \n",
        "# และกำหนดให้พารามิเตอร์ name มีค่าเป็น 'Thailand'\n",
        "\n",
        "def fromCountry(name = 'Thailand'):\n",
        "  print('I come from', name)"
      ],
      "execution_count": 0,
      "outputs": []
    },
    {
      "metadata": {
        "id": "XSC3g6Fv3FZY",
        "colab_type": "code",
        "outputId": "048d95cc-8d8f-4c7a-ea47-a71ae12d99b5",
        "colab": {
          "base_uri": "https://localhost:8080/",
          "height": 36
        }
      },
      "cell_type": "code",
      "source": [
        "# เรียกใช้ฟังก์ชัน fromCountry โดยส่งค่า 'Norway'\n",
        "\n",
        "fromCountry('Norway')"
      ],
      "execution_count": 0,
      "outputs": [
        {
          "output_type": "stream",
          "text": [
            "I come from Norway\n"
          ],
          "name": "stdout"
        }
      ]
    },
    {
      "metadata": {
        "id": "-gLPu9Cz3IVB",
        "colab_type": "code",
        "outputId": "c2566556-a1d2-4d16-e998-2bbaefc33635",
        "colab": {
          "base_uri": "https://localhost:8080/",
          "height": 36
        }
      },
      "cell_type": "code",
      "source": [
        "# เรียกใช้ฟังก์ชัน fromCountry โดยไม่ส่งค่าเข้าไปยังฟังก์ชัน\n",
        "# ในกรณีนี้จะแสดงค่า default ซึ่งก็คือ 'Thailand'\n",
        "\n",
        "fromCountry()"
      ],
      "execution_count": 0,
      "outputs": [
        {
          "output_type": "stream",
          "text": [
            "I come from Thailand\n"
          ],
          "name": "stdout"
        }
      ]
    },
    {
      "metadata": {
        "id": "HwMb1S9A3Kf3",
        "colab_type": "code",
        "outputId": "df62b8c0-b593-4893-e479-ff1246ab737e",
        "colab": {
          "base_uri": "https://localhost:8080/",
          "height": 36
        }
      },
      "cell_type": "code",
      "source": [
        "# เรียกใช้ฟังก์ชัน fromCountry โดยส่งค่า name = 'UK' เข้าไปยังฟังก์ชัน\n",
        "# ซึ่งพารามิเตอร์ชื่อ name ตรงกับที่กำหนดไว้ตั้งแต่การตั้งค่าฟังก์ชัน\n",
        "\n",
        "fromCountry(name = 'UK')"
      ],
      "execution_count": 0,
      "outputs": [
        {
          "output_type": "stream",
          "text": [
            "I come from UK\n"
          ],
          "name": "stdout"
        }
      ]
    },
    {
      "metadata": {
        "id": "UdFcfrnb3R3D",
        "colab_type": "code",
        "outputId": "9216ead1-01b9-4894-f91d-52a07e637f60",
        "colab": {
          "base_uri": "https://localhost:8080/",
          "height": 185
        }
      },
      "cell_type": "code",
      "source": [
        "# เรียกใช้ฟังก์ชัน fromCountry โดยส่งค่า country = 'US' เข้าไปยังฟังก์ชัน\n",
        "# ซึ่งพารามิเตอร์ชื่อ country ไม่ตรงกับที่กำหนดไว้ตั้งแต่การตั้งค่าฟังก์ชัน ทำให้เกิด error\n",
        "\n",
        "fromCountry(country = 'US')"
      ],
      "execution_count": 0,
      "outputs": [
        {
          "output_type": "error",
          "ename": "TypeError",
          "evalue": "ignored",
          "traceback": [
            "\u001b[0;31m---------------------------------------------------------------------------\u001b[0m",
            "\u001b[0;31mTypeError\u001b[0m                                 Traceback (most recent call last)",
            "\u001b[0;32m<ipython-input-25-251d0ddd0b38>\u001b[0m in \u001b[0;36m<module>\u001b[0;34m()\u001b[0m\n\u001b[1;32m      1\u001b[0m \u001b[0;34m\u001b[0m\u001b[0m\n\u001b[0;32m----> 2\u001b[0;31m \u001b[0mfromCountry\u001b[0m\u001b[0;34m(\u001b[0m\u001b[0mcountry\u001b[0m \u001b[0;34m=\u001b[0m \u001b[0;34m'US'\u001b[0m\u001b[0;34m)\u001b[0m\u001b[0;34m\u001b[0m\u001b[0;34m\u001b[0m\u001b[0m\n\u001b[0m",
            "\u001b[0;31mTypeError\u001b[0m: fromCountry() got an unexpected keyword argument 'country'"
          ]
        }
      ]
    },
    {
      "metadata": {
        "id": "g_9lXPLF4Tp8",
        "colab_type": "text"
      },
      "cell_type": "markdown",
      "source": [
        "**ฟังก์ชันแบบกำหนดให้ส่งค่าได้หลายพารามิเตอร์  **  \n",
        "ฟังก์ชันสามารถกำหนดให้รับค่าได้หลายพารามิเตอร์ในการเรียกใช้หนึ่งครั้ง  \n"
      ]
    },
    {
      "metadata": {
        "id": "Fh3ZnLTv3U4b",
        "colab_type": "code",
        "colab": {}
      },
      "cell_type": "code",
      "source": [
        "def printUserInfo(name, surname, age, country):\n",
        "  print('Hello!')\n",
        "  print('My name is', name, surname)\n",
        "  print('I\\'m', age, 'years old')\n",
        "  print('I come from', country)"
      ],
      "execution_count": 0,
      "outputs": []
    },
    {
      "metadata": {
        "id": "Bi7aXlYKC1Wj",
        "colab_type": "code",
        "colab": {
          "base_uri": "https://localhost:8080/",
          "height": 86
        },
        "outputId": "b3662318-786b-4d14-9283-47bd47f1c8ef"
      },
      "cell_type": "code",
      "source": [
        "printUserInfo('olarik', 'surinta', 40, 'Thailand')"
      ],
      "execution_count": 7,
      "outputs": [
        {
          "output_type": "stream",
          "text": [
            "Hello!\n",
            "My name is olarik surinta\n",
            "I'm 40 years old\n",
            "I come from Thailand\n"
          ],
          "name": "stdout"
        }
      ]
    },
    {
      "metadata": {
        "id": "NXIS7POQE6Ae",
        "colab_type": "text"
      },
      "cell_type": "markdown",
      "source": [
        "**ลำดับของพารามิเตอร์ที่ส่งไปยังฟังก์ชัน**  \n",
        "ในกรณีที่กำหนดให้ฟังก์ชันมีค่าเริ่มต้น เช่น   \n",
        "  \n",
        "\n",
        "```\n",
        "def printInfo(city='Maha Sarakham', country='Thailand'):\n",
        "```\n",
        "  \n",
        " จากกรณีข้างต้น ผู้ใช้สามารถส่งพารามิเตอร์เข้าไปยังฟังก์ชันโดยสลับตำแหน่งของพารามิเตอร์ได้  \n",
        " แต่ในการส่งค่าพารามิเตอร์จะต้องกำหนดชื่อของพารามิเตอร์ด้วยทุกครั้ง\n",
        "\n"
      ]
    },
    {
      "metadata": {
        "id": "XMk59WumE4xu",
        "colab_type": "code",
        "colab": {}
      },
      "cell_type": "code",
      "source": [
        "def cityInfo(city='Maha Sarakham', country='Thailand'):\n",
        "  print('I come from', city, ',', country)"
      ],
      "execution_count": 0,
      "outputs": []
    },
    {
      "metadata": {
        "id": "8_KtywxqGHfi",
        "colab_type": "code",
        "colab": {
          "base_uri": "https://localhost:8080/",
          "height": 52
        },
        "outputId": "96201b38-efb7-47f6-a709-40dd15f546c8"
      },
      "cell_type": "code",
      "source": [
        "# calling fucntion\n",
        "cityInfo(country='UK', city='Liverpool')\n",
        "\n",
        "cityInfo(city='New York', country='US')"
      ],
      "execution_count": 15,
      "outputs": [
        {
          "output_type": "stream",
          "text": [
            "I come from Liverpool , UK\n",
            "I come from New York , US\n"
          ],
          "name": "stdout"
        }
      ]
    },
    {
      "metadata": {
        "id": "ZZAbZTTgCfsy",
        "colab_type": "text"
      },
      "cell_type": "markdown",
      "source": [
        "**ฟังก์ชันแบบคืนค่าพารามิเตอร์ - return**"
      ]
    },
    {
      "metadata": {
        "id": "UZ43UlfsChjt",
        "colab_type": "code",
        "colab": {}
      },
      "cell_type": "code",
      "source": [
        "# ตัวอย่างฟังก์ชันการแปลงองศาเซลเซียสเป็นฟาเรนไฮต์\n",
        "def cel2fah(celsius):  \n",
        "  fahrenheit = ((9.0/5.0) * celsius) + 32\n",
        "  \n",
        "  # การคืนค่า - return\n",
        "  return fahrenheit\n",
        "\n",
        "# ตัวอย่างฟังก์ชันการแปลงองศาฟาเรนไฮต์เป็นเซลเซียส\n",
        "def fah2cel(fahrenheit):\n",
        "  celsius = (fahrenheit - 32) * (5.0/9.0)\n",
        "  \n",
        "  return celsius"
      ],
      "execution_count": 0,
      "outputs": []
    },
    {
      "metadata": {
        "id": "3z1JSDuwIVIe",
        "colab_type": "code",
        "colab": {
          "base_uri": "https://localhost:8080/",
          "height": 52
        },
        "outputId": "c65bc426-3b9f-42ac-b00b-f8569a5e954b"
      },
      "cell_type": "code",
      "source": [
        "celsius = 32.22\n",
        "print('Temperature: ', celsius, 'Celsius = ', cel2fah(celsius), 'F')\n",
        "\n",
        "fahrenheit = 90\n",
        "print('Temperature: ', fahrenheit, 'Fahrenheit = ', fah2cel(fahrenheit), 'C')\n",
        "\n"
      ],
      "execution_count": 26,
      "outputs": [
        {
          "output_type": "stream",
          "text": [
            "Temperature:  32.22 Celsius =  89.99600000000001 F\n",
            "Temperature:  90 Fahrenheit =  32.22222222222222 C\n"
          ],
          "name": "stdout"
        }
      ]
    },
    {
      "metadata": {
        "id": "ICwBfaaoMSzG",
        "colab_type": "text"
      },
      "cell_type": "markdown",
      "source": [
        "**การ return มากกว่า 1 ค่า**"
      ]
    },
    {
      "metadata": {
        "id": "FSrmNUTvIWwN",
        "colab_type": "code",
        "colab": {}
      },
      "cell_type": "code",
      "source": [
        "def cityInfo(city):\n",
        "  if(city == 'Bangkok'):\n",
        "    population = '9M.'\n",
        "    area = '1569 square km.'\n",
        "  elif(city == 'London'):\n",
        "    population = '8.2M.'\n",
        "    area = '1572 square km.'\n",
        "  else:\n",
        "    population = 'None'\n",
        "    area = 'None'\n",
        "  \n",
        "  return population, area"
      ],
      "execution_count": 0,
      "outputs": []
    },
    {
      "metadata": {
        "id": "v0ryZLRGNwK6",
        "colab_type": "code",
        "colab": {
          "base_uri": "https://localhost:8080/",
          "height": 52
        },
        "outputId": "545220f2-8407-4214-b765-1941e1a08287"
      },
      "cell_type": "code",
      "source": [
        "city = 'London'\n",
        "population, area = cityInfo(city)\n",
        "\n",
        "print('Area of', city, 'is', area)\n",
        "print('Number of population in', city, 'is', population)"
      ],
      "execution_count": 53,
      "outputs": [
        {
          "output_type": "stream",
          "text": [
            "Area of London is 1572 square km.\n",
            "Number of population in London is 8.2M.\n"
          ],
          "name": "stdout"
        }
      ]
    },
    {
      "metadata": {
        "id": "T88jLxxaNyvZ",
        "colab_type": "code",
        "colab": {
          "base_uri": "https://localhost:8080/",
          "height": 52
        },
        "outputId": "4c57728f-f5b1-44df-cd8a-926a0cd856b6"
      },
      "cell_type": "code",
      "source": [
        "city = 'Bangkok'\n",
        "population, area = cityInfo(city)\n",
        "\n",
        "print('Area of', city, 'is', area)\n",
        "print('Number of population in', city, 'is', population)"
      ],
      "execution_count": 55,
      "outputs": [
        {
          "output_type": "stream",
          "text": [
            "Area of Bangkok is 1569 square km.\n",
            "Number of population in Bangkok is 9M.\n"
          ],
          "name": "stdout"
        }
      ]
    },
    {
      "metadata": {
        "id": "FqRIF7dtOvKu",
        "colab_type": "code",
        "colab": {}
      },
      "cell_type": "code",
      "source": [
        ""
      ],
      "execution_count": 0,
      "outputs": []
    }
  ]
}